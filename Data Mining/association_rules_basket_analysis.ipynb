{
 "cells": [
  {
   "cell_type": "markdown",
   "metadata": {},
   "source": [
    "# Practice Session 04: Basket analysis"
   ]
  },
  {
   "cell_type": "markdown",
   "metadata": {},
   "source": [
    "Association rule mining techniques are useful to find common patterns of items in large data sets. One specific application called **market basket analysis** is useful for online shops because if we know that item A and B are bought together frequently, we can design new actions to increase the profit as:\n",
    "\n",
    "- A and B can be placed together so that when a customer buys one of the product he doesn't have to go far away to buy the other product.\n",
    "- People who buy one of the products can be targeted through an advertisement campaign to buy the other.\n",
    "- Collective discounts can be offered on these products if the customer buys both of them.\n",
    "- Both A and B can be packaged together."
   ]
  },
  {
   "cell_type": "markdown",
   "metadata": {},
   "source": [
    "# 0. Preliminaries"
   ]
  },
  {
   "cell_type": "markdown",
   "metadata": {},
   "source": [
    "## 0.1. Dataset"
   ]
  },
  {
   "cell_type": "markdown",
   "metadata": {},
   "source": [
    "In this practice we are using a dataset contained in `dataset_associationrules.csv` with 1000 customers that purchased up to 8 different services from a portfolio of a Big Internet Player. The portfolio includes:\n",
    "\n",
    "- Web hosting\n",
    "- Office suite that includes email, Office tools as docs, excels and presentation\n",
    "- Security solutions to protect cyber-attacks\n",
    "- Cloud sub-product: infrastructure as a service\n",
    "- Cloud sub-product: platform as a service\n",
    "- Content Management as Wordpress, Joomla!, Drupal, etc....\n",
    "- Chatbot for customer care\n",
    "- Advertising\n",
    "\n",
    "Each record (row) corresponds to a company and each column represents one of the products from the portfolio and can take the value 1 if the product was purchased or 0 if it was not."
   ]
  },
  {
   "cell_type": "markdown",
   "metadata": {},
   "source": [
    "## 0.2. Imports"
   ]
  },
  {
   "cell_type": "code",
   "execution_count": 1,
   "metadata": {},
   "outputs": [],
   "source": [
    "import numpy as np  \n",
    "import matplotlib.pyplot as plt  \n",
    "import pandas as pd  \n",
    "from apyori import apriori"
   ]
  },
  {
   "cell_type": "markdown",
   "metadata": {},
   "source": [
    "## 0.3. Load the data"
   ]
  },
  {
   "cell_type": "markdown",
   "metadata": {},
   "source": [
    "Open the csv with separator \",\" and assign to a dataframe variable (use read_csv from Pandas library)"
   ]
  },
  {
   "cell_type": "code",
   "execution_count": 2,
   "metadata": {},
   "outputs": [
    {
     "data": {
      "text/html": [
       "<div>\n",
       "<style scoped>\n",
       "    .dataframe tbody tr th:only-of-type {\n",
       "        vertical-align: middle;\n",
       "    }\n",
       "\n",
       "    .dataframe tbody tr th {\n",
       "        vertical-align: top;\n",
       "    }\n",
       "\n",
       "    .dataframe thead th {\n",
       "        text-align: right;\n",
       "    }\n",
       "</style>\n",
       "<table border=\"1\" class=\"dataframe\">\n",
       "  <thead>\n",
       "    <tr style=\"text-align: right;\">\n",
       "      <th></th>\n",
       "      <th>ID_customer</th>\n",
       "      <th>WEBHOSTING</th>\n",
       "      <th>OFFICESUITE</th>\n",
       "      <th>SECURITY</th>\n",
       "      <th>CLOUD_IAAS</th>\n",
       "      <th>CLOUD_PAAS</th>\n",
       "      <th>CONTENTMGM</th>\n",
       "      <th>CHATBOT</th>\n",
       "      <th>ADVERTISING</th>\n",
       "    </tr>\n",
       "  </thead>\n",
       "  <tbody>\n",
       "    <tr>\n",
       "      <th>0</th>\n",
       "      <td>0</td>\n",
       "      <td>0</td>\n",
       "      <td>0</td>\n",
       "      <td>1</td>\n",
       "      <td>0</td>\n",
       "      <td>0</td>\n",
       "      <td>0</td>\n",
       "      <td>0</td>\n",
       "      <td>0</td>\n",
       "    </tr>\n",
       "    <tr>\n",
       "      <th>1</th>\n",
       "      <td>1</td>\n",
       "      <td>0</td>\n",
       "      <td>1</td>\n",
       "      <td>1</td>\n",
       "      <td>0</td>\n",
       "      <td>0</td>\n",
       "      <td>0</td>\n",
       "      <td>0</td>\n",
       "      <td>0</td>\n",
       "    </tr>\n",
       "    <tr>\n",
       "      <th>2</th>\n",
       "      <td>2</td>\n",
       "      <td>1</td>\n",
       "      <td>0</td>\n",
       "      <td>1</td>\n",
       "      <td>0</td>\n",
       "      <td>0</td>\n",
       "      <td>1</td>\n",
       "      <td>0</td>\n",
       "      <td>0</td>\n",
       "    </tr>\n",
       "    <tr>\n",
       "      <th>3</th>\n",
       "      <td>3</td>\n",
       "      <td>0</td>\n",
       "      <td>0</td>\n",
       "      <td>1</td>\n",
       "      <td>0</td>\n",
       "      <td>0</td>\n",
       "      <td>0</td>\n",
       "      <td>0</td>\n",
       "      <td>0</td>\n",
       "    </tr>\n",
       "    <tr>\n",
       "      <th>4</th>\n",
       "      <td>4</td>\n",
       "      <td>1</td>\n",
       "      <td>1</td>\n",
       "      <td>1</td>\n",
       "      <td>0</td>\n",
       "      <td>0</td>\n",
       "      <td>1</td>\n",
       "      <td>0</td>\n",
       "      <td>0</td>\n",
       "    </tr>\n",
       "  </tbody>\n",
       "</table>\n",
       "</div>"
      ],
      "text/plain": [
       "   ID_customer  WEBHOSTING  OFFICESUITE  SECURITY  CLOUD_IAAS  CLOUD_PAAS  \\\n",
       "0            0           0            0         1           0           0   \n",
       "1            1           0            1         1           0           0   \n",
       "2            2           1            0         1           0           0   \n",
       "3            3           0            0         1           0           0   \n",
       "4            4           1            1         1           0           0   \n",
       "\n",
       "   CONTENTMGM  CHATBOT  ADVERTISING  \n",
       "0           0        0            0  \n",
       "1           0        0            0  \n",
       "2           1        0            0  \n",
       "3           0        0            0  \n",
       "4           1        0            0  "
      ]
     },
     "execution_count": 2,
     "metadata": {},
     "output_type": "execute_result"
    }
   ],
   "source": [
    "dataset=pd.read_csv(\"Datasets/dataset_associationrules.csv\", sep=\",\")\n",
    "dataset.head().to_excel(\"Tables/head.xlsx\")\n",
    "dataset.head()"
   ]
  },
  {
   "cell_type": "markdown",
   "metadata": {},
   "source": [
    "## 0.4. The Apriori Algorithm in a nutshell\n",
    "There are three major components of Apriori algorithm:\n",
    "\n",
    "- Support: refers to the default popularity of an item and can be calculated by finding number of transactions containing a particular item divided by total number of transactions. Suppose we want to find support for item A. This can be calculated as:<br>\n",
    "\n",
    "\n",
    "<center> **Support(A) = (Transactions containing (A))/(Total Transactions)** </center>\n",
    "\n",
    "- Confidence: refers to the likelihood that an item B is also bought if item A is bought. It can be calculated by finding the number of transactions where A and B are bought together, divided by total number of transactions where A is bought. Mathematically, it can be represented as:<br>\n",
    "\n",
    "<center>**Confidence(A→B) = (Transactions containing both (A and B))/(Transactions containing A)**</center>\n",
    "\n",
    "\n",
    "- Lift: Lift(A -> B) refers to the increase in the ratio of sale of B when A is sold. Lift(A –> B) can be calculated by dividing Confidence(A -> B) divided by Support(B). Mathematically it can be represented as:<br>\n",
    "\n",
    "<center>**Lift(A→B) = (Confidence (A→B))/(Support (B))**</center>\n",
    "\n",
    "<UL> A Lift of 1 means there is no association between products A and B. Lift of greater than 1 means products A and B are more likely to be bought together. Finally, Lift of less than 1 refers to the case where two products are unlikely to be bought together.</UL>"
   ]
  },
  {
   "cell_type": "markdown",
   "metadata": {},
   "source": [
    "# 1. Apriori algorithm"
   ]
  },
  {
   "cell_type": "markdown",
   "metadata": {},
   "source": [
    "## 1.1. Exploratory data analysis"
   ]
  },
  {
   "cell_type": "markdown",
   "metadata": {},
   "source": [
    "[**REPORT**] Plot the head with top 5 registers"
   ]
  },
  {
   "cell_type": "code",
   "execution_count": 3,
   "metadata": {},
   "outputs": [
    {
     "data": {
      "text/html": [
       "<div>\n",
       "<style scoped>\n",
       "    .dataframe tbody tr th:only-of-type {\n",
       "        vertical-align: middle;\n",
       "    }\n",
       "\n",
       "    .dataframe tbody tr th {\n",
       "        vertical-align: top;\n",
       "    }\n",
       "\n",
       "    .dataframe thead th {\n",
       "        text-align: right;\n",
       "    }\n",
       "</style>\n",
       "<table border=\"1\" class=\"dataframe\">\n",
       "  <thead>\n",
       "    <tr style=\"text-align: right;\">\n",
       "      <th></th>\n",
       "      <th>ID_customer</th>\n",
       "      <th>WEBHOSTING</th>\n",
       "      <th>OFFICESUITE</th>\n",
       "      <th>SECURITY</th>\n",
       "      <th>CLOUD_IAAS</th>\n",
       "      <th>CLOUD_PAAS</th>\n",
       "      <th>CONTENTMGM</th>\n",
       "      <th>CHATBOT</th>\n",
       "      <th>ADVERTISING</th>\n",
       "    </tr>\n",
       "  </thead>\n",
       "  <tbody>\n",
       "    <tr>\n",
       "      <th>0</th>\n",
       "      <td>0</td>\n",
       "      <td>0</td>\n",
       "      <td>0</td>\n",
       "      <td>1</td>\n",
       "      <td>0</td>\n",
       "      <td>0</td>\n",
       "      <td>0</td>\n",
       "      <td>0</td>\n",
       "      <td>0</td>\n",
       "    </tr>\n",
       "    <tr>\n",
       "      <th>1</th>\n",
       "      <td>1</td>\n",
       "      <td>0</td>\n",
       "      <td>1</td>\n",
       "      <td>1</td>\n",
       "      <td>0</td>\n",
       "      <td>0</td>\n",
       "      <td>0</td>\n",
       "      <td>0</td>\n",
       "      <td>0</td>\n",
       "    </tr>\n",
       "    <tr>\n",
       "      <th>2</th>\n",
       "      <td>2</td>\n",
       "      <td>1</td>\n",
       "      <td>0</td>\n",
       "      <td>1</td>\n",
       "      <td>0</td>\n",
       "      <td>0</td>\n",
       "      <td>1</td>\n",
       "      <td>0</td>\n",
       "      <td>0</td>\n",
       "    </tr>\n",
       "    <tr>\n",
       "      <th>3</th>\n",
       "      <td>3</td>\n",
       "      <td>0</td>\n",
       "      <td>0</td>\n",
       "      <td>1</td>\n",
       "      <td>0</td>\n",
       "      <td>0</td>\n",
       "      <td>0</td>\n",
       "      <td>0</td>\n",
       "      <td>0</td>\n",
       "    </tr>\n",
       "    <tr>\n",
       "      <th>4</th>\n",
       "      <td>4</td>\n",
       "      <td>1</td>\n",
       "      <td>1</td>\n",
       "      <td>1</td>\n",
       "      <td>0</td>\n",
       "      <td>0</td>\n",
       "      <td>1</td>\n",
       "      <td>0</td>\n",
       "      <td>0</td>\n",
       "    </tr>\n",
       "  </tbody>\n",
       "</table>\n",
       "</div>"
      ],
      "text/plain": [
       "   ID_customer  WEBHOSTING  OFFICESUITE  SECURITY  CLOUD_IAAS  CLOUD_PAAS  \\\n",
       "0            0           0            0         1           0           0   \n",
       "1            1           0            1         1           0           0   \n",
       "2            2           1            0         1           0           0   \n",
       "3            3           0            0         1           0           0   \n",
       "4            4           1            1         1           0           0   \n",
       "\n",
       "   CONTENTMGM  CHATBOT  ADVERTISING  \n",
       "0           0        0            0  \n",
       "1           0        0            0  \n",
       "2           1        0            0  \n",
       "3           0        0            0  \n",
       "4           1        0            0  "
      ]
     },
     "execution_count": 3,
     "metadata": {},
     "output_type": "execute_result"
    }
   ],
   "source": [
    "dataset.head()"
   ]
  },
  {
   "cell_type": "markdown",
   "metadata": {},
   "source": [
    "[**REPORT**] Evaluate the dimension of the dataset and the type of the given variables (float, string, integer, etc.)."
   ]
  },
  {
   "cell_type": "code",
   "execution_count": 4,
   "metadata": {},
   "outputs": [
    {
     "name": "stdout",
     "output_type": "stream",
     "text": [
      "The Dataset have the following size: (1000, 9)\n",
      "<class 'pandas.core.frame.DataFrame'>\n",
      "RangeIndex: 1000 entries, 0 to 999\n",
      "Data columns (total 9 columns):\n",
      "ID_customer    1000 non-null int64\n",
      "WEBHOSTING     1000 non-null int64\n",
      "OFFICESUITE    1000 non-null int64\n",
      "SECURITY       1000 non-null int64\n",
      "CLOUD_IAAS     1000 non-null int64\n",
      "CLOUD_PAAS     1000 non-null int64\n",
      "CONTENTMGM     1000 non-null int64\n",
      "CHATBOT        1000 non-null int64\n",
      "ADVERTISING    1000 non-null int64\n",
      "dtypes: int64(9)\n",
      "memory usage: 70.4 KB\n",
      "The types are the following:\n",
      " None\n"
     ]
    }
   ],
   "source": [
    "print('The Dataset have the following size:', dataset.shape)\n",
    "print('The types are the following:\\n', dataset.info())"
   ]
  },
  {
   "cell_type": "markdown",
   "metadata": {},
   "source": [
    "Different statistical algorithms have been developed to implement association rule mining where Apriori is one such algorithm. In this practice we will focus on Apriori algorithm  will later apply to our dataset."
   ]
  },
  {
   "cell_type": "markdown",
   "metadata": {},
   "source": [
    "Now we will use one existing Apriori algorithm from [apyori library](https://pypi.org/project/apyori/) to find out which products are commonly sold together."
   ]
  },
  {
   "cell_type": "markdown",
   "metadata": {},
   "source": [
    "*Note: In case of this apriori library is not already installed in your laptop, you can install it with: `pip install apyori`*"
   ]
  },
  {
   "cell_type": "markdown",
   "metadata": {},
   "source": [
    "## 1.2. Data preparation"
   ]
  },
  {
   "cell_type": "markdown",
   "metadata": {},
   "source": [
    "The **Apriori** library we are going to use requires our dataset to be in the form of a list of lists where each element is a product sold.\n",
    "However, our dataset is in the form of a pandas dataframe where each row represents a customer and each column takes value 1 if it was sold to the customer or 0 if it wasn't. Therefore, we need to 1st) replace \"1\"s by the name of the product and 2nd) to convert the dataframe into a list of lists."
   ]
  },
  {
   "cell_type": "markdown",
   "metadata": {},
   "source": [
    "[**CODE**] Replace \"1\"s by product names"
   ]
  },
  {
   "cell_type": "code",
   "execution_count": 5,
   "metadata": {},
   "outputs": [],
   "source": [
    "for column_name in list(dataset.columns):\n",
    "    dataset[column_name] = dataset[column_name].replace(1, column_name)"
   ]
  },
  {
   "cell_type": "markdown",
   "metadata": {},
   "source": [
    "[**CODE**] Besides, the **Apriori** algorithm does not need the **customer_ID** variable. Remove the column with **customer_ID**"
   ]
  },
  {
   "cell_type": "code",
   "execution_count": 6,
   "metadata": {},
   "outputs": [
    {
     "data": {
      "text/html": [
       "<div>\n",
       "<style scoped>\n",
       "    .dataframe tbody tr th:only-of-type {\n",
       "        vertical-align: middle;\n",
       "    }\n",
       "\n",
       "    .dataframe tbody tr th {\n",
       "        vertical-align: top;\n",
       "    }\n",
       "\n",
       "    .dataframe thead th {\n",
       "        text-align: right;\n",
       "    }\n",
       "</style>\n",
       "<table border=\"1\" class=\"dataframe\">\n",
       "  <thead>\n",
       "    <tr style=\"text-align: right;\">\n",
       "      <th></th>\n",
       "      <th>WEBHOSTING</th>\n",
       "      <th>OFFICESUITE</th>\n",
       "      <th>SECURITY</th>\n",
       "      <th>CLOUD_IAAS</th>\n",
       "      <th>CLOUD_PAAS</th>\n",
       "      <th>CONTENTMGM</th>\n",
       "      <th>CHATBOT</th>\n",
       "      <th>ADVERTISING</th>\n",
       "    </tr>\n",
       "  </thead>\n",
       "  <tbody>\n",
       "    <tr>\n",
       "      <th>0</th>\n",
       "      <td>0</td>\n",
       "      <td>0</td>\n",
       "      <td>SECURITY</td>\n",
       "      <td>0</td>\n",
       "      <td>0</td>\n",
       "      <td>0</td>\n",
       "      <td>0</td>\n",
       "      <td>0</td>\n",
       "    </tr>\n",
       "    <tr>\n",
       "      <th>1</th>\n",
       "      <td>0</td>\n",
       "      <td>OFFICESUITE</td>\n",
       "      <td>SECURITY</td>\n",
       "      <td>0</td>\n",
       "      <td>0</td>\n",
       "      <td>0</td>\n",
       "      <td>0</td>\n",
       "      <td>0</td>\n",
       "    </tr>\n",
       "    <tr>\n",
       "      <th>2</th>\n",
       "      <td>WEBHOSTING</td>\n",
       "      <td>0</td>\n",
       "      <td>SECURITY</td>\n",
       "      <td>0</td>\n",
       "      <td>0</td>\n",
       "      <td>CONTENTMGM</td>\n",
       "      <td>0</td>\n",
       "      <td>0</td>\n",
       "    </tr>\n",
       "    <tr>\n",
       "      <th>3</th>\n",
       "      <td>0</td>\n",
       "      <td>0</td>\n",
       "      <td>SECURITY</td>\n",
       "      <td>0</td>\n",
       "      <td>0</td>\n",
       "      <td>0</td>\n",
       "      <td>0</td>\n",
       "      <td>0</td>\n",
       "    </tr>\n",
       "    <tr>\n",
       "      <th>4</th>\n",
       "      <td>WEBHOSTING</td>\n",
       "      <td>OFFICESUITE</td>\n",
       "      <td>SECURITY</td>\n",
       "      <td>0</td>\n",
       "      <td>0</td>\n",
       "      <td>CONTENTMGM</td>\n",
       "      <td>0</td>\n",
       "      <td>0</td>\n",
       "    </tr>\n",
       "  </tbody>\n",
       "</table>\n",
       "</div>"
      ],
      "text/plain": [
       "   WEBHOSTING  OFFICESUITE  SECURITY CLOUD_IAAS CLOUD_PAAS  CONTENTMGM  \\\n",
       "0           0            0  SECURITY          0          0           0   \n",
       "1           0  OFFICESUITE  SECURITY          0          0           0   \n",
       "2  WEBHOSTING            0  SECURITY          0          0  CONTENTMGM   \n",
       "3           0            0  SECURITY          0          0           0   \n",
       "4  WEBHOSTING  OFFICESUITE  SECURITY          0          0  CONTENTMGM   \n",
       "\n",
       "   CHATBOT ADVERTISING  \n",
       "0        0           0  \n",
       "1        0           0  \n",
       "2        0           0  \n",
       "3        0           0  \n",
       "4        0           0  "
      ]
     },
     "execution_count": 6,
     "metadata": {},
     "output_type": "execute_result"
    }
   ],
   "source": [
    "#MY OUTPUT\n",
    "dataset.drop(['ID_customer'], axis=1, inplace=True)\n",
    "dataset.head()"
   ]
  },
  {
   "cell_type": "markdown",
   "metadata": {},
   "source": [
    "At this point, your dataset should look like this:"
   ]
  },
  {
   "cell_type": "code",
   "execution_count": 7,
   "metadata": {},
   "outputs": [
    {
     "data": {
      "text/html": [
       "<div>\n",
       "<style scoped>\n",
       "    .dataframe tbody tr th:only-of-type {\n",
       "        vertical-align: middle;\n",
       "    }\n",
       "\n",
       "    .dataframe tbody tr th {\n",
       "        vertical-align: top;\n",
       "    }\n",
       "\n",
       "    .dataframe thead th {\n",
       "        text-align: right;\n",
       "    }\n",
       "</style>\n",
       "<table border=\"1\" class=\"dataframe\">\n",
       "  <thead>\n",
       "    <tr style=\"text-align: right;\">\n",
       "      <th></th>\n",
       "      <th>WEBHOSTING</th>\n",
       "      <th>OFFICESUITE</th>\n",
       "      <th>SECURITY</th>\n",
       "      <th>CLOUD_IAAS</th>\n",
       "      <th>CLOUD_PAAS</th>\n",
       "      <th>CONTENTMGM</th>\n",
       "      <th>CHATBOT</th>\n",
       "      <th>ADVERTISING</th>\n",
       "    </tr>\n",
       "  </thead>\n",
       "  <tbody>\n",
       "    <tr>\n",
       "      <th>0</th>\n",
       "      <td>0</td>\n",
       "      <td>0</td>\n",
       "      <td>SECURITY</td>\n",
       "      <td>0</td>\n",
       "      <td>0</td>\n",
       "      <td>0</td>\n",
       "      <td>0</td>\n",
       "      <td>0</td>\n",
       "    </tr>\n",
       "    <tr>\n",
       "      <th>1</th>\n",
       "      <td>0</td>\n",
       "      <td>OFFICESUITE</td>\n",
       "      <td>SECURITY</td>\n",
       "      <td>0</td>\n",
       "      <td>0</td>\n",
       "      <td>0</td>\n",
       "      <td>0</td>\n",
       "      <td>0</td>\n",
       "    </tr>\n",
       "    <tr>\n",
       "      <th>2</th>\n",
       "      <td>WEBHOSTING</td>\n",
       "      <td>0</td>\n",
       "      <td>SECURITY</td>\n",
       "      <td>0</td>\n",
       "      <td>0</td>\n",
       "      <td>CONTENTMGM</td>\n",
       "      <td>0</td>\n",
       "      <td>0</td>\n",
       "    </tr>\n",
       "    <tr>\n",
       "      <th>3</th>\n",
       "      <td>0</td>\n",
       "      <td>0</td>\n",
       "      <td>SECURITY</td>\n",
       "      <td>0</td>\n",
       "      <td>0</td>\n",
       "      <td>0</td>\n",
       "      <td>0</td>\n",
       "      <td>0</td>\n",
       "    </tr>\n",
       "    <tr>\n",
       "      <th>4</th>\n",
       "      <td>WEBHOSTING</td>\n",
       "      <td>OFFICESUITE</td>\n",
       "      <td>SECURITY</td>\n",
       "      <td>0</td>\n",
       "      <td>0</td>\n",
       "      <td>CONTENTMGM</td>\n",
       "      <td>0</td>\n",
       "      <td>0</td>\n",
       "    </tr>\n",
       "  </tbody>\n",
       "</table>\n",
       "</div>"
      ],
      "text/plain": [
       "   WEBHOSTING  OFFICESUITE  SECURITY CLOUD_IAAS CLOUD_PAAS  CONTENTMGM  \\\n",
       "0           0            0  SECURITY          0          0           0   \n",
       "1           0  OFFICESUITE  SECURITY          0          0           0   \n",
       "2  WEBHOSTING            0  SECURITY          0          0  CONTENTMGM   \n",
       "3           0            0  SECURITY          0          0           0   \n",
       "4  WEBHOSTING  OFFICESUITE  SECURITY          0          0  CONTENTMGM   \n",
       "\n",
       "   CHATBOT ADVERTISING  \n",
       "0        0           0  \n",
       "1        0           0  \n",
       "2        0           0  \n",
       "3        0           0  \n",
       "4        0           0  "
      ]
     },
     "execution_count": 7,
     "metadata": {},
     "output_type": "execute_result"
    }
   ],
   "source": [
    "#ORIGINAL OUTPUT\n",
    "dataset.head()"
   ]
  },
  {
   "cell_type": "markdown",
   "metadata": {},
   "source": [
    "[**CODE**] Convert the dataframe into a list of lists and store it in a `records` array"
   ]
  },
  {
   "cell_type": "code",
   "execution_count": 8,
   "metadata": {},
   "outputs": [],
   "source": [
    "#Remove rows with all zeros before passing to list\n",
    "dataset = dataset[(dataset.T != 0).any()]\n",
    "records = dataset.values.tolist()"
   ]
  },
  {
   "cell_type": "markdown",
   "metadata": {},
   "source": [
    "[**CODE**] Remove all \"0\"s and store in the `records_final` array"
   ]
  },
  {
   "cell_type": "code",
   "execution_count": 9,
   "metadata": {},
   "outputs": [
    {
     "name": "stdout",
     "output_type": "stream",
     "text": [
      "Length of the final records: 753\n",
      "Length of the final records filtered: 380\n"
     ]
    }
   ],
   "source": [
    "records_final = records\n",
    "for record in records_final:\n",
    "    while 0 in record: \n",
    "        record.remove(0)\n",
    "\n",
    "print('Length of the final records:', len(records_final))\n",
    "\n",
    "#Extra: remove items bought alone\n",
    "records_final_filtered = []\n",
    "for record in records_final:\n",
    "    if len(record)>1:\n",
    "        records_final_filtered.append(record)\n",
    "\n",
    "print('Length of the final records filtered:', len(records_final_filtered))"
   ]
  },
  {
   "cell_type": "markdown",
   "metadata": {},
   "source": [
    "Now, everything is ready to execute the `Apriori` function."
   ]
  },
  {
   "cell_type": "markdown",
   "metadata": {},
   "source": [
    "## 1.3. Algorithm execution and evaluation"
   ]
  },
  {
   "cell_type": "markdown",
   "metadata": {},
   "source": [
    "[**REPORT**] Execute the apriori algorithm using [apyori.apriori](https://pypi.org/project/apyori/) **3 times** with different values of minimum values for support, confidence, lift and length. For each iteration:\n",
    "- Indicate the number of association rules\n",
    "- Create a table with the main relevant association rules and justify the results. Explain their characteristics, i.e. support, confidence and lift\n",
    "\n",
    "The function `association_result_list` will facilitate the visualization of association rules results"
   ]
  },
  {
   "cell_type": "code",
   "execution_count": 10,
   "metadata": {},
   "outputs": [
    {
     "name": "stdout",
     "output_type": "stream",
     "text": [
      "[RelationRecord(items=frozenset({'CONTENTMGM'}), support=0.20185922974767595, ordered_statistics=[OrderedStatistic(items_base=frozenset(), items_add=frozenset({'CONTENTMGM'}), confidence=0.20185922974767595, lift=1.0)]), RelationRecord(items=frozenset({'OFFICESUITE'}), support=0.2337317397078353, ordered_statistics=[OrderedStatistic(items_base=frozenset(), items_add=frozenset({'OFFICESUITE'}), confidence=0.2337317397078353, lift=1.0)]), RelationRecord(items=frozenset({'SECURITY'}), support=0.8074369189907038, ordered_statistics=[OrderedStatistic(items_base=frozenset(), items_add=frozenset({'SECURITY'}), confidence=0.8074369189907038, lift=1.0)]), RelationRecord(items=frozenset({'WEBHOSTING'}), support=0.36387782204515273, ordered_statistics=[OrderedStatistic(items_base=frozenset(), items_add=frozenset({'WEBHOSTING'}), confidence=0.36387782204515273, lift=1.0)]), RelationRecord(items=frozenset({'SECURITY', 'CONTENTMGM'}), support=0.18326693227091634, ordered_statistics=[OrderedStatistic(items_base=frozenset({'CONTENTMGM'}), items_add=frozenset({'SECURITY'}), confidence=0.9078947368421053, lift=1.124415685595568), OrderedStatistic(items_base=frozenset({'SECURITY'}), items_add=frozenset({'CONTENTMGM'}), confidence=0.22697368421052633, lift=1.124415685595568)]), RelationRecord(items=frozenset({'SECURITY', 'OFFICESUITE'}), support=0.15803452855245684, ordered_statistics=[OrderedStatistic(items_base=frozenset({'OFFICESUITE'}), items_add=frozenset({'SECURITY'}), confidence=0.6761363636363636, lift=0.837385989832536), OrderedStatistic(items_base=frozenset({'SECURITY'}), items_add=frozenset({'OFFICESUITE'}), confidence=0.19572368421052633, lift=0.837385989832536)]), RelationRecord(items=frozenset({'SECURITY', 'WEBHOSTING'}), support=0.2536520584329349, ordered_statistics=[OrderedStatistic(items_base=frozenset({'SECURITY'}), items_add=frozenset({'WEBHOSTING'}), confidence=0.31414473684210525, lift=0.8633247694967345), OrderedStatistic(items_base=frozenset({'WEBHOSTING'}), items_add=frozenset({'SECURITY'}), confidence=0.6970802919708029, lift=0.8633247694967345)])]\n"
     ]
    }
   ],
   "source": [
    "association_results = list(apriori(records_final))\n",
    "print(association_results)"
   ]
  },
  {
   "cell_type": "code",
   "execution_count": 11,
   "metadata": {},
   "outputs": [],
   "source": [
    "#MODIFIED\n",
    "def association_result_list (association_results, show_text=False):\n",
    "    association_result_df = pd.DataFrame()\n",
    "    for item in association_results:\n",
    "        current_item = pd.DataFrame()\n",
    "        item_origin=[]\n",
    "        item_origin.append([x for x in item[2][0][0]])\n",
    "        item_destin=[]\n",
    "        item_destin.append([x for x in item[2][0][1]])\n",
    "        if str(item_origin) != '[[]]':\n",
    "            if show_text:\n",
    "                print(\"Rule: \" +str(item_origin) +\" -> \" + str(item_destin))\n",
    "                print(\"Support: \" + str(item[1]))\n",
    "                print(\"Confidence: \" + str(item[2][0][2]))\n",
    "                print(\"Lift: \" + str(item[2][0][3]))\n",
    "                print(\"=====================================\")\n",
    "            current_item['Item_A'] = [str(item_origin)[1:-1]]\n",
    "            current_item['Item_B'] = [str(item_destin)[1:-1]]\n",
    "            current_item['Support'] = item[1]\n",
    "            current_item['Confidence'] = item[2][0][2]\n",
    "            current_item['Lift'] = item[2][0][3]\n",
    "            association_result_df = pd.concat([association_result_df, current_item], ignore_index = True)\n",
    "    return association_result_df"
   ]
  },
  {
   "cell_type": "markdown",
   "metadata": {},
   "source": [
    "Your output should look similar to this one, but numbers may vary depending on the lift and confidence parameters that you provide."
   ]
  },
  {
   "cell_type": "code",
   "execution_count": 12,
   "metadata": {},
   "outputs": [
    {
     "data": {
      "text/html": [
       "<div>\n",
       "<style scoped>\n",
       "    .dataframe tbody tr th:only-of-type {\n",
       "        vertical-align: middle;\n",
       "    }\n",
       "\n",
       "    .dataframe tbody tr th {\n",
       "        vertical-align: top;\n",
       "    }\n",
       "\n",
       "    .dataframe thead th {\n",
       "        text-align: right;\n",
       "    }\n",
       "</style>\n",
       "<table border=\"1\" class=\"dataframe\">\n",
       "  <thead>\n",
       "    <tr style=\"text-align: right;\">\n",
       "      <th></th>\n",
       "      <th>Item_A</th>\n",
       "      <th>Item_B</th>\n",
       "      <th>Support</th>\n",
       "      <th>Confidence</th>\n",
       "      <th>Lift</th>\n",
       "    </tr>\n",
       "  </thead>\n",
       "  <tbody>\n",
       "    <tr>\n",
       "      <th>0</th>\n",
       "      <td>['CONTENTMGM']</td>\n",
       "      <td>['SECURITY']</td>\n",
       "      <td>0.183267</td>\n",
       "      <td>0.907895</td>\n",
       "      <td>1.124416</td>\n",
       "    </tr>\n",
       "  </tbody>\n",
       "</table>\n",
       "</div>"
      ],
      "text/plain": [
       "           Item_A        Item_B   Support  Confidence      Lift\n",
       "0  ['CONTENTMGM']  ['SECURITY']  0.183267    0.907895  1.124416"
      ]
     },
     "metadata": {},
     "output_type": "display_data"
    }
   ],
   "source": [
    "#Example 1\n",
    "association_results = list(apriori(records_final, min_support = 0.01, min_confidence = 0.5, min_lift = 1, max_length=2))\n",
    "pretty_table = association_result_list(association_results, show_text = False).sort_values('Lift', ascending=False) \n",
    "display(pretty_table)\n",
    "pretty_table.to_excel('Tables/example1.xlsx')"
   ]
  },
  {
   "cell_type": "code",
   "execution_count": 13,
   "metadata": {},
   "outputs": [
    {
     "data": {
      "text/html": [
       "<div>\n",
       "<style scoped>\n",
       "    .dataframe tbody tr th:only-of-type {\n",
       "        vertical-align: middle;\n",
       "    }\n",
       "\n",
       "    .dataframe tbody tr th {\n",
       "        vertical-align: top;\n",
       "    }\n",
       "\n",
       "    .dataframe thead th {\n",
       "        text-align: right;\n",
       "    }\n",
       "</style>\n",
       "<table border=\"1\" class=\"dataframe\">\n",
       "  <thead>\n",
       "    <tr style=\"text-align: right;\">\n",
       "      <th></th>\n",
       "      <th>Item_A</th>\n",
       "      <th>Item_B</th>\n",
       "      <th>Support</th>\n",
       "      <th>Confidence</th>\n",
       "      <th>Lift</th>\n",
       "    </tr>\n",
       "  </thead>\n",
       "  <tbody>\n",
       "    <tr>\n",
       "      <th>1</th>\n",
       "      <td>['CLOUD_PAAS']</td>\n",
       "      <td>['OFFICESUITE']</td>\n",
       "      <td>0.006640</td>\n",
       "      <td>0.833333</td>\n",
       "      <td>3.565341</td>\n",
       "    </tr>\n",
       "    <tr>\n",
       "      <th>2</th>\n",
       "      <td>['CLOUD_IAAS', 'CONTENTMGM']</td>\n",
       "      <td>['OFFICESUITE']</td>\n",
       "      <td>0.011952</td>\n",
       "      <td>0.818182</td>\n",
       "      <td>3.500517</td>\n",
       "    </tr>\n",
       "    <tr>\n",
       "      <th>6</th>\n",
       "      <td>['SECURITY', 'CLOUD_IAAS', 'CONTENTMGM']</td>\n",
       "      <td>['OFFICESUITE']</td>\n",
       "      <td>0.007968</td>\n",
       "      <td>0.750000</td>\n",
       "      <td>3.208807</td>\n",
       "    </tr>\n",
       "    <tr>\n",
       "      <th>3</th>\n",
       "      <td>['SECURITY', 'CLOUD_IAAS']</td>\n",
       "      <td>['OFFICESUITE']</td>\n",
       "      <td>0.030544</td>\n",
       "      <td>0.479167</td>\n",
       "      <td>2.050071</td>\n",
       "    </tr>\n",
       "    <tr>\n",
       "      <th>0</th>\n",
       "      <td>['CLOUD_IAAS']</td>\n",
       "      <td>['OFFICESUITE']</td>\n",
       "      <td>0.039841</td>\n",
       "      <td>0.447761</td>\n",
       "      <td>1.915706</td>\n",
       "    </tr>\n",
       "    <tr>\n",
       "      <th>4</th>\n",
       "      <td>['CLOUD_IAAS', 'WEBHOSTING']</td>\n",
       "      <td>['OFFICESUITE']</td>\n",
       "      <td>0.010624</td>\n",
       "      <td>0.444444</td>\n",
       "      <td>1.901515</td>\n",
       "    </tr>\n",
       "    <tr>\n",
       "      <th>8</th>\n",
       "      <td>['SECURITY', 'WEBHOSTING', 'OFFICESUITE']</td>\n",
       "      <td>['CONTENTMGM']</td>\n",
       "      <td>0.017264</td>\n",
       "      <td>0.371429</td>\n",
       "      <td>1.840038</td>\n",
       "    </tr>\n",
       "    <tr>\n",
       "      <th>7</th>\n",
       "      <td>['SECURITY', 'CLOUD_IAAS', 'WEBHOSTING']</td>\n",
       "      <td>['OFFICESUITE']</td>\n",
       "      <td>0.007968</td>\n",
       "      <td>0.400000</td>\n",
       "      <td>1.711364</td>\n",
       "    </tr>\n",
       "    <tr>\n",
       "      <th>5</th>\n",
       "      <td>['WEBHOSTING', 'OFFICESUITE']</td>\n",
       "      <td>['CONTENTMGM']</td>\n",
       "      <td>0.019920</td>\n",
       "      <td>0.306122</td>\n",
       "      <td>1.516515</td>\n",
       "    </tr>\n",
       "  </tbody>\n",
       "</table>\n",
       "</div>"
      ],
      "text/plain": [
       "                                      Item_A           Item_B   Support  \\\n",
       "1                             ['CLOUD_PAAS']  ['OFFICESUITE']  0.006640   \n",
       "2               ['CLOUD_IAAS', 'CONTENTMGM']  ['OFFICESUITE']  0.011952   \n",
       "6   ['SECURITY', 'CLOUD_IAAS', 'CONTENTMGM']  ['OFFICESUITE']  0.007968   \n",
       "3                 ['SECURITY', 'CLOUD_IAAS']  ['OFFICESUITE']  0.030544   \n",
       "0                             ['CLOUD_IAAS']  ['OFFICESUITE']  0.039841   \n",
       "4               ['CLOUD_IAAS', 'WEBHOSTING']  ['OFFICESUITE']  0.010624   \n",
       "8  ['SECURITY', 'WEBHOSTING', 'OFFICESUITE']   ['CONTENTMGM']  0.017264   \n",
       "7   ['SECURITY', 'CLOUD_IAAS', 'WEBHOSTING']  ['OFFICESUITE']  0.007968   \n",
       "5              ['WEBHOSTING', 'OFFICESUITE']   ['CONTENTMGM']  0.019920   \n",
       "\n",
       "   Confidence      Lift  \n",
       "1    0.833333  3.565341  \n",
       "2    0.818182  3.500517  \n",
       "6    0.750000  3.208807  \n",
       "3    0.479167  2.050071  \n",
       "0    0.447761  1.915706  \n",
       "4    0.444444  1.901515  \n",
       "8    0.371429  1.840038  \n",
       "7    0.400000  1.711364  \n",
       "5    0.306122  1.516515  "
      ]
     },
     "metadata": {},
     "output_type": "display_data"
    }
   ],
   "source": [
    "#Example 2\n",
    "association_results = list(apriori(records_final, min_support = 0.005, min_confidence = 0.0, min_lift = 1.5, max_length=4))\n",
    "pretty_table = association_result_list(association_results, show_text = False).sort_values('Lift', ascending=False) \n",
    "display(pretty_table)\n",
    "pretty_table.to_excel('Tables/example2.xlsx')"
   ]
  },
  {
   "cell_type": "code",
   "execution_count": 14,
   "metadata": {},
   "outputs": [
    {
     "data": {
      "text/html": [
       "<div>\n",
       "<style scoped>\n",
       "    .dataframe tbody tr th:only-of-type {\n",
       "        vertical-align: middle;\n",
       "    }\n",
       "\n",
       "    .dataframe tbody tr th {\n",
       "        vertical-align: top;\n",
       "    }\n",
       "\n",
       "    .dataframe thead th {\n",
       "        text-align: right;\n",
       "    }\n",
       "</style>\n",
       "<table border=\"1\" class=\"dataframe\">\n",
       "  <thead>\n",
       "    <tr style=\"text-align: right;\">\n",
       "      <th></th>\n",
       "      <th>Item_A</th>\n",
       "      <th>Item_B</th>\n",
       "      <th>Support</th>\n",
       "      <th>Confidence</th>\n",
       "      <th>Lift</th>\n",
       "    </tr>\n",
       "  </thead>\n",
       "  <tbody>\n",
       "    <tr>\n",
       "      <th>2</th>\n",
       "      <td>['WEBHOSTING', 'CONTENTMGM']</td>\n",
       "      <td>['SECURITY']</td>\n",
       "      <td>0.067729</td>\n",
       "      <td>0.927273</td>\n",
       "      <td>1.148415</td>\n",
       "    </tr>\n",
       "    <tr>\n",
       "      <th>0</th>\n",
       "      <td>['CONTENTMGM']</td>\n",
       "      <td>['SECURITY']</td>\n",
       "      <td>0.183267</td>\n",
       "      <td>0.907895</td>\n",
       "      <td>1.124416</td>\n",
       "    </tr>\n",
       "    <tr>\n",
       "      <th>1</th>\n",
       "      <td>['OFFICESUITE', 'CONTENTMGM']</td>\n",
       "      <td>['SECURITY']</td>\n",
       "      <td>0.047809</td>\n",
       "      <td>0.818182</td>\n",
       "      <td>1.013307</td>\n",
       "    </tr>\n",
       "  </tbody>\n",
       "</table>\n",
       "</div>"
      ],
      "text/plain": [
       "                          Item_A        Item_B   Support  Confidence      Lift\n",
       "2   ['WEBHOSTING', 'CONTENTMGM']  ['SECURITY']  0.067729    0.927273  1.148415\n",
       "0                 ['CONTENTMGM']  ['SECURITY']  0.183267    0.907895  1.124416\n",
       "1  ['OFFICESUITE', 'CONTENTMGM']  ['SECURITY']  0.047809    0.818182  1.013307"
      ]
     },
     "metadata": {},
     "output_type": "display_data"
    }
   ],
   "source": [
    "#Example 3\n",
    "association_results = list(apriori(records_final, min_support = 0.02, min_confidence = 0.5, min_lift = 1, max_length=3))\n",
    "pretty_table = association_result_list(association_results, show_text = False).sort_values('Lift', ascending=False) \n",
    "display(pretty_table)\n",
    "pretty_table.to_excel('Tables/example3.xlsx')"
   ]
  },
  {
   "cell_type": "markdown",
   "metadata": {},
   "source": [
    "[**REPORT**] Considering the previous results:\n",
    "\n",
    "- As Data Scientist, which is your main recommendation to increase sales to the Big Internet Player? Explain why\n",
    "- When a customer purchases **CLOUD_PAAS**, which is the product that uses to buy too? Why?\n",
    "- Describe the type of customer that purchases **OFFICESUITE** product\n",
    "- Indicate two products that do **NOT** use to appear together. Why? "
   ]
  },
  {
   "cell_type": "code",
   "execution_count": 15,
   "metadata": {
    "scrolled": true
   },
   "outputs": [
    {
     "data": {
      "text/html": [
       "<div>\n",
       "<style scoped>\n",
       "    .dataframe tbody tr th:only-of-type {\n",
       "        vertical-align: middle;\n",
       "    }\n",
       "\n",
       "    .dataframe tbody tr th {\n",
       "        vertical-align: top;\n",
       "    }\n",
       "\n",
       "    .dataframe thead th {\n",
       "        text-align: right;\n",
       "    }\n",
       "</style>\n",
       "<table border=\"1\" class=\"dataframe\">\n",
       "  <thead>\n",
       "    <tr style=\"text-align: right;\">\n",
       "      <th></th>\n",
       "      <th>Item_A</th>\n",
       "      <th>Item_B</th>\n",
       "      <th>Support</th>\n",
       "      <th>Confidence</th>\n",
       "      <th>Lift</th>\n",
       "    </tr>\n",
       "  </thead>\n",
       "  <tbody>\n",
       "    <tr>\n",
       "      <th>5</th>\n",
       "      <td>['CLOUD_PAAS']</td>\n",
       "      <td>['OFFICESUITE']</td>\n",
       "      <td>0.006640</td>\n",
       "      <td>0.833333</td>\n",
       "      <td>3.565341</td>\n",
       "    </tr>\n",
       "    <tr>\n",
       "      <th>4</th>\n",
       "      <td>['CLOUD_PAAS']</td>\n",
       "      <td>['CONTENTMGM']</td>\n",
       "      <td>0.003984</td>\n",
       "      <td>0.500000</td>\n",
       "      <td>2.476974</td>\n",
       "    </tr>\n",
       "  </tbody>\n",
       "</table>\n",
       "</div>"
      ],
      "text/plain": [
       "           Item_A           Item_B   Support  Confidence      Lift\n",
       "5  ['CLOUD_PAAS']  ['OFFICESUITE']  0.006640    0.833333  3.565341\n",
       "4  ['CLOUD_PAAS']   ['CONTENTMGM']  0.003984    0.500000  2.476974"
      ]
     },
     "metadata": {},
     "output_type": "display_data"
    }
   ],
   "source": [
    "#CLOUD_PAAS\n",
    "association_results = list(apriori(records_final, min_support = 0.001, min_confidence = 0.0, min_lift = 1, max_length=2))\n",
    "pretty_table = association_result_list(association_results, show_text = False).sort_values('Lift', ascending=False) \n",
    "filtered = pretty_table.loc[pretty_table['Item_A'] == '[\\'CLOUD_PAAS\\']']\n",
    "display(filtered)\n",
    "filtered.to_excel('Tables/cloud_paas.xlsx')"
   ]
  },
  {
   "cell_type": "code",
   "execution_count": 16,
   "metadata": {
    "scrolled": true
   },
   "outputs": [
    {
     "data": {
      "text/html": [
       "<div>\n",
       "<style scoped>\n",
       "    .dataframe tbody tr th:only-of-type {\n",
       "        vertical-align: middle;\n",
       "    }\n",
       "\n",
       "    .dataframe tbody tr th {\n",
       "        vertical-align: top;\n",
       "    }\n",
       "\n",
       "    .dataframe thead th {\n",
       "        text-align: right;\n",
       "    }\n",
       "</style>\n",
       "<table border=\"1\" class=\"dataframe\">\n",
       "  <thead>\n",
       "    <tr style=\"text-align: right;\">\n",
       "      <th></th>\n",
       "      <th>Item_A</th>\n",
       "      <th>Item_B</th>\n",
       "      <th>Support</th>\n",
       "      <th>Confidence</th>\n",
       "      <th>Lift</th>\n",
       "    </tr>\n",
       "  </thead>\n",
       "  <tbody>\n",
       "    <tr>\n",
       "      <th>15</th>\n",
       "      <td>['OFFICESUITE']</td>\n",
       "      <td>['SECURITY']</td>\n",
       "      <td>0.158035</td>\n",
       "      <td>0.676136</td>\n",
       "      <td>0.837386</td>\n",
       "    </tr>\n",
       "    <tr>\n",
       "      <th>16</th>\n",
       "      <td>['OFFICESUITE']</td>\n",
       "      <td>['WEBHOSTING']</td>\n",
       "      <td>0.065073</td>\n",
       "      <td>0.278409</td>\n",
       "      <td>0.765117</td>\n",
       "    </tr>\n",
       "  </tbody>\n",
       "</table>\n",
       "</div>"
      ],
      "text/plain": [
       "             Item_A          Item_B   Support  Confidence      Lift\n",
       "15  ['OFFICESUITE']    ['SECURITY']  0.158035    0.676136  0.837386\n",
       "16  ['OFFICESUITE']  ['WEBHOSTING']  0.065073    0.278409  0.765117"
      ]
     },
     "metadata": {},
     "output_type": "display_data"
    }
   ],
   "source": [
    "#OFFICESUITE\n",
    "association_results = list(apriori(records_final, min_support = 0.001, min_confidence = 0.0, min_lift = 0.0, max_length=4))\n",
    "pretty_table = association_result_list(association_results, show_text = False).sort_values('Lift', ascending=False) \n",
    "filtered = pretty_table.loc[pretty_table['Item_A'] == '[\\'OFFICESUITE\\']']\n",
    "display(filtered)\n",
    "filtered.to_excel('Tables/officesuite.xlsx')"
   ]
  },
  {
   "cell_type": "code",
   "execution_count": 17,
   "metadata": {
    "scrolled": true
   },
   "outputs": [
    {
     "data": {
      "text/html": [
       "<div>\n",
       "<style scoped>\n",
       "    .dataframe tbody tr th:only-of-type {\n",
       "        vertical-align: middle;\n",
       "    }\n",
       "\n",
       "    .dataframe tbody tr th {\n",
       "        vertical-align: top;\n",
       "    }\n",
       "\n",
       "    .dataframe thead th {\n",
       "        text-align: right;\n",
       "    }\n",
       "</style>\n",
       "<table border=\"1\" class=\"dataframe\">\n",
       "  <thead>\n",
       "    <tr style=\"text-align: right;\">\n",
       "      <th></th>\n",
       "      <th>Item_A</th>\n",
       "      <th>Item_B</th>\n",
       "      <th>Support</th>\n",
       "      <th>Confidence</th>\n",
       "      <th>Lift</th>\n",
       "    </tr>\n",
       "  </thead>\n",
       "  <tbody>\n",
       "    <tr>\n",
       "      <th>2</th>\n",
       "      <td>['ADVERTISING']</td>\n",
       "      <td>['OFFICESUITE']</td>\n",
       "      <td>0.001328</td>\n",
       "      <td>0.111111</td>\n",
       "      <td>0.475379</td>\n",
       "    </tr>\n",
       "    <tr>\n",
       "      <th>3</th>\n",
       "      <td>['ADVERTISING']</td>\n",
       "      <td>['SECURITY']</td>\n",
       "      <td>0.006640</td>\n",
       "      <td>0.555556</td>\n",
       "      <td>0.688048</td>\n",
       "    </tr>\n",
       "    <tr>\n",
       "      <th>8</th>\n",
       "      <td>['CLOUD_IAAS']</td>\n",
       "      <td>['WEBHOSTING']</td>\n",
       "      <td>0.023904</td>\n",
       "      <td>0.268657</td>\n",
       "      <td>0.738316</td>\n",
       "    </tr>\n",
       "    <tr>\n",
       "      <th>16</th>\n",
       "      <td>['OFFICESUITE']</td>\n",
       "      <td>['WEBHOSTING']</td>\n",
       "      <td>0.065073</td>\n",
       "      <td>0.278409</td>\n",
       "      <td>0.765117</td>\n",
       "    </tr>\n",
       "    <tr>\n",
       "      <th>5</th>\n",
       "      <td>['CLOUD_IAAS']</td>\n",
       "      <td>['CONTENTMGM']</td>\n",
       "      <td>0.014608</td>\n",
       "      <td>0.164179</td>\n",
       "      <td>0.813335</td>\n",
       "    </tr>\n",
       "  </tbody>\n",
       "</table>\n",
       "</div>"
      ],
      "text/plain": [
       "             Item_A           Item_B   Support  Confidence      Lift\n",
       "2   ['ADVERTISING']  ['OFFICESUITE']  0.001328    0.111111  0.475379\n",
       "3   ['ADVERTISING']     ['SECURITY']  0.006640    0.555556  0.688048\n",
       "8    ['CLOUD_IAAS']   ['WEBHOSTING']  0.023904    0.268657  0.738316\n",
       "16  ['OFFICESUITE']   ['WEBHOSTING']  0.065073    0.278409  0.765117\n",
       "5    ['CLOUD_IAAS']   ['CONTENTMGM']  0.014608    0.164179  0.813335"
      ]
     },
     "metadata": {},
     "output_type": "display_data"
    }
   ],
   "source": [
    "#LESS LIFT\n",
    "association_results = list(apriori(records_final, min_support = 0.001, min_confidence = 0.0, min_lift = 0.0, max_length=2))\n",
    "pretty_table = association_result_list(association_results, show_text = False).sort_values('Lift', ascending=True)\n",
    "display(pretty_table.head())\n",
    "pretty_table.head().to_excel('Tables/lift.xlsx')"
   ]
  },
  {
   "cell_type": "markdown",
   "metadata": {},
   "source": [
    "# 2. Deliver"
   ]
  },
  {
   "cell_type": "markdown",
   "metadata": {},
   "source": [
    "Deliver:\n",
    "\n",
    "* A zip file containing your notebook (.ipynb file) with all the [**CODE**] parts implemented.\n",
    "* A 4-pages PDF report including all parts of this notebook marked with \"[**REPORT**]\"\n",
    "\n",
    "The report should end with the following statement: **I hereby declare that, except for the code provided by the course instructors, all of my code, report, and figures were produced by myself.**"
   ]
  }
 ],
 "metadata": {
  "kernelspec": {
   "display_name": "Python 3",
   "language": "python",
   "name": "python3"
  },
  "language_info": {
   "codemirror_mode": {
    "name": "ipython",
    "version": 3
   },
   "file_extension": ".py",
   "mimetype": "text/x-python",
   "name": "python",
   "nbconvert_exporter": "python",
   "pygments_lexer": "ipython3",
   "version": "3.7.3"
  }
 },
 "nbformat": 4,
 "nbformat_minor": 2
}
