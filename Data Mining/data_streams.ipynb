{
 "cells": [
  {
   "cell_type": "markdown",
   "metadata": {},
   "source": [
    "# Practice Session 08: Data streams\n",
    "\n",
    "In this session we will take a large corpus of queries and compute statistics on them using methods for data stream sampling."
   ]
  },
  {
   "cell_type": "markdown",
   "metadata": {},
   "source": [
    "# 0. Preliminaries\n",
    "\n",
    "The dataset we will use contains the most 1,000 prolific users from the AOL Query Log (2006), a dataset released for research, and later retracted [[download link](https://github.com/wasiahmad/aol_query_log_analysis)]. The idea of this practice is to obtain some statistics on this file **without** storing parts of the file in main memory."
   ]
  },
  {
   "cell_type": "markdown",
   "metadata": {},
   "source": [
    "## 0.1. Required imports"
   ]
  },
  {
   "cell_type": "code",
   "execution_count": 2,
   "metadata": {},
   "outputs": [],
   "source": [
    "import io\n",
    "import csv\n",
    "import math\n",
    "import random\n",
    "import statistics"
   ]
  },
  {
   "cell_type": "markdown",
   "metadata": {},
   "source": [
    "## 0.2. How to iterate through this file"
   ]
  },
  {
   "cell_type": "code",
   "execution_count": 4,
   "metadata": {},
   "outputs": [
    {
     "name": "stdout",
     "output_type": "stream",
     "text": [
      "On 2006-03-01 22:36:30 user u923311 issued query is travis stork with the girl he chose\n",
      "On 2006-03-02 14:43:00 user u6001085 issued query sport aktuell\n",
      "On 2006-03-04 06:34:14 user u6438440 issued query modern coffee tables\n",
      "On 2006-03-05 07:11:06 user u3975128 issued query google\n",
      "On 2006-03-08 06:25:05 user u7341676 issued query small group ministry\n",
      "On 2006-03-08 19:10:33 user u7050479 issued query the life of st francis\n",
      "On 2006-03-11 22:29:04 user u3765764 issued query organic groceries\n",
      "On 2006-03-15 08:18:04 user u686808 issued query sunscreen babies\n",
      "On 2006-03-17 21:57:58 user u7692143 issued query lactose free lasagne\n",
      "On 2006-03-18 14:11:55 user u793903 issued query the bra page\n",
      "On 2006-03-22 13:51:07 user u51799 issued query bakelite jewelry\n",
      "On 2006-03-22 18:32:26 user u1402470 issued query lego\n",
      "On 2006-03-26 20:35:20 user u9029572 issued query danielle panabaker fansites\n",
      "On 2006-03-27 23:48:22 user u2552491 issued query new jersey escort courtesan\n",
      "On 2006-03-28 12:57:48 user u2741397 issued query flagstone\n",
      "On 2006-03-28 21:35:05 user u4522068 issued query marriott.com\n",
      "On 2006-03-29 11:09:15 user u8583405 issued query wall fish bowl\n",
      "On 2006-03-31 22:09:42 user u6603941 issued query holiday inn orlando\n",
      "On 2006-04-01 10:23:26 user u2426817 issued query kmart\n",
      "On 2006-04-01 16:36:51 user u1388993 issued query jazz aspen\n",
      "On 2006-04-03 15:12:28 user u585444 issued query nyc property shark\n",
      "On 2006-04-06 17:44:03 user u5578584 issued query chemung contracting corp\n",
      "On 2006-04-15 10:20:57 user u5420593 issued query 28 cm spring pan\n",
      "On 2006-04-18 20:55:50 user u4121064 issued query serbia words\n",
      "On 2006-04-23 18:23:21 user u5103961 issued query structural code enforcement for burj dubai\n",
      "On 2006-04-24 09:10:19 user u496542 issued query regional news network\n",
      "On 2006-04-24 21:28:49 user u3087245 issued query ground cover for sandy soil\n",
      "On 2006-04-26 15:39:50 user u3693627 issued query synagogues on the lower east side\n",
      "On 2006-05-02 14:37:57 user u5103961 issued query stripper competition\n",
      "On 2006-05-03 22:42:32 user u2558784 issued query wine tasting fundraiser\n",
      "On 2006-05-04 16:10:41 user u7148725 issued query myspace\n",
      "On 2006-05-04 17:04:27 user u5136505 issued query progressive custom wheels\n",
      "On 2006-05-07 18:24:02 user u6366607 issued query linens and things\n",
      "On 2006-05-08 17:00:25 user u1498497 issued query holiday inn express minnesota\n",
      "On 2006-05-08 21:25:51 user u7381242 issued query flush mount mini pendants\n",
      "On 2006-05-10 01:28:05 user u921253 issued query google\n",
      "On 2006-05-11 09:33:55 user u6070486 issued query starpulse\n",
      "On 2006-05-11 15:10:29 user u2605729 issued query mostfungames.com\n",
      "On 2006-05-15 18:07:19 user u6639240 issued query rectal emg sensor oregon\n",
      "On 2006-05-16 03:05:02 user u6048632 issued query bad credit mortgages\n",
      "On 2006-05-22 23:40:31 user u4778170 issued query sprint cellular\n",
      "On 2006-05-23 07:57:16 user u2337572 issued query romantic hotel new orleans\n",
      "On 2006-05-23 13:28:32 user u6086561 issued query myspace\n",
      "On 2006-05-28 21:35:19 user u7943335 issued query clip art for mark 10 14\n",
      "On 2006-05-31 17:56:21 user u5136505 issued query gamo air rifles\n"
     ]
    }
   ],
   "source": [
    "INPUT_FILE = \"Datasets/user_queries.csv\"\n",
    "with io.open(INPUT_FILE) as file:\n",
    "    reader = csv.reader(file, delimiter=\"\\t\")\n",
    "    for timestamp, userid, query in reader:\n",
    "        # Prints 0.01% of lines\n",
    "        if random.random() < 0.0001:\n",
    "            print(\"On %s user %s issued query %s\" % (timestamp, userid, query)) "
   ]
  },
  {
   "cell_type": "markdown",
   "metadata": {},
   "source": [
    "# 1. Determine approximately the top-5 queries\n",
    "\n",
    "In this query log the most frequent queries are:\n",
    "\n",
    "* \"google\" (1.6% of the queries)\n",
    "* \"ebay\" (1.5%)\n",
    "* \"yahoo\" (1.3%)\n",
    "* \"myspace\" (1.0%)\n",
    "* \"craigslist\" (0.5%)\n",
    "\n",
    "Instead of loading the entire query log in main memory, we will use reservoir sampling to determine approximately the top-5 queries.\n",
    "\n",
    "**Reservoir sampling**: In reservoir sampling, if we have a reservoir of size S:\n",
    "\n",
    "* We store the first S elements of the stream\n",
    "* When the n<sup>th</sup> element arrives (let's call it X<sub>n</sub>):\n",
    "   * With probability 1 - s/n, we ignore this element.\n",
    "   * With probability s/n, we:\n",
    "      * Discard a random element from the reservoir\n",
    "      * Add element X<sub>n</sub> to the reservoir (calling *add_to_reservoir*)"
   ]
  },
  {
   "cell_type": "markdown",
   "metadata": {},
   "source": [
    "[**CODE**] Implement a function `add_reservoir(reservoir, item, max_size)` that adds an item to the reservoir, maintaining its size. If the reservoir is already of size *max_size*, a random item is selected and evicted *before* adding the item. It is important to evict an old item *before* adding the new item."
   ]
  },
  {
   "cell_type": "code",
   "execution_count": 5,
   "metadata": {},
   "outputs": [],
   "source": [
    "def add_to_reservoir(reservoir, item, max_reservoir_size):\n",
    "    # YOUR CODE HERE\n",
    "    assert(len(reservoir) <= max_reservoir_size)\n",
    "    reservoir.remove(random.choice(reservoir))\n",
    "    reservoir.append(item)"
   ]
  },
  {
   "cell_type": "markdown",
   "metadata": {},
   "source": [
    "[**CODE**] Iterate through the file using the reservoir sampling method seen in class. In this function you will decide, for every item, whether to call *add_to_reservoir* or to ignore the item."
   ]
  },
  {
   "cell_type": "code",
   "execution_count": 24,
   "metadata": {},
   "outputs": [
    {
     "name": "stdout",
     "output_type": "stream",
     "text": [
      "Number of queries seen    : 318023\n",
      "Number of queries sampled : 500\n"
     ]
    }
   ],
   "source": [
    "def reservoir_sampling(filename, reservoir_size):\n",
    "    reservoir = []\n",
    "\n",
    "    with io.open(filename) as file:\n",
    "        reader = csv.reader(file, delimiter=\"\\t\")\n",
    "        i = 0\n",
    "        for timestamp, userid, query in reader:\n",
    "            i += 1\n",
    "            # YOUR CODE HERE: decide whether to call add_to_reservoir or not\n",
    "            if len(reservoir) == reservoir_size:\n",
    "                add_to_reservoir(reservoir, query, reservoir_size)\n",
    "            else:\n",
    "                reservoir.append(query)                       \n",
    "                \n",
    "    return i, reservoir\n",
    "\n",
    "num_lines, reservoir = reservoir_sampling(INPUT_FILE, 500)\n",
    "\n",
    "print(\"Number of queries seen    : %d\" % num_lines)\n",
    "print(\"Number of queries sampled : %d\" % len(reservoir) )"
   ]
  },
  {
   "cell_type": "markdown",
   "metadata": {},
   "source": [
    "[**CODE**] Write code to list the top-5 queries found by looking at frequencies in the reservoir. If you see a query C times in the reservoir, you can estimate the query appears *C x dataset_size / reservoir_size* times in the entire dataset (*dataset_size* is the size of the entire dataset). Dividing this quantity by *dataset_size* and multiplying by 100 will give you the percentage."
   ]
  },
  {
   "cell_type": "code",
   "execution_count": 25,
   "metadata": {},
   "outputs": [
    {
     "name": "stdout",
     "output_type": "stream",
     "text": [
      "myspace 2.4%\n",
      "middle school reading lists 1.4%\n",
      "google 1.2%\n",
      "scottish highland dancing 1.0%\n",
      "ebay 1.0%\n"
     ]
    }
   ],
   "source": [
    "#MY OUTPUT\n",
    "freq = {}\n",
    "for item in reservoir:\n",
    "    freq[item] = reservoir.count(item)\n",
    "\n",
    "most_frequent_items = sorted([(frequency, query) for query, frequency in freq.items()], reverse=True)[:5]\n",
    "for item in most_frequent_items:\n",
    "    print(item[1], str(100 * item[0]/len(reservoir)) + '%')"
   ]
  },
  {
   "cell_type": "markdown",
   "metadata": {},
   "source": [
    "[**REPORT**] For various sizes of the reservoir: 10, 20, 50, 100, 200, 500, 1000, 2000, 5000, list the top-5 queries and their estimated frequency. \n",
    "\n",
    "[**REPORT**] Find by trial and error, and include in your report, the minimum reservoir size you would have to use to have an overlap of 3/5 between the queries found by the approximate method and the actual top-5."
   ]
  },
  {
   "cell_type": "code",
   "execution_count": 27,
   "metadata": {},
   "outputs": [
    {
     "name": "stdout",
     "output_type": "stream",
     "text": [
      "For a reservoir of size 10\n",
      "young teens top-sites 10.0%\n",
      "steele foundation 10.0%\n",
      "scottish highland dancing 10.0%\n",
      "myspace 10.0%\n",
      "mastercook.com gi recipes 10.0%\n",
      "------------\n",
      "For a reservoir of size 20\n",
      "scottish highland dancing 15.0%\n",
      "winter sheild songs 5.0%\n",
      "watch winders wolf 5.0%\n",
      "steele foundation 5.0%\n",
      "shelf talker signs 5.0%\n",
      "------------\n",
      "For a reservoir of size 50\n",
      "scottish highland dancing 6.0%\n",
      "young teens top-sites 2.0%\n",
      "www.online-sweepstakes.com 2.0%\n",
      "www.ny1.com 2.0%\n",
      "white gold anklets 2.0%\n",
      "------------\n",
      "For a reservoir of size 100\n",
      "myspace 4.0%\n",
      "scottish highland dancing 3.0%\n",
      "nudist swinger beach 3.0%\n",
      "popular baby names 2.0%\n",
      "lowest gi recipes 2.0%\n",
      "------------\n",
      "For a reservoir of size 200\n",
      "scottish highland dancing 2.5%\n",
      "myspace 2.0%\n",
      "sexy swimwear 1.5%\n",
      "google 1.5%\n",
      "yahoo 1.0%\n",
      "------------\n",
      "For a reservoir of size 500\n",
      "myspace 1.6%\n",
      "yahoo 1.4%\n",
      "google 1.2%\n",
      "scottish highland dancing 1.0%\n",
      "swimsuit models 0.8%\n",
      "------------\n",
      "For a reservoir of size 1000\n",
      "ebay 1.2%\n",
      "myspace 1.1%\n",
      "msn 1.1%\n",
      "middle school reading lists 0.9%\n",
      "google 0.9%\n",
      "------------\n",
      "For a reservoir of size 2000\n",
      "ebay 1.5%\n",
      "yahoo 1.45%\n",
      "google 1.35%\n",
      "myspace 1.1%\n",
      "gm muscle car parts 0.65%\n",
      "------------\n",
      "For a reservoir of size 5000\n",
      "ebay 1.42%\n",
      "myspace 1.28%\n",
      "google 1.24%\n",
      "yahoo 1.1%\n",
      "msn 0.62%\n",
      "------------\n"
     ]
    }
   ],
   "source": [
    "trials = '10,20,50,100,200,500,1000,2000,5000'.split(',')\n",
    "\n",
    "for number in trials:\n",
    "    num_lines, reservoir = reservoir_sampling(INPUT_FILE, int(number))\n",
    "    print('For a reservoir of size', number)\n",
    "    freq = {}\n",
    "    for item in reservoir:\n",
    "        freq[item] = reservoir.count(item)\n",
    "    most_frequent_items = sorted([(frequency, query) for query, frequency in freq.items()], reverse=True)[:5]\n",
    "    for item in most_frequent_items:\n",
    "        print(item[1], str(100 * item[0]/len(reservoir)) + '%')\n",
    "    print('------------')"
   ]
  },
  {
   "cell_type": "markdown",
   "metadata": {},
   "source": [
    "# 2. Determine approximately the number of users\n",
    "\n",
    "We will estimate the number of distinct users without creating a dictionary or hash table with users, but instead, we will use the Flajolet-Martin probabilistic counting method.\n",
    "\n",
    "**Flajolet-Martin probabilistic counting**:\n",
    "\n",
    "* For several passes\n",
    "   * Create hash funcion h\n",
    "   * For every element *u* in the stream:\n",
    "      * Compute hash value *h(u)*\n",
    "      * Let *r(u)* be the number of trailing zeroes in *h(u)*\n",
    "      * Maintain *R* as the maximum value of *r(u)* seen so far\n",
    "   * Add *2<sup>R</sup>* as an estimate for the number of distinct elements *u* seen\n",
    "* The final estimate is the average or the median of the estimates found in each pass"
   ]
  },
  {
   "cell_type": "markdown",
   "metadata": {},
   "source": [
    "Use this function to count trailing zeroes in the binary representation of a number."
   ]
  },
  {
   "cell_type": "code",
   "execution_count": 96,
   "metadata": {},
   "outputs": [],
   "source": [
    "def count_trailing_zeroes(number):\n",
    "    count = 0\n",
    "    while number & 1 == 0:\n",
    "        count += 1\n",
    "        number = number>>1\n",
    "    return count"
   ]
  },
  {
   "cell_type": "markdown",
   "metadata": {},
   "source": [
    "Use this function to generate a random hash function. Note this generates a function, so you can do `hash_function = random_hash_function()` and then call `hash_function(x)` to compute the hash value of `x`."
   ]
  },
  {
   "cell_type": "code",
   "execution_count": 67,
   "metadata": {},
   "outputs": [],
   "source": [
    "def random_hash_function():\n",
    "    salt = random.random()\n",
    "    return lambda string: hash(string + str(salt))"
   ]
  },
  {
   "cell_type": "markdown",
   "metadata": {},
   "source": [
    "[**CODE**] Perform *number_of_passes* passes over the file, reading the entire file on each pass (we don't use the reservoir in this part). In each pass, create a new hash function and use it to hash userids. Keep the maximum number of trailing zeroes seen in the hash value of a userid. "
   ]
  },
  {
   "cell_type": "code",
   "execution_count": 108,
   "metadata": {},
   "outputs": [
    {
     "name": "stdout",
     "output_type": "stream",
     "text": [
      "Estimate on pass 1: 512\n",
      "Estimate on pass 2: 512\n",
      "Estimate on pass 3: 1024\n",
      "Estimate on pass 4: 512\n",
      "Estimate on pass 5: 512\n",
      "Estimate on pass 6: 512\n",
      "Estimate on pass 7: 512\n",
      "Estimate on pass 8: 512\n",
      "Estimate on pass 9: 4096\n",
      "Estimate on pass 10: 256\n",
      "* Average of estimates: 896.0\n",
      "* Median  of estimates: 512.0\n"
     ]
    }
   ],
   "source": [
    "#MY OUTPUT\n",
    "number_of_passes = 10\n",
    "\n",
    "estimates = []\n",
    "\n",
    "for i in range(number_of_passes):\n",
    "    # YOUR_CODE_HERE: read the file and generate an estimate\n",
    "    with io.open(INPUT_FILE) as file:\n",
    "        reader = csv.reader(file, delimiter=\"\\t\")\n",
    "        buffer = []\n",
    "        for timestamp, userid, query in reader:\n",
    "            hash_function = random_hash_function()\n",
    "            buffer.append(count_trailing_zeroes(hash_function(userid)))\n",
    "    estimate = 2**(max(buffer)>>1)\n",
    "    estimates.append(estimate)\n",
    "    print(\"Estimate on pass %d: %d\" % (i+1,estimate))\n",
    "    \n",
    "print(\"* Average of estimates: %.1f\" % statistics.mean(estimates))\n",
    "print(\"* Median  of estimates: %.1f\" % statistics.median(estimates))"
   ]
  },
  {
   "cell_type": "markdown",
   "metadata": {},
   "source": [
    "[**REPORT**] Include in your report the median of estimates obtained in 3 separate runs of your algorithm; each run should do 10 passes over the file. Indicate why the median of estimates is preferable to the average of estimates.\n",
    "\n",
    "*Note: in this dataset, the actual number of users is 1000.*"
   ]
  },
  {
   "cell_type": "code",
   "execution_count": 109,
   "metadata": {},
   "outputs": [
    {
     "data": {
      "image/png": "[encoded data removed]",
      "text/plain": [
       "<Figure size 432x288 with 1 Axes>"
      ]
     },
     "metadata": {
      "needs_background": "light"
     },
     "output_type": "display_data"
    }
   ],
   "source": [
    "import matplotlib.pyplot as plt\n",
    "import numpy as np\n",
    "\n",
    "estimates.sort()\n",
    "plt.bar(np.arange(0,number_of_passes), estimates, label='Real Values')\n",
    "plt.bar(number_of_passes+1, statistics.mean(estimates), label='Mean')\n",
    "plt.bar(number_of_passes+2, statistics.median(estimates), label='Median')\n",
    "plt.ylabel('Value')\n",
    "plt.xlabel('Pass')\n",
    "plt.legend(loc='best')\n",
    "plt.show()"
   ]
  },
  {
   "cell_type": "markdown",
   "metadata": {},
   "source": [
    "# 3. Deliver\n",
    "\n",
    "Deliver:\n",
    "\n",
    "* A zip file containing your notebook (.ipynb file) with all the [**CODE**] parts implemented.\n",
    "* A 2-pages PDF report including all parts of this notebook marked with \"[**REPORT**]\"\n",
    "The report should end with the following statement: **I hereby declare that, except for the code provided by the course instructors, all of our code, report, and figures were produced by myself.**"
   ]
  }
 ],
 "metadata": {
  "kernelspec": {
   "display_name": "Python 3",
   "language": "python",
   "name": "python3"
  },
  "language_info": {
   "codemirror_mode": {
    "name": "ipython",
    "version": 3
   },
   "file_extension": ".py",
   "mimetype": "text/x-python",
   "name": "python",
   "nbconvert_exporter": "python",
   "pygments_lexer": "ipython3",
   "version": "3.7.3"
  }
 },
 "nbformat": 4,
 "nbformat_minor": 2
}
