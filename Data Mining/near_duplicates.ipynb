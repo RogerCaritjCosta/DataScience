{
 "cells": [
  {
   "cell_type": "markdown",
   "metadata": {},
   "source": [
    "# Practice Session 03: Find near-duplicates using shingling\n",
    "\n",
    "In this session we will take a large corpus of tweets and detect near-duplicates on this corpus using a technique known as *shingling*.\n",
    "\n",
    "Two documents are considered near-duplicates if they share a large amount of ngrams. The *ngrams* of a phrase are overlapping sequences of words of length *n*. For instance, the phrase '*My name is Inigo Montoya. You killed my father. Prepare to die.*' has the following 3-grams:\n",
    "\n",
    "* 'my name is'\n",
    "* 'name is inigo'\n",
    "* 'is inigo montoya'\n",
    "* ...\n",
    "* 'my father prepare'\n",
    "* 'father prepare to'\n",
    "* 'prepare to die'\n",
    "\n",
    "To measure the similarity between two sets, we will use the [Jaccard index](https://en.wikipedia.org/wiki/Jaccard_index), which is the size of the intersection of the two sets divided by their union. This values goes between 0.0 (meaning the documents have no ngrams in common) to 1.0 (meaning the documents have the same ngrams).\n",
    "\n",
    "To speed up things, instead of comparing the set of shingles of two documents which can be large, we will derive a fixed-length *signature* or *sketch* for each document. This will be obtained by (1) applying a random permutation to the list of possible ngrams, and (2) pick the ngram that appears first in the permuted list. The Jaccard index between these signatures will be a good approximation of the Jaccard index between the original sets of ngrams. "
   ]
  },
  {
   "cell_type": "markdown",
   "metadata": {},
   "source": [
    "# 0. Preliminaries\n",
    "\n",
    "The corpus you will use is a file named `EstamosPorTi.json.gz`. The file contain about 16,800 Twitter messages (\"tweets\") posted between October 1st, 2017, and October 24th, 2017, and using the hashtag `#EstamosPorTi`. Background information on this collection is available on [the Internet Archive](https://archive.org/details/EstamosporTIOohmm2018032618831Ids). In Twitter there are many near-duplicates because of re-tweets and because people quote each other."
   ]
  },
  {
   "cell_type": "markdown",
   "metadata": {},
   "source": [
    "## 0.1 Required imports\n",
    "\n",
    "We will use the following libraries:"
   ]
  },
  {
   "cell_type": "code",
   "execution_count": 1,
   "metadata": {
    "pycharm": {
     "is_executing": false
    }
   },
   "outputs": [],
   "source": [
    "import io\n",
    "import json\n",
    "import gzip\n",
    "import re\n",
    "import random\n",
    "import numpy as np\n",
    "from timeit import default_timer as timer\n",
    "import datetime\n",
    "import matplotlib.pyplot as plt"
   ]
  },
  {
   "cell_type": "markdown",
   "metadata": {},
   "source": [
    "## 0.2 Read the tweet content into an array of messages\n",
    "\n",
    "The tweets are in a format known as [JSON](https://en.wikipedia.org/wiki/JSON#Example). Python's JSON library takes care of translating it into a dictionary. Finally, this is a gzip-compressed file, which you can de-compress using the `gunzip` command, or read compressed using the `gzip` library."
   ]
  },
  {
   "cell_type": "code",
   "execution_count": 2,
   "metadata": {
    "pycharm": {
     "is_executing": false
    }
   },
   "outputs": [
    {
     "name": "stdout",
     "output_type": "stream",
     "text": [
      "Read 16853 documents\n"
     ]
    }
   ],
   "source": [
    "INPUT_FILENAME = \"Datasets/EstamosPorTi.json.gz\"\n",
    "\n",
    "messages = []\n",
    "\n",
    "with gzip.open(INPUT_FILENAME, \"rt\", encoding=\"utf-8\") as input_file:\n",
    "    for line in input_file:\n",
    "        tweet = json.loads(line)\n",
    "        author = tweet[\"user\"][\"screen_name\"]\n",
    "        message = tweet[\"full_text\"]\n",
    "        messages.append(message)\n",
    "        \n",
    "print(\"Read %d documents\" % len(messages))"
   ]
  },
  {
   "cell_type": "code",
   "execution_count": 3,
   "metadata": {},
   "outputs": [],
   "source": [
    "# Uncomment the next line if you want to work with a smaller set temporarily, this might help you during development\n",
    "\n",
    "#messages = [\"hello I am your neighbor\", \"hello I am john\", \"I am john the carpenter\", \"john the carpenter is your neighbor\"]"
   ]
  },
  {
   "cell_type": "markdown",
   "metadata": {},
   "source": [
    "# 1. Implement auxiliary functions"
   ]
  },
  {
   "cell_type": "markdown",
   "metadata": {},
   "source": [
    "[**CODE**] Implement the Jaccard similarity between two lists: the size of the intersection of two sets, divided by the size of their union. Tip: use `set(l)` to convert list `l` to a set. Then you can use `s1.union(s2)` and `s1.intersection(s2)` if `s1` and `s2` are sets."
   ]
  },
  {
   "cell_type": "code",
   "execution_count": 4,
   "metadata": {
    "pycharm": {
     "is_executing": false
    }
   },
   "outputs": [],
   "source": [
    "def jaccard_similarity(list1, list2):\n",
    "    intersection = len(list(set(list1).intersection(set(list2))))\n",
    "    union = len(set(list1).union(set(list2)))\n",
    "    \n",
    "    return float(intersection / union)"
   ]
  },
  {
   "cell_type": "markdown",
   "metadata": {},
   "source": [
    "Test your function:"
   ]
  },
  {
   "cell_type": "code",
   "execution_count": 5,
   "metadata": {
    "pycharm": {
     "is_executing": false
    }
   },
   "outputs": [
    {
     "name": "stdout",
     "output_type": "stream",
     "text": [
      "0.5\n",
      "0.0\n"
     ]
    }
   ],
   "source": [
    "print(jaccard_similarity(['a', 'b', 'c'], ['a', 'c', 'd']))\n",
    "print(jaccard_similarity(['a', 'b', 'c'], ['d', 'e', 'f']))"
   ]
  },
  {
   "cell_type": "markdown",
   "metadata": {},
   "source": [
    "[**CODE**] Implement a simple function to clean-up text by converting to lowercase and removing anything that is not a letter or digit. Tip: use `text.lower()` to convert to lowercase, and `re.sub(...)` to replace parts of the text."
   ]
  },
  {
   "cell_type": "code",
   "execution_count": 6,
   "metadata": {
    "pycharm": {
     "is_executing": false
    }
   },
   "outputs": [],
   "source": [
    "def clean(text):\n",
    "    text = text.lower()\n",
    "    text = re.sub(r'[!?.,¿¡:\\'@#0123456789]', '', text)\n",
    "    return text"
   ]
  },
  {
   "cell_type": "markdown",
   "metadata": {},
   "source": [
    "Test your function:"
   ]
  },
  {
   "cell_type": "code",
   "execution_count": 7,
   "metadata": {
    "pycharm": {
     "is_executing": false
    }
   },
   "outputs": [
    {
     "name": "stdout",
     "output_type": "stream",
     "text": [
      "i am iñigo montoya\n"
     ]
    }
   ],
   "source": [
    "print(clean(\"I am Iñigo Montoya!\"))"
   ]
  },
  {
   "cell_type": "markdown",
   "metadata": {},
   "source": [
    "# 2. Implement an n-gram extractor\n",
    "\n",
    "[**CODE**] Implement the function `ngrams(text,size)`, which should produce all sub-sequences of `size` words present in the text."
   ]
  },
  {
   "cell_type": "code",
   "execution_count": 8,
   "metadata": {
    "pycharm": {
     "is_executing": false
    }
   },
   "outputs": [],
   "source": [
    "def ngrams(text, size):\n",
    "    tokens = text.split()\n",
    "    ngrams = []    \n",
    "    #Special case for when the text is smaller than the size\n",
    "    if len(tokens) < size:\n",
    "        return tokens\n",
    "    else:\n",
    "        ngrams = zip(*[tokens[i:] for i in range(size)])\n",
    "        return [\" \".join(ngram) for ngram in ngrams]"
   ]
  },
  {
   "cell_type": "markdown",
   "metadata": {},
   "source": [
    "Test your function:"
   ]
  },
  {
   "cell_type": "code",
   "execution_count": 9,
   "metadata": {
    "pycharm": {
     "is_executing": false
    }
   },
   "outputs": [
    {
     "name": "stdout",
     "output_type": "stream",
     "text": [
      "\n",
      "Docid   : 0\n",
      "Message : rt lavanguardia último tuit del ministerio de interior catalanreferendum https//tco/wkloawtu\n",
      "Ngrams  : [rt lavanguardia último, lavanguardia último tuit, último tuit del, tuit del ministerio, del ministerio de, ministerio de interior, de interior catalanreferendum, interior catalanreferendum https//tco/wkloawtu]\n",
      "\n",
      "Docid   : 1\n",
      "Message : rt julianassange heres spains interior ministry bragging that its military police have have sabotaged access to the catalan government…\n",
      "Ngrams  : [rt julianassange heres, julianassange heres spains, heres spains interior, spains interior ministry, interior ministry bragging, ministry bragging that, bragging that its, that its military, its military police, military police have, police have have, have have sabotaged, have sabotaged access, sabotaged access to, access to the, to the catalan, the catalan government…]\n",
      "\n",
      "Docid   : 2\n",
      "Message : rt julianassange heres spains interior ministry bragging that its military police have have sabotaged access to the catalan government…\n",
      "Ngrams  : [rt julianassange heres, julianassange heres spains, heres spains interior, spains interior ministry, interior ministry bragging, ministry bragging that, bragging that its, that its military, its military police, military police have, police have have, have have sabotaged, have sabotaged access, sabotaged access to, access to the, to the catalan, the catalan government…]\n"
     ]
    }
   ],
   "source": [
    "for docid in range(3):\n",
    "    print()\n",
    "    print(\"Docid   : %d\" % docid)\n",
    "    print(\"Message : %s\" % clean(messages[docid]))\n",
    "    print(\"Ngrams  : [%s]\" % \", \".join(ngrams(clean(messages[docid]), 3)))"
   ]
  },
  {
   "cell_type": "markdown",
   "metadata": {},
   "source": [
    "# 3. Estimate how long it would take to compare all messages\n",
    "\n",
    "Use the following code to estimate how long would it take to perform pair-wise comparisons between the sets of ngrams of all the documents."
   ]
  },
  {
   "cell_type": "code",
   "execution_count": 34,
   "metadata": {
    "pycharm": {
     "is_executing": false
    }
   },
   "outputs": [],
   "source": [
    "limit = 100\n",
    "\n",
    "start = timer()\n",
    "\n",
    "for docid1 in range(len(messages)):\n",
    "    if docid1 > limit:\n",
    "        break\n",
    "        \n",
    "    doc1 = clean(messages[docid1])\n",
    "    ngrams1 = ngrams(doc1, 3)\n",
    "    \n",
    "    for docid2 in range(docid1+1, len(messages)):\n",
    "        doc2 = clean(messages[docid2])\n",
    "        ngrams2 = ngrams(doc2, 3)\n",
    "        \n",
    "        similarity = jaccard_similarity(ngrams1, ngrams2)\n",
    "            \n",
    "end = timer()"
   ]
  },
  {
   "cell_type": "markdown",
   "metadata": {},
   "source": [
    "[**REPORT**] Include the following time estimations in your report"
   ]
  },
  {
   "cell_type": "code",
   "execution_count": 35,
   "metadata": {},
   "outputs": [
    {
     "name": "stdout",
     "output_type": "stream",
     "text": [
      "Scanning 100 messages took 0:01:03.940472\n",
      "Scanning 16853 messages would take 2:59:35.887797\n"
     ]
    }
   ],
   "source": [
    "print(\"Scanning %d messages took %s\" % (limit, datetime.timedelta(seconds=end-start)))\n",
    "print(\"Scanning %d messages would take %s\" % (len(messages), datetime.timedelta(seconds=(end-start)*len(messages)/limit)))"
   ]
  },
  {
   "cell_type": "markdown",
   "metadata": {},
   "source": [
    "# 2. Compute doc-ngram matrix\n",
    "\n",
    "Now we will compute a matrix in which every row is an ngram, and every column is a document.\n",
    "\n",
    "This normally done by hashing the ngrams and then every row is an ngram *hash*; in this practice we will skip that step and work directly with one ngram per row, which is conceptually the same and easier to code."
   ]
  },
  {
   "cell_type": "markdown",
   "metadata": {},
   "source": [
    "## 2.1 Create list of all ngrams\n",
    "\n",
    "[**CODE**] Implement code to create the dictionary `ngram_to_index`, which should convert an ngram to an index (a row number) and to create the variable `num_distinct_ngrams` which should contain the number of distinct ngrams."
   ]
  },
  {
   "cell_type": "code",
   "execution_count": 12,
   "metadata": {},
   "outputs": [],
   "source": [
    "ngram_size = 3\n",
    "\n",
    "ngram_to_index = {}\n",
    "next_index = 0\n",
    "\n",
    "for message in messages:\n",
    "    all_ngrams = ngrams(clean(message), ngram_size)\n",
    "    for ngram_str in all_ngrams:\n",
    "        if ngram_str not in ngram_to_index:\n",
    "            ngram_to_index[ngram_str] = next_index\n",
    "            next_index += 1\n",
    "            \n",
    "num_distinct_ngrams = next_index"
   ]
  },
  {
   "cell_type": "markdown",
   "metadata": {},
   "source": [
    "Test your function. The exact number of total n-grams may vary depending on how you `clean()` text."
   ]
  },
  {
   "cell_type": "code",
   "execution_count": 13,
   "metadata": {},
   "outputs": [
    {
     "name": "stdout",
     "output_type": "stream",
     "text": [
      "Total number of 3-grams: 20220\n",
      "15573\n",
      "15016\n"
     ]
    }
   ],
   "source": [
    "print(\"Total number of %d-grams: %d\" % (ngram_size, num_distinct_ngrams))\n",
    "print(ngram_to_index[\"hoy a dormir\"])\n",
    "print(ngram_to_index[\"universal census system\"])"
   ]
  },
  {
   "cell_type": "markdown",
   "metadata": {},
   "source": [
    "## 2.2 Create table ngrams x documents\n",
    "\n",
    "In the matrix `M_ngram_doc`, each row should be an n-gram, and each column should be a document."
   ]
  },
  {
   "cell_type": "code",
   "execution_count": 14,
   "metadata": {},
   "outputs": [
    {
     "name": "stdout",
     "output_type": "stream",
     "text": [
      "Rows: 20220 (distinct shingles)\n",
      "Columns: 16853 (distinct documents)\n"
     ]
    }
   ],
   "source": [
    "M_ngram_doc = np.zeros((num_distinct_ngrams, len(messages)))\n",
    "print(\"Rows: %d (distinct shingles)\" % len(M_ngram_doc))\n",
    "print(\"Columns: %d (distinct documents)\" % len(M_ngram_doc[0]))"
   ]
  },
  {
   "cell_type": "markdown",
   "metadata": {},
   "source": [
    "[**CODE**] Complete the matrix `M_ngram_doc` so that position i, j (row, column) holds a 1 if document j contains ngram i, otherwise holds a 0."
   ]
  },
  {
   "cell_type": "code",
   "execution_count": 15,
   "metadata": {},
   "outputs": [],
   "source": [
    "for docid in range(len(messages)):\n",
    "    message = messages[docid]\n",
    "    ngram_message = ngrams(message, ngram_size)\n",
    "    all_ngrams = ngrams(clean(message), ngram_size)\n",
    "    for ngram_str in all_ngrams:\n",
    "        ngram_index = ngram_to_index[ngram_str]\n",
    "        M_ngram_doc[ngram_index, docid] = 1"
   ]
  },
  {
   "cell_type": "markdown",
   "metadata": {},
   "source": [
    "Check a couple of documents (columns). All columns should be very sparse, i.e., mostly zeroes."
   ]
  },
  {
   "cell_type": "code",
   "execution_count": 16,
   "metadata": {},
   "outputs": [
    {
     "name": "stdout",
     "output_type": "stream",
     "text": [
      "Positions of non-zeros in column of docid 28 of M_ngram_doc\n",
      "Message   : rt policia agentes intervienen urnas y papeletas en distintos colegios de barcelona cumplimos la legalidad \n",
      "estamosporti https//tco/…\n",
      "Non-zeros : [63, 64, 65, 66, 67, 68, 69, 70, 71, 72, 73, 74, 75, 76, 77]\n",
      "\n",
      "Positions of non-zeros in column of docid 3689 of M_ngram_doc\n",
      "Message   : rt noticia_libre agentes policia  intervienen urnas y papeletas en distintos colegios de barcelona cumplimos la legalidad \n",
      "estamospor…\n",
      "Non-zeros : [66, 67, 68, 69, 70, 71, 72, 73, 74, 75, 2854, 2855, 2856, 2857, 2858]\n"
     ]
    }
   ],
   "source": [
    "print(\"Positions of non-zeros in column of docid 28 of M_ngram_doc\")\n",
    "print(\"Message   : %s\" % clean(messages[28]))\n",
    "ngrams_doc_28 = [i for i in range(num_distinct_ngrams) if M_ngram_doc[i, 28] == 1.0]\n",
    "print(\"Non-zeros : %s\" % ngrams_doc_28)\n",
    "\n",
    "print()\n",
    "\n",
    "print(\"Positions of non-zeros in column of docid 3689 of M_ngram_doc\")\n",
    "print(\"Message   : %s\" % clean(messages[3689]))\n",
    "ngrams_doc_3689 = [i for i in range(num_distinct_ngrams) if M_ngram_doc[i, 3689] == 1.0]\n",
    "print(\"Non-zeros : %s\" % ngrams_doc_3689)"
   ]
  },
  {
   "cell_type": "markdown",
   "metadata": {},
   "source": [
    "# 3. Implement a permutation generator\n",
    "\n",
    "[**CODE**] Implement the function `random_permutation(k)`, which should generate a random permutation of the array `[0, 2, 3, ..., k-1]`. Tip: the function `random.shuffle(...)` might be useful, and if you want to use `range(...)`, which returns an iterator, you will need to convert it to a list using `list(range(...))`."
   ]
  },
  {
   "cell_type": "code",
   "execution_count": 17,
   "metadata": {},
   "outputs": [],
   "source": [
    "def random_permutation(k):\n",
    "    arr = np.arange(k)\n",
    "    np.random.shuffle(arr)\n",
    "    return arr.tolist()"
   ]
  },
  {
   "cell_type": "markdown",
   "metadata": {},
   "source": [
    "Test your function. Every number between *0* and *k-1* should be in the permutation once, and every call to the function should generate a new permutation."
   ]
  },
  {
   "cell_type": "code",
   "execution_count": 18,
   "metadata": {},
   "outputs": [
    {
     "name": "stdout",
     "output_type": "stream",
     "text": [
      "[7, 15, 9, 12, 6, 8, 17, 4, 0, 14, 3, 19, 2, 11, 13, 16, 5, 1, 18, 10]\n",
      "[12, 8, 2, 1, 17, 0, 11, 19, 7, 9, 3, 15, 16, 6, 13, 5, 14, 10, 4, 18]\n"
     ]
    }
   ],
   "source": [
    "print(random_permutation(20))\n",
    "print(random_permutation(20))"
   ]
  },
  {
   "cell_type": "markdown",
   "metadata": {},
   "source": [
    "Further test this by applying the same permutation on two lists."
   ]
  },
  {
   "cell_type": "code",
   "execution_count": 19,
   "metadata": {},
   "outputs": [
    {
     "name": "stdout",
     "output_type": "stream",
     "text": [
      "['c', 'd', 'e', 'a', 'b']\n",
      "['gamma', 'delta', 'epsilon', 'alpha', 'beta']\n",
      "['a', 'b', 'c', 'e', 'd']\n",
      "['alpha', 'beta', 'gamma', 'epsilon', 'delta']\n"
     ]
    }
   ],
   "source": [
    "def permuter(original_list, permutation):\n",
    "    permuted_list = []\n",
    "    for index in permutation:\n",
    "        permuted_list.append(original_list[index])\n",
    "    return permuted_list\n",
    "\n",
    "original_list_1 = [\"a\", \"b\", \"c\", \"d\", \"e\"]\n",
    "original_list_2 = [\"alpha\", \"beta\", \"gamma\", \"delta\", \"epsilon\"]\n",
    "\n",
    "permutation_1 = random_permutation(5)\n",
    "print(permuter(original_list_1, permutation_1))\n",
    "print(permuter(original_list_2, permutation_1))\n",
    "\n",
    "permutation_2 = random_permutation(5)\n",
    "print(permuter(original_list_1, permutation_2))\n",
    "print(permuter(original_list_2, permutation_2))"
   ]
  },
  {
   "cell_type": "markdown",
   "metadata": {},
   "source": [
    "# 4. Compute the signature of each document\n",
    "\n",
    "Now comes the core of the algorith. We will create a new matrix `M_signature_doc` having a small number of rows (the *signature size*), which will be equivalent to the number of permutations we use. The number of columns will continue being the number of documents."
   ]
  },
  {
   "cell_type": "code",
   "execution_count": 20,
   "metadata": {},
   "outputs": [],
   "source": [
    "num_permutations = 4"
   ]
  },
  {
   "cell_type": "markdown",
   "metadata": {},
   "source": [
    "[**CODE**] Create *num_permutation* permutations and store them in the array of arrays `permutations`."
   ]
  },
  {
   "cell_type": "code",
   "execution_count": 21,
   "metadata": {},
   "outputs": [
    {
     "name": "stdout",
     "output_type": "stream",
     "text": [
      "Creating 4 permutations for 20220 distinct ngrams\n"
     ]
    }
   ],
   "source": [
    "permutations = []\n",
    "\n",
    "print(\"Creating %d permutations for %d distinct ngrams\" % (num_permutations, num_distinct_ngrams))\n",
    "for i in range(num_permutations):\n",
    "    permutations.append(random_permutation(num_distinct_ngrams))"
   ]
  },
  {
   "cell_type": "markdown",
   "metadata": {},
   "source": [
    "Test by printing the permutations you have created:"
   ]
  },
  {
   "cell_type": "code",
   "execution_count": 22,
   "metadata": {},
   "outputs": [
    {
     "name": "stdout",
     "output_type": "stream",
     "text": [
      "Permutation 0: 17232, 11556, 725, ...\n",
      "Permutation 1: 18861, 15658, 5977, ...\n",
      "Permutation 2: 4173, 5613, 3746, ...\n",
      "Permutation 3: 8823, 12441, 2222, ...\n"
     ]
    }
   ],
   "source": [
    "for i in range(len(permutations)):\n",
    "    permutation = permutations[i]\n",
    "    print(\"Permutation %d: %d, %d, %d, ...\" % (i, permutation[0], permutation[1], permutation[2] ))"
   ]
  },
  {
   "cell_type": "markdown",
   "metadata": {},
   "source": [
    "[**CODE**] Implement the signature construction. The matrix `M_signature_doc` should contain in row i, column j, the first ngram (the \"minimum\" one) that is present in a column (document), according to the order given by a permutation."
   ]
  },
  {
   "cell_type": "code",
   "execution_count": 23,
   "metadata": {},
   "outputs": [
    {
     "name": "stdout",
     "output_type": "stream",
     "text": [
      "Creating signatures for permutation 0/4\n",
      "Creating signatures for permutation 1/4\n",
      "Creating signatures for permutation 2/4\n",
      "Creating signatures for permutation 3/4\n"
     ]
    }
   ],
   "source": [
    "M_signature_doc = np.zeros((num_permutations, len(messages)))\n",
    "\n",
    "def find_smallest_ngram_permutation_order(docid, permutation):\n",
    "    for ngram_id in permutation:\n",
    "        if M_ngram_doc[ngram_id, docid] == 1:\n",
    "            return ngram_id\n",
    "    return -1\n",
    "\n",
    "for permutation_num in range(num_permutations):\n",
    "    print(\"Creating signatures for permutation %d/%d\" % (permutation_num, num_permutations))\n",
    "    permutation = permutations[permutation_num]\n",
    "    for docid in range(len(messages)):\n",
    "        M_signature_doc[permutation_num, docid] = find_smallest_ngram_permutation_order(docid, permutations[permutation_num])\n",
    "        "
   ]
  },
  {
   "cell_type": "markdown",
   "metadata": {},
   "source": [
    "Test your code by checking the signatures of two documents that are near-duplicates. Being near-duplicates, we expect these should have many ngrams in common, and hence, with high probability they will have many elements in common in their signatures."
   ]
  },
  {
   "cell_type": "code",
   "execution_count": 24,
   "metadata": {},
   "outputs": [
    {
     "name": "stdout",
     "output_type": "stream",
     "text": [
      "Signature of document 28\n",
      "Message   : rt policia agentes intervienen urnas y papeletas en distintos colegios de barcelona cumplimos la legalidad \n",
      "estamosporti https//tco/…\n",
      "Ngrams    : [63, 64, 65, 66, 67, 68, 69, 70, 71, 72, 73, 74, 75, 76, 77]\n",
      "Signature : [71.0, 66.0, 76.0, 65.0]\n",
      "\n",
      "Signature of document 3689\n",
      "Message   : rt noticia_libre agentes policia  intervienen urnas y papeletas en distintos colegios de barcelona cumplimos la legalidad \n",
      "estamospor…\n",
      "Ngrams    : [66, 67, 68, 69, 70, 71, 72, 73, 74, 75, 2854, 2855, 2856, 2857, 2858]\n",
      "Signature : [71.0, 66.0, 2856.0, 69.0]\n"
     ]
    }
   ],
   "source": [
    "print(\"Signature of document 28\")\n",
    "print(\"Message   : %s\" % clean(messages[28]))\n",
    "print(\"Ngrams    : %s\" % ngrams_doc_28)\n",
    "signature_28 = [M_signature_doc[i, 28] for i in range(num_permutations)]\n",
    "print(\"Signature : %s\" % signature_28)\n",
    "\n",
    "print()\n",
    "\n",
    "print(\"Signature of document 3689\")\n",
    "print(\"Message   : %s\" % clean(messages[3689]))\n",
    "print(\"Ngrams    : %s\" % ngrams_doc_3689)\n",
    "signature_3689 = [M_signature_doc[i, 3689] for i in range(num_permutations)]\n",
    "print(\"Signature : %s\" % signature_3689)"
   ]
  },
  {
   "cell_type": "markdown",
   "metadata": {},
   "source": [
    "# 5. Compare all pair-wise signatures\n",
    "\n",
    "Now we are ready to compare all documents by their signatures, instead of by their content."
   ]
  },
  {
   "cell_type": "code",
   "execution_count": 25,
   "metadata": {},
   "outputs": [],
   "source": [
    "def extract_signature(docid):\n",
    "    return [M_signature_doc[i, docid] for i in range(num_permutations)]"
   ]
  },
  {
   "cell_type": "code",
   "execution_count": 26,
   "metadata": {},
   "outputs": [],
   "source": [
    "limit = 100\n",
    "\n",
    "start = timer()\n",
    "\n",
    "for docid1 in range(len(messages)):\n",
    "    if docid1 > limit:\n",
    "        break\n",
    "    \n",
    "    signature1 = extract_signature(docid1)        \n",
    "    for docid2 in range(docid1+1, len(messages)):\n",
    "        signature2 = extract_signature(docid2)\n",
    "        \n",
    "        similarity = jaccard_similarity(signature1, signature2)\n",
    "        \n",
    "end = timer()"
   ]
  },
  {
   "cell_type": "markdown",
   "metadata": {},
   "source": [
    "[**REPORT**] Include the following time estimations in your report"
   ]
  },
  {
   "cell_type": "code",
   "execution_count": 27,
   "metadata": {},
   "outputs": [
    {
     "name": "stdout",
     "output_type": "stream",
     "text": [
      "Scanning 100 took 0:00:12.596550\n",
      "Scanning 16853 would take 0:35:22.896571\n"
     ]
    }
   ],
   "source": [
    "print(\"Scanning %d took %s\" % (limit, datetime.timedelta(seconds=end-start)))\n",
    "print(\"Scanning %d would take %s\" % (len(messages), datetime.timedelta(seconds=(end-start)*len(messages)/limit)))"
   ]
  },
  {
   "cell_type": "markdown",
   "metadata": {},
   "source": [
    "# 7. Compute percentage of pairs having the following similarities"
   ]
  },
  {
   "cell_type": "markdown",
   "metadata": {},
   "source": [
    "[**CODE**] [**REPORT**] Implement code to compute and report: what percentage of pairs have similarity strictly greater than 0.5 but strictly less than 1.0; give 2-3 examples of them (include docids and texts).\n",
    "\n",
    "[**CODE**] [**REPORT**] Implement code to compute and report: what percentage of pairs of documents have similarity 1.0, give 2-3 examples of them (include docids and texts).\n",
    "\n",
    "[**CODE**] [**REPORT**] Implement code to compute and report: what is the document that has more duplicates (give the docid and its text).\n",
    "\n",
    "Idea: you can save time by implementing these three in a single pass doing two nested loops over the messages (as above), instead of implementing these as three separate passes."
   ]
  },
  {
   "cell_type": "code",
   "execution_count": 28,
   "metadata": {},
   "outputs": [
    {
     "name": "stdout",
     "output_type": "stream",
     "text": [
      "[[0. 0. 0. ... 0. 0. 0.]\n",
      " [0. 0. 1. ... 0. 0. 0.]\n",
      " [0. 1. 0. ... 0. 0. 0.]\n",
      " ...\n",
      " [0. 0. 0. ... 0. 0. 0.]\n",
      " [0. 0. 0. ... 0. 0. 0.]\n",
      " [0. 0. 0. ... 0. 0. 0.]]\n"
     ]
    }
   ],
   "source": [
    "#CREATE MATRIX OF RELATION AND FILLING IT\n",
    "similarities = np.zeros((len(messages), len(messages)))\n",
    "\n",
    "for docid1 in range(len(messages)):\n",
    "    signature1 = extract_signature(docid1)        \n",
    "    for docid2 in range(docid1+1, len(messages)):\n",
    "        signature2 = extract_signature(docid2)        \n",
    "        similarity = jaccard_similarity(signature1, signature2)\n",
    "        similarities[docid1, docid2] = similarity\n",
    "        similarities[docid2, docid1] = similarity\n",
    "print(similarities)"
   ]
  },
  {
   "cell_type": "code",
   "execution_count": 29,
   "metadata": {},
   "outputs": [
    {
     "data": {
      "image/png": "[encoded data removed]",
      "text/plain": [
       "<Figure size 432x288 with 1 Axes>"
      ]
     },
     "metadata": {
      "needs_background": "light"
     },
     "output_type": "display_data"
    }
   ],
   "source": [
    "#Like a correlation matrix but with the similarities between documents\n",
    "plt.imshow(similarities, cmap=\"gray\")\n",
    "plt.show()"
   ]
  },
  {
   "cell_type": "code",
   "execution_count": 30,
   "metadata": {},
   "outputs": [
    {
     "name": "stdout",
     "output_type": "stream",
     "text": [
      "The document 0 and 46 are equals (100%)\n",
      "0 : RT @LaVanguardia: Último tuit del Ministerio de Interior #CatalanReferendum https://t.co/Wk33Loawtu\n",
      "46 : RT @LaVanguardia: Último tuit del Ministerio de Interior #CatalanReferendum https://t.co/Wk33Loawtu\n",
      "The document 0 and 119 are equals (100%)\n",
      "0 : RT @LaVanguardia: Último tuit del Ministerio de Interior #CatalanReferendum https://t.co/Wk33Loawtu\n",
      "119 : RT @LaVanguardia: Último tuit del Ministerio de Interior #CatalanReferendum https://t.co/Wk33Loawtu\n",
      "The document 0 and 2081 are equals (100%)\n",
      "0 : RT @LaVanguardia: Último tuit del Ministerio de Interior #CatalanReferendum https://t.co/Wk33Loawtu\n",
      "2081 : RT @LaVanguardia: Último tuit del Ministerio de Interior #CatalanReferendum https://t.co/Wk33Loawtu\n",
      "The document 100 and 1622 are similars (>50%)\n",
      "100 : RT @interiorgob: @policia @guardiacivil 2-Estas son las primeras urnas y papeletas incautadas por @policia, en Barcelona. Los agentes conti…\n",
      "1622 : RT @ANDRES_CANO42: #UnDomingoLegal   Estas son las primeras urnas y papeletas incautadas por @policia, en Barcelona. Los agentes continúan…\n",
      "The document 100 and 4494 are similars (>50%)\n",
      "100 : RT @interiorgob: @policia @guardiacivil 2-Estas son las primeras urnas y papeletas incautadas por @policia, en Barcelona. Los agentes conti…\n",
      "4494 : RT @ANDRES_CANO42: #UnDomingoLegal   Estas son las primeras urnas y papeletas incautadas por @policia, en Barcelona. Los agentes continúan…\n",
      "The document 100 and 5645 are similars (>50%)\n",
      "100 : RT @interiorgob: @policia @guardiacivil 2-Estas son las primeras urnas y papeletas incautadas por @policia, en Barcelona. Los agentes conti…\n",
      "5645 : RT @ANDRES_CANO42: #UnDomingoLegal   Estas son las primeras urnas y papeletas incautadas por @policia, en Barcelona. Los agentes continúan…\n"
     ]
    }
   ],
   "source": [
    "counter_equal = 0\n",
    "counter_half = 0\n",
    "counter_row = 0\n",
    "\n",
    "for column in range(len(messages)):\n",
    "    counter_row = 0\n",
    "    for row in range(len(messages)):\n",
    "        if similarities[column, row] == 1:\n",
    "            counter_row += 1\n",
    "            if(counter_equal<3):\n",
    "                print('The document', column, 'and', row, 'are equals (100%)')\n",
    "                print(column, ':', messages[column])\n",
    "                print(row, ':', messages[row])\n",
    "            counter_equal += 1            \n",
    "        elif similarities[column, row] > .5 and similarities[column, row] < 1:\n",
    "            if(counter_half<3):\n",
    "                print('The document', column, 'and', row, 'are similars (>50%)')\n",
    "                print(column, ':', messages[column])\n",
    "                print(row, ':', messages[row])\n",
    "            counter_half += 1"
   ]
  },
  {
   "cell_type": "code",
   "execution_count": 31,
   "metadata": {},
   "outputs": [
    {
     "name": "stdout",
     "output_type": "stream",
     "text": [
      "The document with more duplicates is:\n",
      " RT @interiorgob: Agentes de @policia también se han encontrado con agresiones,como esta en Barcelona,violencia contra el cumplimiento de la… \n",
      "with 3559 duplicates\n"
     ]
    }
   ],
   "source": [
    "duplicates = []\n",
    "for row in range(len(similarities)):\n",
    "    duplicates.append(np.count_nonzero(similarities[row] == 1.0))\n",
    "print('The document with more duplicates is:\\n', messages[np.argmax(duplicates)], '\\nwith', np.max(duplicates), 'duplicates')"
   ]
  },
  {
   "cell_type": "code",
   "execution_count": 32,
   "metadata": {},
   "outputs": [
    {
     "name": "stdout",
     "output_type": "stream",
     "text": [
      "Identical Documents: 7.316453752969529 %\n",
      "Similar Documents: 0.012345452592287847 %\n"
     ]
    }
   ],
   "source": [
    "print('Identical Documents:', (counter_equal/len(messages)**2)*100,'%') \n",
    "print('Similar Documents:', (counter_half/len(messages)**2)*100, '%')"
   ]
  },
  {
   "cell_type": "markdown",
   "metadata": {},
   "source": [
    "# 8. Deliver\n",
    "\n",
    "Deliver:\n",
    "\n",
    "* A zip file containing your notebook (.ipynb file) with all the [**CODE**] parts implemented.\n",
    "* A 1-page PDF report including all parts of this notebook marked with \"[**REPORT**]\"\n",
    "\n",
    "The report should end with the following statement: **I hereby declare that, except for the code provided by the course instructors, all of our code, report, and figures were produced by myself.**"
   ]
  }
 ],
 "metadata": {
  "kernelspec": {
   "display_name": "Python 3",
   "language": "python",
   "name": "python3"
  },
  "language_info": {
   "codemirror_mode": {
    "name": "ipython",
    "version": 3
   },
   "file_extension": ".py",
   "mimetype": "text/x-python",
   "name": "python",
   "nbconvert_exporter": "python",
   "pygments_lexer": "ipython3",
   "version": "3.7.3"
  }
 },
 "nbformat": 4,
 "nbformat_minor": 2
}
