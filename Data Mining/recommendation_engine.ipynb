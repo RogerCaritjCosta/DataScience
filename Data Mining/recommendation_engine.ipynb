{
 "cells": [
  {
   "cell_type": "markdown",
   "metadata": {},
   "source": [
    "# Practice Session 05: Recommendation engines (user-based)"
   ]
  },
  {
   "cell_type": "markdown",
   "metadata": {},
   "source": [
    "In this practice we will develop a mobile phone recommender using user-based collaborative filtering."
   ]
  },
  {
   "cell_type": "markdown",
   "metadata": {},
   "source": [
    "# 0. Preliminaries"
   ]
  },
  {
   "cell_type": "markdown",
   "metadata": {},
   "source": [
    "## 0.1. Datasets"
   ]
  },
  {
   "cell_type": "markdown",
   "metadata": {},
   "source": [
    "In this practice we will come back to the data we used in the first practice session. This dataset corresponds to 16K registers of mobile device purchases in a telco company. Each record in the dataset describes the voice and data traffic consumption and billing profile for each customer that purchases a new mobile telephone.\n",
    "\n",
    "The dataset has been processed into `re_dataset.csv` to generate new synthetic variables based on statistics. In particular, we have calculated the following statistics for each consumption variable (i.e. data traffic, voice traffic, billing and cost device) in a 6 months period:\n",
    "- mean\n",
    "- range: the difference between the maximum and minimum value among the 6 months value\n",
    "- maximum relative: maximum value / mean\n",
    "- minimum relative: minimum value / mean\n",
    "- relative range: range / mean\n",
    "\n",
    "Furthermore, from a business perspective, there is a new variable that could provide value to our model. This variable is the ratio between the device cost (i.e. how much the customer monthly spends to finance his/her current device) vs the total billing. For this new variable, we calculate as well its mean, range, maximum and minimum values. "
   ]
  },
  {
   "cell_type": "markdown",
   "metadata": {},
   "source": [
    "## 0.2. Required imports"
   ]
  },
  {
   "cell_type": "code",
   "execution_count": 1,
   "metadata": {},
   "outputs": [],
   "source": [
    "import numpy as np  \n",
    "import matplotlib.pyplot as plt  \n",
    "import pandas as pd   \n",
    "from math import *\n",
    "import seaborn as sns\n",
    "from sklearn.preprocessing import StandardScaler\n",
    "from sklearn import preprocessing\n",
    "from sklearn.preprocessing import MinMaxScaler\n",
    "from sklearn.metrics.pairwise import linear_kernel, cosine_similarity\n",
    "import matplotlib.pyplot as plt"
   ]
  },
  {
   "cell_type": "markdown",
   "metadata": {},
   "source": [
    "## 0.3 Load the data and first exploration"
   ]
  },
  {
   "cell_type": "markdown",
   "metadata": {},
   "source": [
    "- Open the csv with separator \",\" and assign to a dataframe variable (use read_csv from Pandas library)\n",
    "- Look at the head (first 5 registers)\n",
    "- Evaluate the dimensionality of the dataset (number of rows and number of columns) and the type of the given variables (float, string, integer, etc.)."
   ]
  },
  {
   "cell_type": "code",
   "execution_count": 2,
   "metadata": {},
   "outputs": [],
   "source": [
    "input_dataset=pd.read_csv(\"Datasets/re_dataset.csv\", sep=\",\")"
   ]
  },
  {
   "cell_type": "code",
   "execution_count": 3,
   "metadata": {},
   "outputs": [
    {
     "data": {
      "text/html": [
       "<div>\n",
       "<style scoped>\n",
       "    .dataframe tbody tr th:only-of-type {\n",
       "        vertical-align: middle;\n",
       "    }\n",
       "\n",
       "    .dataframe tbody tr th {\n",
       "        vertical-align: top;\n",
       "    }\n",
       "\n",
       "    .dataframe thead th {\n",
       "        text-align: right;\n",
       "    }\n",
       "</style>\n",
       "<table border=\"1\" class=\"dataframe\">\n",
       "  <thead>\n",
       "    <tr style=\"text-align: right;\">\n",
       "      <th></th>\n",
       "      <th>PURCHASED_DEVICE</th>\n",
       "      <th>NEW_COD_DEVICE</th>\n",
       "      <th>NEW_DEVICE_VALUE</th>\n",
       "      <th>DATA_TRAFFIC_MONTH_1</th>\n",
       "      <th>DATA_TRAFFIC_MONTH_2</th>\n",
       "      <th>DATA_TRAFFIC_MONTH_3</th>\n",
       "      <th>DATA_TRAFFIC_MONTH_4</th>\n",
       "      <th>DATA_TRAFFIC_MONTH_5</th>\n",
       "      <th>DATA_TRAFFIC_MONTH_6</th>\n",
       "      <th>DATA_RANGE</th>\n",
       "      <th>...</th>\n",
       "      <th>DEVICE_COST_BILLING_RATIO_RANGE</th>\n",
       "      <th>DEVICE_COST_AVG</th>\n",
       "      <th>DEVICE_COST_BILLING_RATIO_AVG</th>\n",
       "      <th>DEVICE_COST_MIN_REL</th>\n",
       "      <th>DEVICE_COST_MAX_REL</th>\n",
       "      <th>DEVICE_COST_RANGE_REL</th>\n",
       "      <th>DURATION_LINE</th>\n",
       "      <th>PREVIOUS_DEVICE_MODEL</th>\n",
       "      <th>PREVIOUS_DEVICE_MANUF</th>\n",
       "      <th>PREVIOUS_DEVICE_BRAND</th>\n",
       "    </tr>\n",
       "  </thead>\n",
       "  <tbody>\n",
       "    <tr>\n",
       "      <th>0</th>\n",
       "      <td>TGMO35912000_MOTOROLA XT1922 SMARTPHONE INDIGO</td>\n",
       "      <td>TGMO35912000</td>\n",
       "      <td>609.0</td>\n",
       "      <td>5014.103000</td>\n",
       "      <td>2659.051500</td>\n",
       "      <td>2659.051500</td>\n",
       "      <td>2435.039300</td>\n",
       "      <td>2053.979500</td>\n",
       "      <td>1553.115000</td>\n",
       "      <td>3460.988000</td>\n",
       "      <td>...</td>\n",
       "      <td>0.000000</td>\n",
       "      <td>0.000000</td>\n",
       "      <td>0.000000</td>\n",
       "      <td>0.0</td>\n",
       "      <td>0.0</td>\n",
       "      <td>0.0</td>\n",
       "      <td>54</td>\n",
       "      <td>K10a40</td>\n",
       "      <td>Motorola Mobility LLC, a Lenovo Company</td>\n",
       "      <td>Outros</td>\n",
       "    </tr>\n",
       "    <tr>\n",
       "      <th>1</th>\n",
       "      <td>DGAP068C2000_APPLE IPHONE 8 256GB CINZA PPB/PI...</td>\n",
       "      <td>DGAP068C2000</td>\n",
       "      <td>3465.0</td>\n",
       "      <td>1520.205600</td>\n",
       "      <td>2196.574500</td>\n",
       "      <td>2196.574500</td>\n",
       "      <td>1815.700900</td>\n",
       "      <td>2101.681600</td>\n",
       "      <td>3224.283400</td>\n",
       "      <td>1704.077800</td>\n",
       "      <td>...</td>\n",
       "      <td>0.000000</td>\n",
       "      <td>13.000000</td>\n",
       "      <td>8.856390</td>\n",
       "      <td>100.0</td>\n",
       "      <td>100.0</td>\n",
       "      <td>0.0</td>\n",
       "      <td>74</td>\n",
       "      <td>iPhone_6</td>\n",
       "      <td>Apple Inc</td>\n",
       "      <td>Apple</td>\n",
       "    </tr>\n",
       "    <tr>\n",
       "      <th>2</th>\n",
       "      <td>TGMO35912000_MOTOROLA XT1922 SMARTPHONE INDIGO</td>\n",
       "      <td>TGMO35912000</td>\n",
       "      <td>415.0</td>\n",
       "      <td>10789.820000</td>\n",
       "      <td>10423.674000</td>\n",
       "      <td>10423.674000</td>\n",
       "      <td>5188.596700</td>\n",
       "      <td>7379.404300</td>\n",
       "      <td>6789.482900</td>\n",
       "      <td>5601.223300</td>\n",
       "      <td>...</td>\n",
       "      <td>0.000000</td>\n",
       "      <td>0.000000</td>\n",
       "      <td>0.000000</td>\n",
       "      <td>0.0</td>\n",
       "      <td>0.0</td>\n",
       "      <td>0.0</td>\n",
       "      <td>79</td>\n",
       "      <td>iPhone_6</td>\n",
       "      <td>Apple Inc</td>\n",
       "      <td>Apple</td>\n",
       "    </tr>\n",
       "    <tr>\n",
       "      <th>3</th>\n",
       "      <td>TGLG29162000_LG X210BMW SMARTPHONE PRETO PPB/P...</td>\n",
       "      <td>TGLG29162000</td>\n",
       "      <td>321.0</td>\n",
       "      <td>4.177461</td>\n",
       "      <td>4.177461</td>\n",
       "      <td>1.889648</td>\n",
       "      <td>8.758789</td>\n",
       "      <td>0.000000</td>\n",
       "      <td>0.000000</td>\n",
       "      <td>8.758789</td>\n",
       "      <td>...</td>\n",
       "      <td>0.000000</td>\n",
       "      <td>0.000000</td>\n",
       "      <td>0.000000</td>\n",
       "      <td>0.0</td>\n",
       "      <td>0.0</td>\n",
       "      <td>0.0</td>\n",
       "      <td>21</td>\n",
       "      <td>Samsung_Galaxy_J1_Mini</td>\n",
       "      <td>Samsung Korea</td>\n",
       "      <td>Samsung</td>\n",
       "    </tr>\n",
       "    <tr>\n",
       "      <th>4</th>\n",
       "      <td>TGLG29162000_LG X210BMW SMARTPHONE PRETO PPB/P...</td>\n",
       "      <td>TGLG29162000</td>\n",
       "      <td>255.0</td>\n",
       "      <td>4550.795900</td>\n",
       "      <td>4297.518600</td>\n",
       "      <td>4297.518600</td>\n",
       "      <td>5398.457500</td>\n",
       "      <td>2456.808100</td>\n",
       "      <td>5073.480000</td>\n",
       "      <td>2941.649400</td>\n",
       "      <td>...</td>\n",
       "      <td>0.000000</td>\n",
       "      <td>0.000000</td>\n",
       "      <td>0.000000</td>\n",
       "      <td>0.0</td>\n",
       "      <td>0.0</td>\n",
       "      <td>0.0</td>\n",
       "      <td>55</td>\n",
       "      <td>unknown</td>\n",
       "      <td>unknown</td>\n",
       "      <td>unknown</td>\n",
       "    </tr>\n",
       "    <tr>\n",
       "      <th>5</th>\n",
       "      <td>TGLG29162000_LG X210BMW SMARTPHONE PRETO PPB/P...</td>\n",
       "      <td>TGLG29162000</td>\n",
       "      <td>255.0</td>\n",
       "      <td>2842.297900</td>\n",
       "      <td>850.088810</td>\n",
       "      <td>850.088810</td>\n",
       "      <td>1535.627100</td>\n",
       "      <td>962.114930</td>\n",
       "      <td>801.640500</td>\n",
       "      <td>2040.657400</td>\n",
       "      <td>...</td>\n",
       "      <td>0.000000</td>\n",
       "      <td>0.000000</td>\n",
       "      <td>0.000000</td>\n",
       "      <td>0.0</td>\n",
       "      <td>0.0</td>\n",
       "      <td>0.0</td>\n",
       "      <td>55</td>\n",
       "      <td>unknown</td>\n",
       "      <td>unknown</td>\n",
       "      <td>unknown</td>\n",
       "    </tr>\n",
       "    <tr>\n",
       "      <th>6</th>\n",
       "      <td>TGLG29162000_LG X210BMW SMARTPHONE PRETO PPB/P...</td>\n",
       "      <td>TGLG29162000</td>\n",
       "      <td>297.0</td>\n",
       "      <td>6566.303700</td>\n",
       "      <td>4594.519500</td>\n",
       "      <td>4594.519500</td>\n",
       "      <td>2257.108400</td>\n",
       "      <td>4465.744600</td>\n",
       "      <td>2471.750000</td>\n",
       "      <td>4309.195300</td>\n",
       "      <td>...</td>\n",
       "      <td>0.000000</td>\n",
       "      <td>0.000000</td>\n",
       "      <td>0.000000</td>\n",
       "      <td>0.0</td>\n",
       "      <td>0.0</td>\n",
       "      <td>0.0</td>\n",
       "      <td>15</td>\n",
       "      <td>LG_Novo_K10</td>\n",
       "      <td>LG Electronics Inc.</td>\n",
       "      <td>LG</td>\n",
       "    </tr>\n",
       "    <tr>\n",
       "      <th>7</th>\n",
       "      <td>TGSA32564007_SAMSUNG J260M SMART PRETO  PPB/PI...</td>\n",
       "      <td>TGSA32564007</td>\n",
       "      <td>633.0</td>\n",
       "      <td>4.528594</td>\n",
       "      <td>464.087740</td>\n",
       "      <td>695.095950</td>\n",
       "      <td>223.330200</td>\n",
       "      <td>223.330200</td>\n",
       "      <td>247.853820</td>\n",
       "      <td>690.567356</td>\n",
       "      <td>...</td>\n",
       "      <td>61.728395</td>\n",
       "      <td>2.500000</td>\n",
       "      <td>4.042691</td>\n",
       "      <td>0.0</td>\n",
       "      <td>600.0</td>\n",
       "      <td>600.0</td>\n",
       "      <td>128</td>\n",
       "      <td>Samsung_Galaxy_J1_Mini</td>\n",
       "      <td>Samsung Korea</td>\n",
       "      <td>Samsung</td>\n",
       "    </tr>\n",
       "    <tr>\n",
       "      <th>8</th>\n",
       "      <td>TGSA32162007_SAMSUNG J610G SMART PRETO PPB/PI1...</td>\n",
       "      <td>TGSA32162007</td>\n",
       "      <td>705.0</td>\n",
       "      <td>8396.934600</td>\n",
       "      <td>9907.531300</td>\n",
       "      <td>9907.531300</td>\n",
       "      <td>5994.021000</td>\n",
       "      <td>6872.605500</td>\n",
       "      <td>5246.003900</td>\n",
       "      <td>4661.527400</td>\n",
       "      <td>...</td>\n",
       "      <td>76.270276</td>\n",
       "      <td>47.333333</td>\n",
       "      <td>28.328047</td>\n",
       "      <td>0.0</td>\n",
       "      <td>150.0</td>\n",
       "      <td>150.0</td>\n",
       "      <td>245</td>\n",
       "      <td>Samsung_Galaxy_S4_Mini</td>\n",
       "      <td>Samsung Korea</td>\n",
       "      <td>Samsung</td>\n",
       "    </tr>\n",
       "    <tr>\n",
       "      <th>9</th>\n",
       "      <td>TGLG29462000_LG X410BCW SMARTPHONE PRETO PPB/P...</td>\n",
       "      <td>TGLG29462000</td>\n",
       "      <td>897.0</td>\n",
       "      <td>2958.771700</td>\n",
       "      <td>16.703360</td>\n",
       "      <td>16.703360</td>\n",
       "      <td>15.678672</td>\n",
       "      <td>31.404882</td>\n",
       "      <td>9.798711</td>\n",
       "      <td>2948.972989</td>\n",
       "      <td>...</td>\n",
       "      <td>106.534091</td>\n",
       "      <td>10.000000</td>\n",
       "      <td>14.765596</td>\n",
       "      <td>0.0</td>\n",
       "      <td>150.0</td>\n",
       "      <td>150.0</td>\n",
       "      <td>26</td>\n",
       "      <td>unknown</td>\n",
       "      <td>unknown</td>\n",
       "      <td>unknown</td>\n",
       "    </tr>\n",
       "  </tbody>\n",
       "</table>\n",
       "<p>10 rows × 55 columns</p>\n",
       "</div>"
      ],
      "text/plain": [
       "                                    PURCHASED_DEVICE NEW_COD_DEVICE  \\\n",
       "0     TGMO35912000_MOTOROLA XT1922 SMARTPHONE INDIGO   TGMO35912000   \n",
       "1  DGAP068C2000_APPLE IPHONE 8 256GB CINZA PPB/PI...   DGAP068C2000   \n",
       "2     TGMO35912000_MOTOROLA XT1922 SMARTPHONE INDIGO   TGMO35912000   \n",
       "3  TGLG29162000_LG X210BMW SMARTPHONE PRETO PPB/P...   TGLG29162000   \n",
       "4  TGLG29162000_LG X210BMW SMARTPHONE PRETO PPB/P...   TGLG29162000   \n",
       "5  TGLG29162000_LG X210BMW SMARTPHONE PRETO PPB/P...   TGLG29162000   \n",
       "6  TGLG29162000_LG X210BMW SMARTPHONE PRETO PPB/P...   TGLG29162000   \n",
       "7  TGSA32564007_SAMSUNG J260M SMART PRETO  PPB/PI...   TGSA32564007   \n",
       "8  TGSA32162007_SAMSUNG J610G SMART PRETO PPB/PI1...   TGSA32162007   \n",
       "9  TGLG29462000_LG X410BCW SMARTPHONE PRETO PPB/P...   TGLG29462000   \n",
       "\n",
       "   NEW_DEVICE_VALUE  DATA_TRAFFIC_MONTH_1  DATA_TRAFFIC_MONTH_2  \\\n",
       "0             609.0           5014.103000           2659.051500   \n",
       "1            3465.0           1520.205600           2196.574500   \n",
       "2             415.0          10789.820000          10423.674000   \n",
       "3             321.0              4.177461              4.177461   \n",
       "4             255.0           4550.795900           4297.518600   \n",
       "5             255.0           2842.297900            850.088810   \n",
       "6             297.0           6566.303700           4594.519500   \n",
       "7             633.0              4.528594            464.087740   \n",
       "8             705.0           8396.934600           9907.531300   \n",
       "9             897.0           2958.771700             16.703360   \n",
       "\n",
       "   DATA_TRAFFIC_MONTH_3  DATA_TRAFFIC_MONTH_4  DATA_TRAFFIC_MONTH_5  \\\n",
       "0           2659.051500           2435.039300           2053.979500   \n",
       "1           2196.574500           1815.700900           2101.681600   \n",
       "2          10423.674000           5188.596700           7379.404300   \n",
       "3              1.889648              8.758789              0.000000   \n",
       "4           4297.518600           5398.457500           2456.808100   \n",
       "5            850.088810           1535.627100            962.114930   \n",
       "6           4594.519500           2257.108400           4465.744600   \n",
       "7            695.095950            223.330200            223.330200   \n",
       "8           9907.531300           5994.021000           6872.605500   \n",
       "9             16.703360             15.678672             31.404882   \n",
       "\n",
       "   DATA_TRAFFIC_MONTH_6   DATA_RANGE  ...  DEVICE_COST_BILLING_RATIO_RANGE  \\\n",
       "0           1553.115000  3460.988000  ...                         0.000000   \n",
       "1           3224.283400  1704.077800  ...                         0.000000   \n",
       "2           6789.482900  5601.223300  ...                         0.000000   \n",
       "3              0.000000     8.758789  ...                         0.000000   \n",
       "4           5073.480000  2941.649400  ...                         0.000000   \n",
       "5            801.640500  2040.657400  ...                         0.000000   \n",
       "6           2471.750000  4309.195300  ...                         0.000000   \n",
       "7            247.853820   690.567356  ...                        61.728395   \n",
       "8           5246.003900  4661.527400  ...                        76.270276   \n",
       "9              9.798711  2948.972989  ...                       106.534091   \n",
       "\n",
       "   DEVICE_COST_AVG  DEVICE_COST_BILLING_RATIO_AVG  DEVICE_COST_MIN_REL  \\\n",
       "0         0.000000                       0.000000                  0.0   \n",
       "1        13.000000                       8.856390                100.0   \n",
       "2         0.000000                       0.000000                  0.0   \n",
       "3         0.000000                       0.000000                  0.0   \n",
       "4         0.000000                       0.000000                  0.0   \n",
       "5         0.000000                       0.000000                  0.0   \n",
       "6         0.000000                       0.000000                  0.0   \n",
       "7         2.500000                       4.042691                  0.0   \n",
       "8        47.333333                      28.328047                  0.0   \n",
       "9        10.000000                      14.765596                  0.0   \n",
       "\n",
       "   DEVICE_COST_MAX_REL  DEVICE_COST_RANGE_REL  DURATION_LINE  \\\n",
       "0                  0.0                    0.0             54   \n",
       "1                100.0                    0.0             74   \n",
       "2                  0.0                    0.0             79   \n",
       "3                  0.0                    0.0             21   \n",
       "4                  0.0                    0.0             55   \n",
       "5                  0.0                    0.0             55   \n",
       "6                  0.0                    0.0             15   \n",
       "7                600.0                  600.0            128   \n",
       "8                150.0                  150.0            245   \n",
       "9                150.0                  150.0             26   \n",
       "\n",
       "    PREVIOUS_DEVICE_MODEL                    PREVIOUS_DEVICE_MANUF  \\\n",
       "0                  K10a40  Motorola Mobility LLC, a Lenovo Company   \n",
       "1                iPhone_6                                Apple Inc   \n",
       "2                iPhone_6                                Apple Inc   \n",
       "3  Samsung_Galaxy_J1_Mini                            Samsung Korea   \n",
       "4                 unknown                                  unknown   \n",
       "5                 unknown                                  unknown   \n",
       "6             LG_Novo_K10                      LG Electronics Inc.   \n",
       "7  Samsung_Galaxy_J1_Mini                            Samsung Korea   \n",
       "8  Samsung_Galaxy_S4_Mini                            Samsung Korea   \n",
       "9                 unknown                                  unknown   \n",
       "\n",
       "   PREVIOUS_DEVICE_BRAND  \n",
       "0                 Outros  \n",
       "1                  Apple  \n",
       "2                  Apple  \n",
       "3                Samsung  \n",
       "4                unknown  \n",
       "5                unknown  \n",
       "6                     LG  \n",
       "7                Samsung  \n",
       "8                Samsung  \n",
       "9                unknown  \n",
       "\n",
       "[10 rows x 55 columns]"
      ]
     },
     "execution_count": 3,
     "metadata": {},
     "output_type": "execute_result"
    }
   ],
   "source": [
    "input_dataset.head(10)"
   ]
  },
  {
   "cell_type": "code",
   "execution_count": 4,
   "metadata": {},
   "outputs": [
    {
     "data": {
      "text/plain": [
       "(16232, 55)"
      ]
     },
     "execution_count": 4,
     "metadata": {},
     "output_type": "execute_result"
    }
   ],
   "source": [
    "input_dataset.shape"
   ]
  },
  {
   "cell_type": "code",
   "execution_count": 5,
   "metadata": {},
   "outputs": [
    {
     "name": "stdout",
     "output_type": "stream",
     "text": [
      "<class 'pandas.core.frame.DataFrame'>\n",
      "RangeIndex: 16232 entries, 0 to 16231\n",
      "Data columns (total 55 columns):\n",
      "PURCHASED_DEVICE                   16232 non-null object\n",
      "NEW_COD_DEVICE                     16232 non-null object\n",
      "NEW_DEVICE_VALUE                   15872 non-null float64\n",
      "DATA_TRAFFIC_MONTH_1               16232 non-null float64\n",
      "DATA_TRAFFIC_MONTH_2               16232 non-null float64\n",
      "DATA_TRAFFIC_MONTH_3               16232 non-null float64\n",
      "DATA_TRAFFIC_MONTH_4               16232 non-null float64\n",
      "DATA_TRAFFIC_MONTH_5               16232 non-null float64\n",
      "DATA_TRAFFIC_MONTH_6               16232 non-null float64\n",
      "DATA_RANGE                         16232 non-null float64\n",
      "DATA_AVG                           16232 non-null float64\n",
      "DATA_MIN_REL                       13926 non-null float64\n",
      "DATA_MAX_REL                       13926 non-null float64\n",
      "DATA_RANGE_REL                     13926 non-null float64\n",
      "VOICE_TRAFFIC_MONTH_1              16232 non-null float64\n",
      "VOICE_TRAFFIC_MONTH_2              16232 non-null float64\n",
      "VOICE_TRAFFIC_MONTH_3              16232 non-null float64\n",
      "VOICE_TRAFFIC_MONTH_4              16232 non-null float64\n",
      "VOICE_TRAFFIC_MONTH_5              16232 non-null float64\n",
      "VOICE_TRAFFIC_MONTH_6              16232 non-null float64\n",
      "VOICE_RANGE                        16232 non-null float64\n",
      "VOICE_AVG                          16232 non-null float64\n",
      "VOICE_MIN_REL                      15860 non-null float64\n",
      "VOICE_MAX_REL                      15860 non-null float64\n",
      "VOICE_RANGE_REL                    15860 non-null float64\n",
      "BILLING_MONTH_1                    16232 non-null float64\n",
      "BILLING_MONTH_2                    16232 non-null float64\n",
      "BILLING_MONTH_3                    16232 non-null float64\n",
      "BILLING_MONTH_4                    16232 non-null float64\n",
      "BILLING_MONTH_5                    16232 non-null float64\n",
      "BILLING_MONTH_6                    16232 non-null float64\n",
      "BILLING_RANGE                      16232 non-null float64\n",
      "BILLING_AVG                        16232 non-null float64\n",
      "BILLING_MIN_REL                    16154 non-null float64\n",
      "BILLING_MAX_REL                    16154 non-null float64\n",
      "BILLING_RANGE_REL                  16154 non-null float64\n",
      "DEVICE_COST_MONTH_1                16232 non-null float64\n",
      "DEVICE_COST_MONTH_2                16232 non-null float64\n",
      "DEVICE_COST_MONTH_3                16232 non-null float64\n",
      "DEVICE_COST_MONTH_4                16232 non-null float64\n",
      "DEVICE_COST_MONTH_5                16232 non-null float64\n",
      "DEVICE_COST_MONTH_6                16232 non-null float64\n",
      "DEVICE_COST_BILLING_RATIO_MIN      16002 non-null float64\n",
      "DEVICE_COST_BILLING_RATIO_MAX      16154 non-null float64\n",
      "DEVICE_COST_RANGE                  16232 non-null float64\n",
      "DEVICE_COST_BILLING_RATIO_RANGE    16232 non-null float64\n",
      "DEVICE_COST_AVG                    16232 non-null float64\n",
      "DEVICE_COST_BILLING_RATIO_AVG      16154 non-null float64\n",
      "DEVICE_COST_MIN_REL                16232 non-null float64\n",
      "DEVICE_COST_MAX_REL                16232 non-null float64\n",
      "DEVICE_COST_RANGE_REL              16232 non-null float64\n",
      "DURATION_LINE                      16232 non-null int64\n",
      "PREVIOUS_DEVICE_MODEL              16232 non-null object\n",
      "PREVIOUS_DEVICE_MANUF              16232 non-null object\n",
      "PREVIOUS_DEVICE_BRAND              16232 non-null object\n",
      "dtypes: float64(49), int64(1), object(5)\n",
      "memory usage: 6.8+ MB\n"
     ]
    }
   ],
   "source": [
    "input_dataset.info()"
   ]
  },
  {
   "cell_type": "markdown",
   "metadata": {},
   "source": [
    "# 1. Building a recommendation engine"
   ]
  },
  {
   "cell_type": "markdown",
   "metadata": {},
   "source": [
    "## 1.0. Exploratory data analysis\n"
   ]
  },
  {
   "cell_type": "markdown",
   "metadata": {},
   "source": [
    "[**REPORT**] Evaluate the main statistics of the following numeric variables: **BILLING_AVG**, **VOICE_AVG** and **DATA_AVG**"
   ]
  },
  {
   "cell_type": "code",
   "execution_count": 6,
   "metadata": {},
   "outputs": [
    {
     "name": "stdout",
     "output_type": "stream",
     "text": [
      "Billing Average statistics:\n",
      " count    16232.000000\n",
      "mean       109.522225\n",
      "std         64.963772\n",
      "min          0.000000\n",
      "25%         71.109583\n",
      "50%        103.367500\n",
      "75%        130.946250\n",
      "max       1023.170000\n",
      "Name: BILLING_AVG, dtype: float64 \n",
      "\n",
      "Voice Average statistics:\n",
      " count    16232.000000\n",
      "mean       140.072819\n",
      "std        187.763361\n",
      "min          0.000000\n",
      "25%         29.129166\n",
      "50%         80.225000\n",
      "75%        179.770830\n",
      "max       5171.416732\n",
      "Name: VOICE_AVG, dtype: float64 \n",
      "\n",
      "Data Average statistics:\n",
      " count    16232.000000\n",
      "mean      3883.600622\n",
      "std       6061.852456\n",
      "min          0.000000\n",
      "25%        200.017678\n",
      "50%       1751.118797\n",
      "75%       5018.173763\n",
      "max      83475.756500\n",
      "Name: DATA_AVG, dtype: float64 \n",
      "\n"
     ]
    }
   ],
   "source": [
    "print('Billing Average statistics:\\n', input_dataset['BILLING_AVG'].describe(), '\\n')\n",
    "print('Voice Average statistics:\\n', input_dataset['VOICE_AVG'].describe(), '\\n')\n",
    "print('Data Average statistics:\\n', input_dataset['DATA_AVG'].describe(), '\\n')"
   ]
  },
  {
   "cell_type": "markdown",
   "metadata": {},
   "source": [
    "[**REPORT**] Generate 3 plot with the distributions of **BILLING_AVG**, **DATA_AVG** and **VOICE_AVG** variables. Can you recognize any specific distribution (exponential, bimodal...)?\n",
    "\n",
    "Tip: you can use [seaborn.distplot](https://seaborn.pydata.org/generated/seaborn.distplot.html). Recommended options for this function are `hist=True, kde=False` which will plot the histogram but not try to create a kernel density estimation."
   ]
  },
  {
   "cell_type": "code",
   "execution_count": 7,
   "metadata": {},
   "outputs": [
    {
     "data": {
      "image/png": "[encoded data removed]",
      "text/plain": [
       "<Figure size 432x288 with 1 Axes>"
      ]
     },
     "metadata": {
      "needs_background": "light"
     },
     "output_type": "display_data"
    }
   ],
   "source": [
    "x = input_dataset['BILLING_AVG']\n",
    "ax = sns.distplot(x, hist= True, kde=False)\n",
    "fig = ax.get_figure()\n",
    "fig.savefig(\"Tables/billing_dist.png\")"
   ]
  },
  {
   "cell_type": "code",
   "execution_count": 8,
   "metadata": {},
   "outputs": [
    {
     "data": {
      "image/png": "[encoded data removed]",
      "text/plain": [
       "<Figure size 432x288 with 1 Axes>"
      ]
     },
     "metadata": {
      "needs_background": "light"
     },
     "output_type": "display_data"
    }
   ],
   "source": [
    "x = input_dataset['DATA_AVG']\n",
    "ax = sns.distplot(x, hist= True, kde=False)\n",
    "fig = ax.get_figure()\n",
    "fig.savefig(\"Tables/data_dist.png\")"
   ]
  },
  {
   "cell_type": "code",
   "execution_count": 9,
   "metadata": {},
   "outputs": [
    {
     "data": {
      "image/png": "[encoded data removed]",
      "text/plain": [
       "<Figure size 432x288 with 1 Axes>"
      ]
     },
     "metadata": {
      "needs_background": "light"
     },
     "output_type": "display_data"
    }
   ],
   "source": [
    "x = input_dataset['VOICE_AVG']\n",
    "ax = sns.distplot(x, hist= True, kde=False)\n",
    "fig = ax.get_figure()\n",
    "fig.savefig(\"Tables/voice_dist.png\")"
   ]
  },
  {
   "cell_type": "markdown",
   "metadata": {},
   "source": [
    "[**REPORT**] Generate a table with a census of purchased mobile phones. This census will help us to know which is the current demand in the telco's customers. Which is the most purchased device? How many different types of mobile phones are? Does it make sense to apply a recommender? why?"
   ]
  },
  {
   "cell_type": "code",
   "execution_count": 10,
   "metadata": {},
   "outputs": [
    {
     "name": "stdout",
     "output_type": "stream",
     "text": [
      "Census of purchased devices:\n",
      "TGLG29162000_LG X210BMW SMARTPHONE PRETO PPB/P1769/07    6406\n",
      "TGMO35912000_MOTOROLA XT1922 SMARTPHONE INDIGO           1274\n",
      "TGAL03462000_ALCATEL 5033J SMART PRETO                    744\n",
      "TGLG29462000_LG X410BCW SMARTPHONE PRETO PPB/P1769/07     457\n",
      "TGMO362C2000_MOTOROLA XT1944 SMARTPHONE PLATINUM          433\n",
      "TGSA32162007_SAMSUNG J610G SMART PRETO PPB/PI107/04       413\n",
      "TGSA31964007_SAMSUNG J410G SMART PRETO PPB/PI324/14       395\n",
      "TGSA31962007_SAMSUNG J410G SMART PRETO PPB/PI107/04       377\n",
      "TGAL03267000_ALCATEL 4034E SMARTPHONE PIXI4-4  PRETO      354\n",
      "TGMO36762000_MOTOROLA XT1941 SMARTPHONE PRETO             286\n",
      "Name: PURCHASED_DEVICE, dtype: int64\n",
      "-------------------------\n",
      "There are 116 different mobile phones.\n"
     ]
    }
   ],
   "source": [
    "#Census table\n",
    "print('Census of purchased devices:')\n",
    "print(input_dataset['PURCHASED_DEVICE'].value_counts().head(10))\n",
    "print('-------------------------')\n",
    "#Different types of mobile phones\n",
    "print('There are', len(input_dataset['PURCHASED_DEVICE'].value_counts()) ,'different mobile phones.')"
   ]
  },
  {
   "cell_type": "markdown",
   "metadata": {},
   "source": [
    "## 1.1. Data preparation: Variable selection and standarization"
   ]
  },
  {
   "cell_type": "markdown",
   "metadata": {},
   "source": [
    "Even though we have a great dataset, not all variables will be useful. In some occasions, introducing a new variable in the dataset could deteriorate the performance of the model. \n",
    "In our case, we have to select those variables that can help us to our final purpose (i.e. suggest a list of mobile phones to the telco's customers) taking into the technique we are going to use: a user-based collaborative filtering. Because of that we have should select those variables that explain better the users' behaviour.\n",
    "This variable selection is usually iterative."
   ]
  },
  {
   "cell_type": "markdown",
   "metadata": {},
   "source": [
    "Let's create a new dataset considering the following variables: **DATA_RANGE**, **DATA_AVG**,  **VOICE_RANGE**, **VOICE_AVG**,**BILLING_RANGE**, **BILLING_AVG**, **DEVICE_COST_RANGE**, **DEVICE_COST_AVG** and **DEVICE_COST_BILLING_RATIO_AVG**"
   ]
  },
  {
   "cell_type": "code",
   "execution_count": 11,
   "metadata": {},
   "outputs": [],
   "source": [
    "input_dataset_limit=input_dataset[[\"PURCHASED_DEVICE\",\"DATA_RANGE\", \"DATA_AVG\",  \"VOICE_RANGE\", \"VOICE_AVG\",\"BILLING_RANGE\", \"BILLING_AVG\", \"DEVICE_COST_RANGE\", \"DEVICE_COST_AVG\",\"DEVICE_COST_BILLING_RATIO_AVG\"]]"
   ]
  },
  {
   "cell_type": "code",
   "execution_count": 12,
   "metadata": {},
   "outputs": [
    {
     "data": {
      "text/html": [
       "<div>\n",
       "<style scoped>\n",
       "    .dataframe tbody tr th:only-of-type {\n",
       "        vertical-align: middle;\n",
       "    }\n",
       "\n",
       "    .dataframe tbody tr th {\n",
       "        vertical-align: top;\n",
       "    }\n",
       "\n",
       "    .dataframe thead th {\n",
       "        text-align: right;\n",
       "    }\n",
       "</style>\n",
       "<table border=\"1\" class=\"dataframe\">\n",
       "  <thead>\n",
       "    <tr style=\"text-align: right;\">\n",
       "      <th></th>\n",
       "      <th>PURCHASED_DEVICE</th>\n",
       "      <th>DATA_RANGE</th>\n",
       "      <th>DATA_AVG</th>\n",
       "      <th>VOICE_RANGE</th>\n",
       "      <th>VOICE_AVG</th>\n",
       "      <th>BILLING_RANGE</th>\n",
       "      <th>BILLING_AVG</th>\n",
       "      <th>DEVICE_COST_RANGE</th>\n",
       "      <th>DEVICE_COST_AVG</th>\n",
       "      <th>DEVICE_COST_BILLING_RATIO_AVG</th>\n",
       "    </tr>\n",
       "  </thead>\n",
       "  <tbody>\n",
       "    <tr>\n",
       "      <th>0</th>\n",
       "      <td>TGMO35912000_MOTOROLA XT1922 SMARTPHONE INDIGO</td>\n",
       "      <td>3460.988000</td>\n",
       "      <td>2729.056633</td>\n",
       "      <td>383.899990</td>\n",
       "      <td>63.983332</td>\n",
       "      <td>2.70</td>\n",
       "      <td>109.700000</td>\n",
       "      <td>0.0</td>\n",
       "      <td>0.0</td>\n",
       "      <td>0.00000</td>\n",
       "    </tr>\n",
       "    <tr>\n",
       "      <th>1</th>\n",
       "      <td>DGAP068C2000_APPLE IPHONE 8 256GB CINZA PPB/PI...</td>\n",
       "      <td>1704.077800</td>\n",
       "      <td>2175.836750</td>\n",
       "      <td>344.000030</td>\n",
       "      <td>415.566670</td>\n",
       "      <td>71.31</td>\n",
       "      <td>146.786667</td>\n",
       "      <td>0.0</td>\n",
       "      <td>13.0</td>\n",
       "      <td>8.85639</td>\n",
       "    </tr>\n",
       "    <tr>\n",
       "      <th>2</th>\n",
       "      <td>TGMO35912000_MOTOROLA XT1922 SMARTPHONE INDIGO</td>\n",
       "      <td>5601.223300</td>\n",
       "      <td>8499.108650</td>\n",
       "      <td>64.300003</td>\n",
       "      <td>10.800000</td>\n",
       "      <td>39.99</td>\n",
       "      <td>118.433333</td>\n",
       "      <td>0.0</td>\n",
       "      <td>0.0</td>\n",
       "      <td>0.00000</td>\n",
       "    </tr>\n",
       "    <tr>\n",
       "      <th>3</th>\n",
       "      <td>TGLG29162000_LG X210BMW SMARTPHONE PRETO PPB/P...</td>\n",
       "      <td>8.758789</td>\n",
       "      <td>3.167226</td>\n",
       "      <td>18.600000</td>\n",
       "      <td>8.550000</td>\n",
       "      <td>0.04</td>\n",
       "      <td>103.133333</td>\n",
       "      <td>0.0</td>\n",
       "      <td>0.0</td>\n",
       "      <td>0.00000</td>\n",
       "    </tr>\n",
       "    <tr>\n",
       "      <th>4</th>\n",
       "      <td>TGLG29162000_LG X210BMW SMARTPHONE PRETO PPB/P...</td>\n",
       "      <td>2941.649400</td>\n",
       "      <td>4345.763117</td>\n",
       "      <td>325.700010</td>\n",
       "      <td>54.283335</td>\n",
       "      <td>304.95</td>\n",
       "      <td>154.901667</td>\n",
       "      <td>0.0</td>\n",
       "      <td>0.0</td>\n",
       "      <td>0.00000</td>\n",
       "    </tr>\n",
       "  </tbody>\n",
       "</table>\n",
       "</div>"
      ],
      "text/plain": [
       "                                    PURCHASED_DEVICE   DATA_RANGE  \\\n",
       "0     TGMO35912000_MOTOROLA XT1922 SMARTPHONE INDIGO  3460.988000   \n",
       "1  DGAP068C2000_APPLE IPHONE 8 256GB CINZA PPB/PI...  1704.077800   \n",
       "2     TGMO35912000_MOTOROLA XT1922 SMARTPHONE INDIGO  5601.223300   \n",
       "3  TGLG29162000_LG X210BMW SMARTPHONE PRETO PPB/P...     8.758789   \n",
       "4  TGLG29162000_LG X210BMW SMARTPHONE PRETO PPB/P...  2941.649400   \n",
       "\n",
       "      DATA_AVG  VOICE_RANGE   VOICE_AVG  BILLING_RANGE  BILLING_AVG  \\\n",
       "0  2729.056633   383.899990   63.983332           2.70   109.700000   \n",
       "1  2175.836750   344.000030  415.566670          71.31   146.786667   \n",
       "2  8499.108650    64.300003   10.800000          39.99   118.433333   \n",
       "3     3.167226    18.600000    8.550000           0.04   103.133333   \n",
       "4  4345.763117   325.700010   54.283335         304.95   154.901667   \n",
       "\n",
       "   DEVICE_COST_RANGE  DEVICE_COST_AVG  DEVICE_COST_BILLING_RATIO_AVG  \n",
       "0                0.0              0.0                        0.00000  \n",
       "1                0.0             13.0                        8.85639  \n",
       "2                0.0              0.0                        0.00000  \n",
       "3                0.0              0.0                        0.00000  \n",
       "4                0.0              0.0                        0.00000  "
      ]
     },
     "execution_count": 12,
     "metadata": {},
     "output_type": "execute_result"
    }
   ],
   "source": [
    "input_dataset_limit.head()"
   ]
  },
  {
   "cell_type": "code",
   "execution_count": 13,
   "metadata": {},
   "outputs": [
    {
     "name": "stdout",
     "output_type": "stream",
     "text": [
      "<class 'pandas.core.frame.DataFrame'>\n",
      "RangeIndex: 16232 entries, 0 to 16231\n",
      "Data columns (total 10 columns):\n",
      "PURCHASED_DEVICE                 16232 non-null object\n",
      "DATA_RANGE                       16232 non-null float64\n",
      "DATA_AVG                         16232 non-null float64\n",
      "VOICE_RANGE                      16232 non-null float64\n",
      "VOICE_AVG                        16232 non-null float64\n",
      "BILLING_RANGE                    16232 non-null float64\n",
      "BILLING_AVG                      16232 non-null float64\n",
      "DEVICE_COST_RANGE                16232 non-null float64\n",
      "DEVICE_COST_AVG                  16232 non-null float64\n",
      "DEVICE_COST_BILLING_RATIO_AVG    16154 non-null float64\n",
      "dtypes: float64(9), object(1)\n",
      "memory usage: 1.2+ MB\n"
     ]
    }
   ],
   "source": [
    "input_dataset_limit.info()"
   ]
  },
  {
   "cell_type": "markdown",
   "metadata": {},
   "source": [
    "[**CODE**] To avoid any issue with the correlation matrix, we should eliminate any row of the dataframe with **NaN** values. "
   ]
  },
  {
   "cell_type": "code",
   "execution_count": 14,
   "metadata": {},
   "outputs": [],
   "source": [
    "input_dataset_limit = input_dataset_limit.dropna()"
   ]
  },
  {
   "cell_type": "markdown",
   "metadata": {},
   "source": [
    "Check all rows don't have any null variable. It should look like:"
   ]
  },
  {
   "cell_type": "code",
   "execution_count": 15,
   "metadata": {},
   "outputs": [
    {
     "name": "stdout",
     "output_type": "stream",
     "text": [
      "<class 'pandas.core.frame.DataFrame'>\n",
      "Int64Index: 16154 entries, 0 to 16231\n",
      "Data columns (total 10 columns):\n",
      "PURCHASED_DEVICE                 16154 non-null object\n",
      "DATA_RANGE                       16154 non-null float64\n",
      "DATA_AVG                         16154 non-null float64\n",
      "VOICE_RANGE                      16154 non-null float64\n",
      "VOICE_AVG                        16154 non-null float64\n",
      "BILLING_RANGE                    16154 non-null float64\n",
      "BILLING_AVG                      16154 non-null float64\n",
      "DEVICE_COST_RANGE                16154 non-null float64\n",
      "DEVICE_COST_AVG                  16154 non-null float64\n",
      "DEVICE_COST_BILLING_RATIO_AVG    16154 non-null float64\n",
      "dtypes: float64(9), object(1)\n",
      "memory usage: 1.4+ MB\n"
     ]
    }
   ],
   "source": [
    "input_dataset_limit.info()"
   ]
  },
  {
   "cell_type": "markdown",
   "metadata": {},
   "source": [
    "As user-based collaborative filtering is high intensive in terms of computation requirements, we are going to take a sample of 2K registers."
   ]
  },
  {
   "cell_type": "code",
   "execution_count": 16,
   "metadata": {},
   "outputs": [],
   "source": [
    "input_dataset_limit = input_dataset_limit[0:2000].reset_index(drop=True)"
   ]
  },
  {
   "cell_type": "code",
   "execution_count": 17,
   "metadata": {},
   "outputs": [
    {
     "name": "stdout",
     "output_type": "stream",
     "text": [
      "<class 'pandas.core.frame.DataFrame'>\n",
      "RangeIndex: 2000 entries, 0 to 1999\n",
      "Data columns (total 10 columns):\n",
      "PURCHASED_DEVICE                 2000 non-null object\n",
      "DATA_RANGE                       2000 non-null float64\n",
      "DATA_AVG                         2000 non-null float64\n",
      "VOICE_RANGE                      2000 non-null float64\n",
      "VOICE_AVG                        2000 non-null float64\n",
      "BILLING_RANGE                    2000 non-null float64\n",
      "BILLING_AVG                      2000 non-null float64\n",
      "DEVICE_COST_RANGE                2000 non-null float64\n",
      "DEVICE_COST_AVG                  2000 non-null float64\n",
      "DEVICE_COST_BILLING_RATIO_AVG    2000 non-null float64\n",
      "dtypes: float64(9), object(1)\n",
      "memory usage: 156.3+ KB\n"
     ]
    }
   ],
   "source": [
    "input_dataset_limit.info()"
   ]
  },
  {
   "cell_type": "markdown",
   "metadata": {},
   "source": [
    "## 1.2. User-based collaborative filtering\n",
    "\n",
    "In the user-based collaborative filtering, the recommended products for a user_1 are based on others similar users' products. For example if Derrick and Dennis like the same movies and a new movie comes out that Derick likes, then we can recommend that movie to Dennis because Derrick and Dennis seem to like the same movies.\n",
    "\n",
    "Therefore, in user-based collaborative filtering, the similarity calculation will be apply to user-to-user."
   ]
  },
  {
   "cell_type": "markdown",
   "metadata": {},
   "source": [
    "[**REPORT**] Explain some cons and pros of user-based collaborative filtering."
   ]
  },
  {
   "cell_type": "markdown",
   "metadata": {},
   "source": [
    "[**CODE**] Complete the `user_collaborative_filtering` function to select the top_n recommendations based on the user similarity. Store the recommendation in a new dataset with the following columns: **ID_original**: original user_id, **Real_purchase**: device purchased by user_id, **ID_similar**: id of other user \"similar\" to user_id, **similarity**: value of cosine similarity between user_id and \"ID_similar\" user, **Recommended_device**: device purchased by user with ID_similar. To support your code we provide two functions:\n",
    "   - `recommendation_store`: will add the calculated recommendations for each user in the new top_n_dataset table\n",
    "   - `user_selection`: will select the closer users whose cosine similarity are > similarity_level value \n",
    "\n",
    "Tip: use [sklearn.metrics.pairwise.cosine_similarity](https://scikit-learn.org/stable/modules/generated/sklearn.metrics.pairwise.cosine_similarity.html) to compute cosine similarity between two arrays."
   ]
  },
  {
   "cell_type": "code",
   "execution_count": 18,
   "metadata": {},
   "outputs": [],
   "source": [
    "def recommendation_store(user_index, aux_index, dataset, id_indices, similarity_levels, top_n_dataset):\n",
    "    for j in range (len(id_indices)):\n",
    "            top_n_dataset.loc[aux_index+j]=[user_index,dataset.loc[user_index,\"PURCHASED_DEVICE\"],id_indices[j],similarity_levels[j]*100,dataset.loc[id_indices[j],\"PURCHASED_DEVICE\"]]\n",
    "    return top_n_dataset"
   ]
  },
  {
   "cell_type": "code",
   "execution_count": 19,
   "metadata": {},
   "outputs": [],
   "source": [
    "def user_selection (user_similarity, similarity_level, index, top_n):\n",
    "    sim_scores = list(enumerate(user_similarity[index]))\n",
    "    \n",
    "    #Order the score list based on the user_similarity value and select the top_n\n",
    "    sim_scores = sorted(sim_scores, key=lambda x: x[1], reverse=True)\n",
    "    sim_scores = sim_scores[1:top_n+1]\n",
    "    \n",
    "    #Select the closer users if cosine_similarity is higher than the minimum similarity value (i.e. similarity_level) \n",
    "    id_indices=[i[0] for i in sim_scores if i[1]>similarity_level]\n",
    "    similarity_levels=[i[1] for i in sim_scores if i[1]>similarity_level]\n",
    "    \n",
    "    return id_indices, similarity_levels"
   ]
  },
  {
   "cell_type": "code",
   "execution_count": 20,
   "metadata": {},
   "outputs": [],
   "source": [
    "def user_collaborative_filtering (dataset, similarity_level, top_n):\n",
    "    \n",
    "    # Create a dataframe that will contain the output of the recommendation\n",
    "    top_n_dataset = pd.DataFrame(columns=[\"ID_original\",\"Real_purchase\",\"ID_similar\",\"similarity\", \"Recommended_device\"])\n",
    "    \n",
    "    # Calculate de cosine similarity excluding the \"PURCHASED_DEVICE\" from the dataset\n",
    "    # - create a variable dataset_aux that does not contain PURCHASED_DEVICE\n",
    "    # - create variable user_similarity containing pairwise cosine similarities in this dataset\n",
    "    ## ADD YOUR CODE HERE\n",
    "    dataset_aux = dataset.loc[:, dataset.columns != 'PURCHASED_DEVICE']\n",
    "    user_similarity = cosine_similarity(dataset_aux)\n",
    "    \n",
    "    #Extra: Data Visualization\n",
    "    print('Similarity matrix of the dataset:')\n",
    "    plt.imshow(user_similarity, cmap=\"gray\")\n",
    "    plt.show()\n",
    "    \n",
    "    # Select the top_n users closer (i.e. more similar) to each user_id that satisfy the minimum similarity value\n",
    "    aux_index=0\n",
    "    for user_index in range(len(user_similarity)):\n",
    "        # Select the \"top_n\" closer users that satisfy that cosine_similarity is higher than\n",
    "        # the minimum similarity value (i.e. similarity_level) \n",
    "        # - create variable \"id_indices\" with the IDs of those users\n",
    "        # - create variable \"similarity_levels\" wih the similarities of those users\n",
    "        ## ADD YOUR CODE HERE        \n",
    "        id_indices, similarity_levels = user_selection(user_similarity, similarity_level, user_index, top_n)\n",
    "        \n",
    "        # Store the recommendation in the new dataset (i.e, \"top_n_dataset\")\n",
    "        ## ADD YOUR CODE HERE\n",
    "        top_n_dataset = recommendation_store(user_index, aux_index, dataset, id_indices, similarity_levels, top_n_dataset)\n",
    "        \n",
    "        # Update aux_index according to the number of recommendations for this user_index\n",
    "        aux_index=aux_index+len(id_indices)\n",
    "        \n",
    "    return top_n_dataset\n"
   ]
  },
  {
   "cell_type": "markdown",
   "metadata": {},
   "source": [
    "Once we have build our user_similarity function, apply it for: **num of recommendations=5** and **threshold of similarity=0.40**."
   ]
  },
  {
   "cell_type": "code",
   "execution_count": 21,
   "metadata": {
    "scrolled": false
   },
   "outputs": [
    {
     "name": "stdout",
     "output_type": "stream",
     "text": [
      "Similarity matrix of the dataset:\n"
     ]
    },
    {
     "data": {
      "image/png": "[encoded data removed]",
      "text/plain": [
       "<Figure size 432x288 with 1 Axes>"
      ]
     },
     "metadata": {
      "needs_background": "light"
     },
     "output_type": "display_data"
    }
   ],
   "source": [
    "min_similarity_level=0.40\n",
    "num_recommendations=5\n",
    "top_n=user_collaborative_filtering(input_dataset_limit,min_similarity_level,num_recommendations)"
   ]
  },
  {
   "cell_type": "markdown",
   "metadata": {},
   "source": [
    "[**REPORT**] Generate a table with the recommendations for the 5 first users. Do the results make sense? Explain how the device recommender works comparing users' profile (i.e. ID_original user vs ID_similar users) in terms of variables we use to calculate the similarity between users."
   ]
  },
  {
   "cell_type": "markdown",
   "metadata": {},
   "source": [
    "Your recommendations should look like this. `ID_original` is the original customer ID. `ID_similar` is another customer, whose similarity to customer `ID_original` is `similarity`."
   ]
  },
  {
   "cell_type": "code",
   "execution_count": 22,
   "metadata": {},
   "outputs": [
    {
     "data": {
      "text/html": [
       "<div>\n",
       "<style scoped>\n",
       "    .dataframe tbody tr th:only-of-type {\n",
       "        vertical-align: middle;\n",
       "    }\n",
       "\n",
       "    .dataframe tbody tr th {\n",
       "        vertical-align: top;\n",
       "    }\n",
       "\n",
       "    .dataframe thead th {\n",
       "        text-align: right;\n",
       "    }\n",
       "</style>\n",
       "<table border=\"1\" class=\"dataframe\">\n",
       "  <thead>\n",
       "    <tr style=\"text-align: right;\">\n",
       "      <th></th>\n",
       "      <th>ID_original</th>\n",
       "      <th>Real_purchase</th>\n",
       "      <th>ID_similar</th>\n",
       "      <th>similarity</th>\n",
       "      <th>Recommended_device</th>\n",
       "    </tr>\n",
       "  </thead>\n",
       "  <tbody>\n",
       "    <tr>\n",
       "      <th>0</th>\n",
       "      <td>0</td>\n",
       "      <td>TGMO35912000_MOTOROLA XT1922 SMARTPHONE INDIGO</td>\n",
       "      <td>234</td>\n",
       "      <td>99.968290</td>\n",
       "      <td>TGMO35912000_MOTOROLA XT1922 SMARTPHONE INDIGO</td>\n",
       "    </tr>\n",
       "    <tr>\n",
       "      <th>1</th>\n",
       "      <td>0</td>\n",
       "      <td>TGMO35912000_MOTOROLA XT1922 SMARTPHONE INDIGO</td>\n",
       "      <td>101</td>\n",
       "      <td>99.955756</td>\n",
       "      <td>TGLG29162000_LG X210BMW SMARTPHONE PRETO PPB/P...</td>\n",
       "    </tr>\n",
       "    <tr>\n",
       "      <th>2</th>\n",
       "      <td>0</td>\n",
       "      <td>TGMO35912000_MOTOROLA XT1922 SMARTPHONE INDIGO</td>\n",
       "      <td>1373</td>\n",
       "      <td>99.949734</td>\n",
       "      <td>DGAP049C2007_APPLE IPHONE 6S 32GB CINZA  PPB/P...</td>\n",
       "    </tr>\n",
       "    <tr>\n",
       "      <th>3</th>\n",
       "      <td>0</td>\n",
       "      <td>TGMO35912000_MOTOROLA XT1922 SMARTPHONE INDIGO</td>\n",
       "      <td>311</td>\n",
       "      <td>99.928233</td>\n",
       "      <td>TGMO36762000_MOTOROLA XT1941 SMARTPHONE PRETO</td>\n",
       "    </tr>\n",
       "    <tr>\n",
       "      <th>4</th>\n",
       "      <td>0</td>\n",
       "      <td>TGMO35912000_MOTOROLA XT1922 SMARTPHONE INDIGO</td>\n",
       "      <td>274</td>\n",
       "      <td>99.917745</td>\n",
       "      <td>TGLG29162000_LG X210BMW SMARTPHONE PRETO PPB/P...</td>\n",
       "    </tr>\n",
       "    <tr>\n",
       "      <th>5</th>\n",
       "      <td>1</td>\n",
       "      <td>DGAP068C2000_APPLE IPHONE 8 256GB CINZA PPB/PI...</td>\n",
       "      <td>1581</td>\n",
       "      <td>99.884716</td>\n",
       "      <td>TGLG29162000_LG X210BMW SMARTPHONE PRETO PPB/P...</td>\n",
       "    </tr>\n",
       "    <tr>\n",
       "      <th>6</th>\n",
       "      <td>1</td>\n",
       "      <td>DGAP068C2000_APPLE IPHONE 8 256GB CINZA PPB/PI...</td>\n",
       "      <td>1748</td>\n",
       "      <td>99.847545</td>\n",
       "      <td>DGAP068C2000_APPLE IPHONE 8 256GB CINZA PPB/PI...</td>\n",
       "    </tr>\n",
       "    <tr>\n",
       "      <th>7</th>\n",
       "      <td>1</td>\n",
       "      <td>DGAP068C2000_APPLE IPHONE 8 256GB CINZA PPB/PI...</td>\n",
       "      <td>170</td>\n",
       "      <td>99.747803</td>\n",
       "      <td>TGAL03267000_ALCATEL 4034E SMARTPHONE PIXI4-4 ...</td>\n",
       "    </tr>\n",
       "    <tr>\n",
       "      <th>8</th>\n",
       "      <td>1</td>\n",
       "      <td>DGAP068C2000_APPLE IPHONE 8 256GB CINZA PPB/PI...</td>\n",
       "      <td>1088</td>\n",
       "      <td>99.739287</td>\n",
       "      <td>TGMO36812000_MOTOROLA XT1965 SMARTPHONE INDIGO</td>\n",
       "    </tr>\n",
       "    <tr>\n",
       "      <th>9</th>\n",
       "      <td>1</td>\n",
       "      <td>DGAP068C2000_APPLE IPHONE 8 256GB CINZA PPB/PI...</td>\n",
       "      <td>1225</td>\n",
       "      <td>99.737630</td>\n",
       "      <td>TGMO36762000_MOTOROLA XT1941 SMARTPHONE PRETO</td>\n",
       "    </tr>\n",
       "    <tr>\n",
       "      <th>10</th>\n",
       "      <td>2</td>\n",
       "      <td>TGMO35912000_MOTOROLA XT1922 SMARTPHONE INDIGO</td>\n",
       "      <td>1598</td>\n",
       "      <td>99.998359</td>\n",
       "      <td>TGSA32162007_SAMSUNG J610G SMART PRETO PPB/PI1...</td>\n",
       "    </tr>\n",
       "    <tr>\n",
       "      <th>11</th>\n",
       "      <td>2</td>\n",
       "      <td>TGMO35912000_MOTOROLA XT1922 SMARTPHONE INDIGO</td>\n",
       "      <td>212</td>\n",
       "      <td>99.997717</td>\n",
       "      <td>TGSA32162007_SAMSUNG J610G SMART PRETO PPB/PI1...</td>\n",
       "    </tr>\n",
       "    <tr>\n",
       "      <th>12</th>\n",
       "      <td>2</td>\n",
       "      <td>TGMO35912000_MOTOROLA XT1922 SMARTPHONE INDIGO</td>\n",
       "      <td>1386</td>\n",
       "      <td>99.994924</td>\n",
       "      <td>TGSA31962007_SAMSUNG J410G SMART PRETO PPB/PI1...</td>\n",
       "    </tr>\n",
       "    <tr>\n",
       "      <th>13</th>\n",
       "      <td>2</td>\n",
       "      <td>TGMO35912000_MOTOROLA XT1922 SMARTPHONE INDIGO</td>\n",
       "      <td>1699</td>\n",
       "      <td>99.994168</td>\n",
       "      <td>DGAP067C2007_APPLE IPHONE 8 64GB CINZA  PPB/PI...</td>\n",
       "    </tr>\n",
       "    <tr>\n",
       "      <th>14</th>\n",
       "      <td>2</td>\n",
       "      <td>TGMO35912000_MOTOROLA XT1922 SMARTPHONE INDIGO</td>\n",
       "      <td>851</td>\n",
       "      <td>99.993037</td>\n",
       "      <td>TGLG29162000_LG X210BMW SMARTPHONE PRETO PPB/P...</td>\n",
       "    </tr>\n",
       "    <tr>\n",
       "      <th>15</th>\n",
       "      <td>3</td>\n",
       "      <td>TGLG29162000_LG X210BMW SMARTPHONE PRETO PPB/P...</td>\n",
       "      <td>70</td>\n",
       "      <td>99.899149</td>\n",
       "      <td>TGSA33164000_SAMSUNG G973F SMART PRETO PPB/PI3...</td>\n",
       "    </tr>\n",
       "    <tr>\n",
       "      <th>16</th>\n",
       "      <td>3</td>\n",
       "      <td>TGLG29162000_LG X210BMW SMARTPHONE PRETO PPB/P...</td>\n",
       "      <td>1667</td>\n",
       "      <td>99.580919</td>\n",
       "      <td>TGLG29162000_LG X210BMW SMARTPHONE PRETO PPB/P...</td>\n",
       "    </tr>\n",
       "    <tr>\n",
       "      <th>17</th>\n",
       "      <td>3</td>\n",
       "      <td>TGLG29162000_LG X210BMW SMARTPHONE PRETO PPB/P...</td>\n",
       "      <td>785</td>\n",
       "      <td>99.412143</td>\n",
       "      <td>TGLG29162000_LG X210BMW SMARTPHONE PRETO PPB/P...</td>\n",
       "    </tr>\n",
       "    <tr>\n",
       "      <th>18</th>\n",
       "      <td>3</td>\n",
       "      <td>TGLG29162000_LG X210BMW SMARTPHONE PRETO PPB/P...</td>\n",
       "      <td>892</td>\n",
       "      <td>99.360438</td>\n",
       "      <td>TGLG29162000_LG X210BMW SMARTPHONE PRETO PPB/P...</td>\n",
       "    </tr>\n",
       "    <tr>\n",
       "      <th>19</th>\n",
       "      <td>3</td>\n",
       "      <td>TGLG29162000_LG X210BMW SMARTPHONE PRETO PPB/P...</td>\n",
       "      <td>905</td>\n",
       "      <td>99.229422</td>\n",
       "      <td>TGSA33062000_SAMSUNG G970F SMART PRETO PPB/PI1...</td>\n",
       "    </tr>\n",
       "    <tr>\n",
       "      <th>20</th>\n",
       "      <td>4</td>\n",
       "      <td>TGLG29162000_LG X210BMW SMARTPHONE PRETO PPB/P...</td>\n",
       "      <td>410</td>\n",
       "      <td>99.858482</td>\n",
       "      <td>TGMO36762000_MOTOROLA XT1941 SMARTPHONE PRETO</td>\n",
       "    </tr>\n",
       "    <tr>\n",
       "      <th>21</th>\n",
       "      <td>4</td>\n",
       "      <td>TGLG29162000_LG X210BMW SMARTPHONE PRETO PPB/P...</td>\n",
       "      <td>379</td>\n",
       "      <td>99.856543</td>\n",
       "      <td>TGLG29162000_LG X210BMW SMARTPHONE PRETO PPB/P...</td>\n",
       "    </tr>\n",
       "    <tr>\n",
       "      <th>22</th>\n",
       "      <td>4</td>\n",
       "      <td>TGLG29162000_LG X210BMW SMARTPHONE PRETO PPB/P...</td>\n",
       "      <td>1772</td>\n",
       "      <td>99.843245</td>\n",
       "      <td>TGMO35912000_MOTOROLA XT1922 SMARTPHONE INDIGO</td>\n",
       "    </tr>\n",
       "    <tr>\n",
       "      <th>23</th>\n",
       "      <td>4</td>\n",
       "      <td>TGLG29162000_LG X210BMW SMARTPHONE PRETO PPB/P...</td>\n",
       "      <td>1869</td>\n",
       "      <td>99.817929</td>\n",
       "      <td>TGLG29162000_LG X210BMW SMARTPHONE PRETO PPB/P...</td>\n",
       "    </tr>\n",
       "    <tr>\n",
       "      <th>24</th>\n",
       "      <td>4</td>\n",
       "      <td>TGLG29162000_LG X210BMW SMARTPHONE PRETO PPB/P...</td>\n",
       "      <td>1387</td>\n",
       "      <td>99.817632</td>\n",
       "      <td>TGSA31962007_SAMSUNG J410G SMART PRETO PPB/PI1...</td>\n",
       "    </tr>\n",
       "    <tr>\n",
       "      <th>25</th>\n",
       "      <td>5</td>\n",
       "      <td>TGLG29162000_LG X210BMW SMARTPHONE PRETO PPB/P...</td>\n",
       "      <td>1870</td>\n",
       "      <td>99.982250</td>\n",
       "      <td>TGLG29162000_LG X210BMW SMARTPHONE PRETO PPB/P...</td>\n",
       "    </tr>\n",
       "    <tr>\n",
       "      <th>26</th>\n",
       "      <td>5</td>\n",
       "      <td>TGLG29162000_LG X210BMW SMARTPHONE PRETO PPB/P...</td>\n",
       "      <td>1551</td>\n",
       "      <td>99.968950</td>\n",
       "      <td>TGLG29162000_LG X210BMW SMARTPHONE PRETO PPB/P...</td>\n",
       "    </tr>\n",
       "    <tr>\n",
       "      <th>27</th>\n",
       "      <td>5</td>\n",
       "      <td>TGLG29162000_LG X210BMW SMARTPHONE PRETO PPB/P...</td>\n",
       "      <td>1495</td>\n",
       "      <td>99.953126</td>\n",
       "      <td>TGSA31064000_SAMSUNG G9600 SMART PRETO PPB/PI3...</td>\n",
       "    </tr>\n",
       "    <tr>\n",
       "      <th>28</th>\n",
       "      <td>5</td>\n",
       "      <td>TGLG29162000_LG X210BMW SMARTPHONE PRETO PPB/P...</td>\n",
       "      <td>375</td>\n",
       "      <td>99.952623</td>\n",
       "      <td>TGSA32064000_SAMSUNG J415G SMART PRETO PPB/PI3...</td>\n",
       "    </tr>\n",
       "    <tr>\n",
       "      <th>29</th>\n",
       "      <td>5</td>\n",
       "      <td>TGLG29162000_LG X210BMW SMARTPHONE PRETO PPB/P...</td>\n",
       "      <td>131</td>\n",
       "      <td>99.949245</td>\n",
       "      <td>TGLG29162000_LG X210BMW SMARTPHONE PRETO PPB/P...</td>\n",
       "    </tr>\n",
       "  </tbody>\n",
       "</table>\n",
       "</div>"
      ],
      "text/plain": [
       "   ID_original                                      Real_purchase ID_similar  \\\n",
       "0            0     TGMO35912000_MOTOROLA XT1922 SMARTPHONE INDIGO        234   \n",
       "1            0     TGMO35912000_MOTOROLA XT1922 SMARTPHONE INDIGO        101   \n",
       "2            0     TGMO35912000_MOTOROLA XT1922 SMARTPHONE INDIGO       1373   \n",
       "3            0     TGMO35912000_MOTOROLA XT1922 SMARTPHONE INDIGO        311   \n",
       "4            0     TGMO35912000_MOTOROLA XT1922 SMARTPHONE INDIGO        274   \n",
       "5            1  DGAP068C2000_APPLE IPHONE 8 256GB CINZA PPB/PI...       1581   \n",
       "6            1  DGAP068C2000_APPLE IPHONE 8 256GB CINZA PPB/PI...       1748   \n",
       "7            1  DGAP068C2000_APPLE IPHONE 8 256GB CINZA PPB/PI...        170   \n",
       "8            1  DGAP068C2000_APPLE IPHONE 8 256GB CINZA PPB/PI...       1088   \n",
       "9            1  DGAP068C2000_APPLE IPHONE 8 256GB CINZA PPB/PI...       1225   \n",
       "10           2     TGMO35912000_MOTOROLA XT1922 SMARTPHONE INDIGO       1598   \n",
       "11           2     TGMO35912000_MOTOROLA XT1922 SMARTPHONE INDIGO        212   \n",
       "12           2     TGMO35912000_MOTOROLA XT1922 SMARTPHONE INDIGO       1386   \n",
       "13           2     TGMO35912000_MOTOROLA XT1922 SMARTPHONE INDIGO       1699   \n",
       "14           2     TGMO35912000_MOTOROLA XT1922 SMARTPHONE INDIGO        851   \n",
       "15           3  TGLG29162000_LG X210BMW SMARTPHONE PRETO PPB/P...         70   \n",
       "16           3  TGLG29162000_LG X210BMW SMARTPHONE PRETO PPB/P...       1667   \n",
       "17           3  TGLG29162000_LG X210BMW SMARTPHONE PRETO PPB/P...        785   \n",
       "18           3  TGLG29162000_LG X210BMW SMARTPHONE PRETO PPB/P...        892   \n",
       "19           3  TGLG29162000_LG X210BMW SMARTPHONE PRETO PPB/P...        905   \n",
       "20           4  TGLG29162000_LG X210BMW SMARTPHONE PRETO PPB/P...        410   \n",
       "21           4  TGLG29162000_LG X210BMW SMARTPHONE PRETO PPB/P...        379   \n",
       "22           4  TGLG29162000_LG X210BMW SMARTPHONE PRETO PPB/P...       1772   \n",
       "23           4  TGLG29162000_LG X210BMW SMARTPHONE PRETO PPB/P...       1869   \n",
       "24           4  TGLG29162000_LG X210BMW SMARTPHONE PRETO PPB/P...       1387   \n",
       "25           5  TGLG29162000_LG X210BMW SMARTPHONE PRETO PPB/P...       1870   \n",
       "26           5  TGLG29162000_LG X210BMW SMARTPHONE PRETO PPB/P...       1551   \n",
       "27           5  TGLG29162000_LG X210BMW SMARTPHONE PRETO PPB/P...       1495   \n",
       "28           5  TGLG29162000_LG X210BMW SMARTPHONE PRETO PPB/P...        375   \n",
       "29           5  TGLG29162000_LG X210BMW SMARTPHONE PRETO PPB/P...        131   \n",
       "\n",
       "    similarity                                 Recommended_device  \n",
       "0    99.968290     TGMO35912000_MOTOROLA XT1922 SMARTPHONE INDIGO  \n",
       "1    99.955756  TGLG29162000_LG X210BMW SMARTPHONE PRETO PPB/P...  \n",
       "2    99.949734  DGAP049C2007_APPLE IPHONE 6S 32GB CINZA  PPB/P...  \n",
       "3    99.928233      TGMO36762000_MOTOROLA XT1941 SMARTPHONE PRETO  \n",
       "4    99.917745  TGLG29162000_LG X210BMW SMARTPHONE PRETO PPB/P...  \n",
       "5    99.884716  TGLG29162000_LG X210BMW SMARTPHONE PRETO PPB/P...  \n",
       "6    99.847545  DGAP068C2000_APPLE IPHONE 8 256GB CINZA PPB/PI...  \n",
       "7    99.747803  TGAL03267000_ALCATEL 4034E SMARTPHONE PIXI4-4 ...  \n",
       "8    99.739287     TGMO36812000_MOTOROLA XT1965 SMARTPHONE INDIGO  \n",
       "9    99.737630      TGMO36762000_MOTOROLA XT1941 SMARTPHONE PRETO  \n",
       "10   99.998359  TGSA32162007_SAMSUNG J610G SMART PRETO PPB/PI1...  \n",
       "11   99.997717  TGSA32162007_SAMSUNG J610G SMART PRETO PPB/PI1...  \n",
       "12   99.994924  TGSA31962007_SAMSUNG J410G SMART PRETO PPB/PI1...  \n",
       "13   99.994168  DGAP067C2007_APPLE IPHONE 8 64GB CINZA  PPB/PI...  \n",
       "14   99.993037  TGLG29162000_LG X210BMW SMARTPHONE PRETO PPB/P...  \n",
       "15   99.899149  TGSA33164000_SAMSUNG G973F SMART PRETO PPB/PI3...  \n",
       "16   99.580919  TGLG29162000_LG X210BMW SMARTPHONE PRETO PPB/P...  \n",
       "17   99.412143  TGLG29162000_LG X210BMW SMARTPHONE PRETO PPB/P...  \n",
       "18   99.360438  TGLG29162000_LG X210BMW SMARTPHONE PRETO PPB/P...  \n",
       "19   99.229422  TGSA33062000_SAMSUNG G970F SMART PRETO PPB/PI1...  \n",
       "20   99.858482      TGMO36762000_MOTOROLA XT1941 SMARTPHONE PRETO  \n",
       "21   99.856543  TGLG29162000_LG X210BMW SMARTPHONE PRETO PPB/P...  \n",
       "22   99.843245     TGMO35912000_MOTOROLA XT1922 SMARTPHONE INDIGO  \n",
       "23   99.817929  TGLG29162000_LG X210BMW SMARTPHONE PRETO PPB/P...  \n",
       "24   99.817632  TGSA31962007_SAMSUNG J410G SMART PRETO PPB/PI1...  \n",
       "25   99.982250  TGLG29162000_LG X210BMW SMARTPHONE PRETO PPB/P...  \n",
       "26   99.968950  TGLG29162000_LG X210BMW SMARTPHONE PRETO PPB/P...  \n",
       "27   99.953126  TGSA31064000_SAMSUNG G9600 SMART PRETO PPB/PI3...  \n",
       "28   99.952623  TGSA32064000_SAMSUNG J415G SMART PRETO PPB/PI3...  \n",
       "29   99.949245  TGLG29162000_LG X210BMW SMARTPHONE PRETO PPB/P...  "
      ]
     },
     "execution_count": 22,
     "metadata": {},
     "output_type": "execute_result"
    }
   ],
   "source": [
    "top_n.head(30).to_excel(\"Tables/head.xlsx\")\n",
    "top_n.head(30)"
   ]
  },
  {
   "cell_type": "markdown",
   "metadata": {},
   "source": [
    "[**CODE**] Build a function to evaluate de performance. In our case, we will consider as a **success** those device recommendations that are equal to the real purchase device by the customers. Therefore, from the previous dataset, **top_n**, you should compare the **Real_purchase** vs **Recommended_device** user by user, and indicate in what percentage of cases they are equal, and hence you did a perfect recommendation."
   ]
  },
  {
   "cell_type": "code",
   "execution_count": 23,
   "metadata": {},
   "outputs": [],
   "source": [
    "def performance_evaluation(top_n):\n",
    "    match = top_n[top_n['Real_purchase'] == top_n['Recommended_device']]['ID_original'].nunique()\n",
    "    total = top_n['ID_original'].nunique()\n",
    "    percent = 100 * match / total\n",
    "    print('Ratio of recommendation where Recommended Devices contain Real Purchase:', str(percent) + '%')"
   ]
  },
  {
   "cell_type": "code",
   "execution_count": 24,
   "metadata": {},
   "outputs": [
    {
     "name": "stdout",
     "output_type": "stream",
     "text": [
      "Ratio of recommendation where Recommended Devices contain Real Purchase: 42.65%\n"
     ]
    }
   ],
   "source": [
    "#Solution\n",
    "performance_evaluation(top_n)"
   ]
  },
  {
   "cell_type": "markdown",
   "metadata": {},
   "source": [
    "[**REPORT**] Repeat the previous process with other subset of variables for `input_dataset_limit=input_dataset_limit[\"PURCHASED_DEVICE\", \"DATA_AVG\",\"BILLING_AVG\", \"DEVICE_COST_AVG\", \"DEVICE_COST_BILLING_RATIO_AVG\"]`. Explain the results."
   ]
  },
  {
   "cell_type": "code",
   "execution_count": 25,
   "metadata": {},
   "outputs": [
    {
     "name": "stdout",
     "output_type": "stream",
     "text": [
      "Similarity matrix of the dataset:\n"
     ]
    },
    {
     "data": {
      "image/png": "[encoded data removed]",
      "text/plain": [
       "<Figure size 432x288 with 1 Axes>"
      ]
     },
     "metadata": {
      "needs_background": "light"
     },
     "output_type": "display_data"
    },
    {
     "name": "stdout",
     "output_type": "stream",
     "text": [
      "Ratio of recommendation where Recommended Devices contain Real Purchase: 46.1%\n"
     ]
    }
   ],
   "source": [
    "new_input_dataset = input_dataset_limit[[\"PURCHASED_DEVICE\", \"DATA_AVG\",\"BILLING_AVG\", \"DEVICE_COST_AVG\", \"DEVICE_COST_BILLING_RATIO_AVG\"]]\n",
    "top_n=user_collaborative_filtering(new_input_dataset,min_similarity_level,num_recommendations)\n",
    "performance_evaluation(top_n)"
   ]
  },
  {
   "cell_type": "markdown",
   "metadata": {},
   "source": [
    "# 2. Deliver"
   ]
  },
  {
   "cell_type": "markdown",
   "metadata": {},
   "source": [
    "Deliver:\n",
    "\n",
    "* A zip file containing your notebook (.ipynb file) with all the [**CODE**] parts implemented.\n",
    "* A 4-pages PDF report including all parts of this notebook marked with \"[**REPORT**]\"\n",
    "\n",
    "The report should end with the following statement: **I hereby declare that, except for the code provided by the course instructors, all of my code, report, and figures were produced by myself.**"
   ]
  }
 ],
 "metadata": {
  "kernelspec": {
   "display_name": "Python 3",
   "language": "python",
   "name": "python3"
  },
  "language_info": {
   "codemirror_mode": {
    "name": "ipython",
    "version": 3
   },
   "file_extension": ".py",
   "mimetype": "text/x-python",
   "name": "python",
   "nbconvert_exporter": "python",
   "pygments_lexer": "ipython3",
   "version": "3.7.4"
  }
 },
 "nbformat": 4,
 "nbformat_minor": 2
}
