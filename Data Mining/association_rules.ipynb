{
 "cells": [
  {
   "cell_type": "markdown",
   "metadata": {},
   "source": [
    "# Assignment 01: Basket analysis"
   ]
  },
  {
   "cell_type": "markdown",
   "metadata": {},
   "source": [
    "Today there are several open source libraries to implement a basket analysis. One of the most known library is the Apriori algorithm that we practiced in PS03.\n",
    "\n",
    "In this assignment, we will develop our own association rules algorithm and we will compare with the Apriori for a specific dataset.\n",
    "\n",
    "To simplify things, our association rules algorithm will calculate relations between **pair of products** only, that is itemsets of size 2."
   ]
  },
  {
   "cell_type": "markdown",
   "metadata": {},
   "source": [
    "# 0. Preliminaries"
   ]
  },
  {
   "cell_type": "markdown",
   "metadata": {},
   "source": [
    "## 0.1. Dataset"
   ]
  },
  {
   "cell_type": "markdown",
   "metadata": {},
   "source": [
    "In this practice we are a new dataset contained in zip file `instacart_sample.zip`. **Please unzip this file first.** Within it, you will find a file with 10000 purchase transactions: `order_products.csv`. Each transaction is mainly represented by the *Order_Id* and the *Product_Id* of the purchased product. The original dataset has two other variables (*add_cart_order* and *reordered*) that you can simply ignore.\n",
    "\n",
    "We will use a second file: `products.csv` that contains more details about each product, in particular the correspondence between a *Product_Id* and its name."
   ]
  },
  {
   "cell_type": "markdown",
   "metadata": {},
   "source": [
    "## 0.2. Imports"
   ]
  },
  {
   "cell_type": "code",
   "execution_count": 1,
   "metadata": {},
   "outputs": [],
   "source": [
    "import pandas as pd\n",
    "import numpy as np\n",
    "import sys\n",
    "from itertools import combinations, groupby\n",
    "from collections import Counter\n",
    "from IPython.display import display\n",
    "from apyori import apriori"
   ]
  },
  {
   "cell_type": "markdown",
   "metadata": {},
   "source": [
    "## 0.3. Load the data"
   ]
  },
  {
   "cell_type": "markdown",
   "metadata": {},
   "source": [
    "Open the csv with separator \",\" and assign to a dataframe variable (use read_csv from Pandas library). Let's estimate the "
   ]
  },
  {
   "cell_type": "code",
   "execution_count": 2,
   "metadata": {},
   "outputs": [
    {
     "data": {
      "text/html": [
       "<div>\n",
       "<style scoped>\n",
       "    .dataframe tbody tr th:only-of-type {\n",
       "        vertical-align: middle;\n",
       "    }\n",
       "\n",
       "    .dataframe tbody tr th {\n",
       "        vertical-align: top;\n",
       "    }\n",
       "\n",
       "    .dataframe thead th {\n",
       "        text-align: right;\n",
       "    }\n",
       "</style>\n",
       "<table border=\"1\" class=\"dataframe\">\n",
       "  <thead>\n",
       "    <tr style=\"text-align: right;\">\n",
       "      <th></th>\n",
       "      <th>order_id</th>\n",
       "      <th>product_id</th>\n",
       "      <th>add_to_cart_order</th>\n",
       "      <th>reordered</th>\n",
       "    </tr>\n",
       "  </thead>\n",
       "  <tbody>\n",
       "    <tr>\n",
       "      <th>0</th>\n",
       "      <td>2</td>\n",
       "      <td>33120</td>\n",
       "      <td>1</td>\n",
       "      <td>1</td>\n",
       "    </tr>\n",
       "    <tr>\n",
       "      <th>1</th>\n",
       "      <td>2</td>\n",
       "      <td>28985</td>\n",
       "      <td>2</td>\n",
       "      <td>1</td>\n",
       "    </tr>\n",
       "    <tr>\n",
       "      <th>2</th>\n",
       "      <td>2</td>\n",
       "      <td>9327</td>\n",
       "      <td>3</td>\n",
       "      <td>0</td>\n",
       "    </tr>\n",
       "    <tr>\n",
       "      <th>3</th>\n",
       "      <td>2</td>\n",
       "      <td>45918</td>\n",
       "      <td>4</td>\n",
       "      <td>1</td>\n",
       "    </tr>\n",
       "    <tr>\n",
       "      <th>4</th>\n",
       "      <td>2</td>\n",
       "      <td>30035</td>\n",
       "      <td>5</td>\n",
       "      <td>0</td>\n",
       "    </tr>\n",
       "  </tbody>\n",
       "</table>\n",
       "</div>"
      ],
      "text/plain": [
       "   order_id  product_id  add_to_cart_order  reordered\n",
       "0         2       33120                  1          1\n",
       "1         2       28985                  2          1\n",
       "2         2        9327                  3          0\n",
       "3         2       45918                  4          1\n",
       "4         2       30035                  5          0"
      ]
     },
     "execution_count": 2,
     "metadata": {},
     "output_type": "execute_result"
    }
   ],
   "source": [
    "purchase_transactions = pd.read_csv('Datasets/order_products.csv')\n",
    "purchase_transactions.head()"
   ]
  },
  {
   "cell_type": "markdown",
   "metadata": {},
   "source": [
    "Let's calculate the type of the variables (integer, float, chart...) and the size of the dataset and the file."
   ]
  },
  {
   "cell_type": "code",
   "execution_count": 3,
   "metadata": {},
   "outputs": [
    {
     "name": "stdout",
     "output_type": "stream",
     "text": [
      "<class 'pandas.core.frame.DataFrame'>\n",
      "RangeIndex: 32434489 entries, 0 to 32434488\n",
      "Data columns (total 4 columns):\n",
      "order_id             int64\n",
      "product_id           int64\n",
      "add_to_cart_order    int64\n",
      "reordered            int64\n",
      "dtypes: int64(4)\n",
      "memory usage: 989.8 MB\n"
     ]
    }
   ],
   "source": [
    "purchase_transactions.info()"
   ]
  },
  {
   "cell_type": "markdown",
   "metadata": {},
   "source": [
    "As the number of transactions is more than 32 milions, we will select a sample of 1 milion to facilitate computations."
   ]
  },
  {
   "cell_type": "code",
   "execution_count": 4,
   "metadata": {},
   "outputs": [],
   "source": [
    "purchase_transactions_sample=purchase_transactions[0:1000000]"
   ]
  },
  {
   "cell_type": "markdown",
   "metadata": {},
   "source": [
    "Let's check the current dimension of the order dataset."
   ]
  },
  {
   "cell_type": "code",
   "execution_count": 5,
   "metadata": {},
   "outputs": [
    {
     "name": "stdout",
     "output_type": "stream",
     "text": [
      "<class 'pandas.core.frame.DataFrame'>\n",
      "RangeIndex: 1000000 entries, 0 to 999999\n",
      "Data columns (total 4 columns):\n",
      "order_id             1000000 non-null int64\n",
      "product_id           1000000 non-null int64\n",
      "add_to_cart_order    1000000 non-null int64\n",
      "reordered            1000000 non-null int64\n",
      "dtypes: int64(4)\n",
      "memory usage: 30.5 MB\n"
     ]
    }
   ],
   "source": [
    "purchase_transactions_sample.info()"
   ]
  },
  {
   "cell_type": "markdown",
   "metadata": {},
   "source": [
    "# 1. Data preparation"
   ]
  },
  {
   "cell_type": "markdown",
   "metadata": {},
   "source": [
    "[**CODE**] Transform the `purchase_transaction_sample` dataframe to a Series named `purchase_transactions_sample_serie` where the **order_id** variable becomes the index and the variable **item_id** becomes the value. Others variables should be removed from the original `purchase_transaction_sample` dataframe."
   ]
  },
  {
   "cell_type": "markdown",
   "metadata": {},
   "source": [
    "[**REPORT**] Create a table with the first **20 positions** of the new purchase transactions serie. Explain the result."
   ]
  },
  {
   "cell_type": "code",
   "execution_count": 6,
   "metadata": {},
   "outputs": [
    {
     "data": {
      "text/plain": [
       "order_id\n",
       "2    33120\n",
       "2    28985\n",
       "2     9327\n",
       "2    45918\n",
       "2    30035\n",
       "2    17794\n",
       "2    40141\n",
       "2     1819\n",
       "2    43668\n",
       "3    33754\n",
       "3    24838\n",
       "3    17704\n",
       "3    21903\n",
       "3    17668\n",
       "3    46667\n",
       "3    17461\n",
       "3    32665\n",
       "4    46842\n",
       "4    26434\n",
       "4    39758\n",
       "dtype: int64"
      ]
     },
     "execution_count": 6,
     "metadata": {},
     "output_type": "execute_result"
    }
   ],
   "source": [
    "'''\n",
    "All the products with the same order Id are from the same purchase. For example:\n",
    "Someone, with the order Id 2, bought 9 elements (33120, 28985, 9327, etc.)\n",
    "\n",
    "'''\n",
    "purchase_transactions_sample_serie = purchase_transactions_sample.drop(columns=['add_to_cart_order', 'reordered'])\n",
    "buy_only_one_product = purchase_transactions_sample_serie.groupby('order_id')['product_id'].nunique()\n",
    "purchase_transactions_sample_serie = pd.Series(\n",
    "      np.array(purchase_transactions_sample_serie['product_id']), \n",
    "      index=purchase_transactions_sample_serie['order_id']\n",
    ")\n",
    "purchase_transactions_sample_serie.head(20)"
   ]
  },
  {
   "cell_type": "markdown",
   "metadata": {},
   "source": [
    "At this point, your serie should look like this:"
   ]
  },
  {
   "cell_type": "markdown",
   "metadata": {},
   "source": [
    "[**CODE**] Verify that the type of the `purchase_transactions_sample_serie` is a **serie**.\n",
    "\n",
    "Tip: use `type()` to verify the serie format."
   ]
  },
  {
   "cell_type": "code",
   "execution_count": 7,
   "metadata": {},
   "outputs": [
    {
     "name": "stdout",
     "output_type": "stream",
     "text": [
      "<class 'pandas.core.series.Series'>\n"
     ]
    }
   ],
   "source": [
    "print(type(purchase_transactions_sample_serie))"
   ]
  },
  {
   "cell_type": "code",
   "execution_count": 8,
   "metadata": {},
   "outputs": [
    {
     "name": "stdout",
     "output_type": "stream",
     "text": [
      "1000000\n"
     ]
    }
   ],
   "source": [
    "#Ensure that we have the desired length\n",
    "print(len(purchase_transactions_sample))"
   ]
  },
  {
   "cell_type": "markdown",
   "metadata": {},
   "source": [
    "[**REPORT**] How many unique purchase transactions we have? How many unique products we have?"
   ]
  },
  {
   "cell_type": "code",
   "execution_count": 9,
   "metadata": {},
   "outputs": [
    {
     "name": "stdout",
     "output_type": "stream",
     "text": [
      "99260\n",
      "99260\n"
     ]
    }
   ],
   "source": [
    "#Alternative way to calculate unique purchase transactions (longer)\n",
    "i = 0\n",
    "all_purchases=[]\n",
    "single_purchase=[]\n",
    "last_index = -1\n",
    "\n",
    "for purchase in purchase_transactions_sample_serie:\n",
    "    if last_index != purchase_transactions_sample_serie.index[i]:\n",
    "        last_index = purchase_transactions_sample_serie.index[i]\n",
    "        all_purchases.append(single_purchase)\n",
    "        single_purchase = []\n",
    "    single_purchase.append(purchase)\n",
    "    i += 1\n",
    "#print('We have', len(buy_only_one_product[buy_only_one_product == 1]), 'that bought only one item.')   \n",
    "print(len(purchase_transactions_sample_serie.index.value_counts()))\n",
    "print(len(all_purchases))"
   ]
  },
  {
   "cell_type": "code",
   "execution_count": 10,
   "metadata": {},
   "outputs": [
    {
     "name": "stdout",
     "output_type": "stream",
     "text": [
      "We have 99260 unique purchase transactions.\n",
      "We have 35098 unique products.\n"
     ]
    }
   ],
   "source": [
    "print('We have', len(purchase_transactions_sample_serie.index.value_counts()), 'unique purchase transactions.')\n",
    "print('We have', len(purchase_transactions_sample_serie.value_counts()), 'unique products.')"
   ]
  },
  {
   "cell_type": "markdown",
   "metadata": {},
   "source": [
    "# 2. Association rules algorithm"
   ]
  },
  {
   "cell_type": "markdown",
   "metadata": {},
   "source": [
    "## 2.1. Support functions"
   ]
  },
  {
   "cell_type": "markdown",
   "metadata": {},
   "source": [
    "In order to facilitate the implementation of the association rules algorithm, we provide three functions to be used later: "
   ]
  },
  {
   "cell_type": "markdown",
   "metadata": {},
   "source": [
    "Function `item_frequency`: returns the counts for each individual and pair items."
   ]
  },
  {
   "cell_type": "code",
   "execution_count": 11,
   "metadata": {},
   "outputs": [],
   "source": [
    "def item_frequency(data):\n",
    "    if type(data) == pd.core.series.Series:\n",
    "        return data.value_counts().rename(\"frequency\")\n",
    "    else: \n",
    "        return pd.Series(Counter(data)).rename(\"frequency\")"
   ]
  },
  {
   "cell_type": "markdown",
   "metadata": {},
   "source": [
    "Function `transactions_count`: returns the number of unique transactions."
   ]
  },
  {
   "cell_type": "code",
   "execution_count": 12,
   "metadata": {},
   "outputs": [],
   "source": [
    "def transactions_count(transaction_item):\n",
    "    return len(set(transaction_item.index))"
   ]
  },
  {
   "cell_type": "markdown",
   "metadata": {},
   "source": [
    "Function `get_item_pairs`: returns items pairs, one at a time"
   ]
  },
  {
   "cell_type": "code",
   "execution_count": 13,
   "metadata": {},
   "outputs": [],
   "source": [
    "def get_item_pairs(order_item):\n",
    "    order_item = order_item.reset_index().as_matrix()\n",
    "    for order_id, order_object in groupby(order_item, lambda x: x[0]):\n",
    "        item_list = [item[1] for item in order_object]\n",
    "              \n",
    "        for item_pair in combinations(item_list, 2):\n",
    "            yield item_pair"
   ]
  },
  {
   "cell_type": "markdown",
   "metadata": {},
   "source": [
    "Function `merge_items_statistics`: returns items pairs, one at a time."
   ]
  },
  {
   "cell_type": "code",
   "execution_count": 14,
   "metadata": {},
   "outputs": [],
   "source": [
    "def merge_item_statistics(item_pairs, item_statistics):\n",
    "    item_pairs_merged_A=item_pairs.merge(item_statistics.rename(columns={'frequency': 'frequency_A', 'support': 'support_A'}), left_on='item_A', right_index=True)\n",
    "    item_pairs_merged_A_B=item_pairs_merged_A.merge(item_statistics.rename(columns={'frequency': 'frequency_B', 'support': 'support_B'}), left_on='item_B', right_index=True)\n",
    "    return item_pairs_merged_A_B"
   ]
  },
  {
   "cell_type": "markdown",
   "metadata": {},
   "source": [
    "My function to create the association table:"
   ]
  },
  {
   "cell_type": "code",
   "execution_count": 15,
   "metadata": {},
   "outputs": [],
   "source": [
    "def create_association_rules(item_pairs_filtered, item_statistics):\n",
    "    new_item_statistics = pd.DataFrame()\n",
    "\n",
    "    item_A = []\n",
    "    item_B = []\n",
    "    freq_A = []\n",
    "    supp_A = []\n",
    "    freq_B = []\n",
    "    supp_B = []\n",
    "    freq_AB = []\n",
    "    supp_AB = []\n",
    "    conf_AB = []\n",
    "    conf_BA = []\n",
    "    lift = []\n",
    "\n",
    "    for index, row in item_pairs_filtered.iterrows():\n",
    "        item_A.append(index[0])\n",
    "        item_B.append(index[1])\n",
    "        freq_A.append(int(item_statistics.loc[index[0]]['frequency']))\n",
    "        supp_A.append(item_statistics.loc[index[0]]['support'])\n",
    "        freq_B.append(int(item_statistics.loc[index[1]]['frequency']))\n",
    "        supp_B.append(item_statistics.loc[index[1]]['support'])\n",
    "        freq_AB.append(int(item_pairs_filtered.loc[index]['frequency_AB']))\n",
    "        supp_AB.append(item_pairs_filtered.loc[index]['support_AB'])\n",
    "        conf_AB.append(item_pairs_filtered.loc[index]['frequency_AB']/item_statistics.loc[index[0]]['frequency'])\n",
    "        conf_BA.append(item_pairs_filtered.loc[index]['frequency_AB']/item_statistics.loc[index[1]]['frequency'])\n",
    "        lift.append((item_pairs_filtered.loc[index]['frequency_AB']/item_statistics.loc[index[0]]['frequency'])/item_statistics.loc[index[1]]['support'])\n",
    "\n",
    "    new_item_statistics['item_A'] = item_A\n",
    "    new_item_statistics['item_B'] = item_B\n",
    "    new_item_statistics['frequency_AB'] = freq_AB\n",
    "    new_item_statistics['support_AB'] = supp_AB\n",
    "    new_item_statistics['frequency_A'] = freq_A\n",
    "    new_item_statistics['support_A'] = supp_A\n",
    "    new_item_statistics['frequency_B'] = freq_B\n",
    "    new_item_statistics['support_B'] = supp_B\n",
    "    new_item_statistics['confidence_A_B'] = conf_AB\n",
    "    new_item_statistics['confidence_B_A'] = conf_BA\n",
    "    new_item_statistics['lift'] = lift\n",
    "\n",
    "    return(new_item_statistics)"
   ]
  },
  {
   "cell_type": "markdown",
   "metadata": {},
   "source": [
    "## 2.2. Association rules function"
   ]
  },
  {
   "cell_type": "markdown",
   "metadata": {},
   "source": [
    "[**CODE**] Complete the `association_rules_function` that generates a table with the following fields:\n",
    "- item A: first item of the association rule\n",
    "- item B: second item of the association rule\n",
    "- frequency_AB: counts of the itemset (item_A, item_B), i.e., number of time both items appear in a transaction\n",
    "- support_AB: percentage of purchase transactions that contain the itemset (item_A, item_B)\n",
    "- frequency_A:  number of times item_A appears in the purchase transactions\n",
    "- support_A: percentage of purchase transactions that contain the item A\n",
    "- frequency_B: number of times item_B appears in the purchase transactions\n",
    "- support_B: percentage of purchase transactions that contain the item B\n",
    "- confidence_A_B: percentage of times that item B is purchased, given that item A was purchased \n",
    "- confidence_B_A: percentage of times that item A is purchased, given that item B was purchased\n",
    "- lift: lift{A,B} = lift{B,A} = support{A,B} / (support{A} * support{B})"
   ]
  },
  {
   "cell_type": "code",
   "execution_count": 16,
   "metadata": {},
   "outputs": [],
   "source": [
    "def association_rules(transaction_item, min_support):\n",
    "    \n",
    "    # Calculate the frequency and support of each purchased product in the transaction input \n",
    "    # - create variable \"item_statistics\" with \"frequency\" and \"support\" attributes\n",
    "    item_statistics = item_frequency(transaction_item).to_frame('frequency')\n",
    "    item_statistics['support'] = 100 * item_statistics['frequency']/transactions_count(transaction_item)\n",
    "\n",
    "    # Print the first 10 purchased-items' statistics\n",
    "    print(item_statistics[0:10])\n",
    "\n",
    "    # Eliminate those items whose support< min_support\n",
    "    # - create variables \"correct_items\" and \"transaction_item_filtered\"\n",
    "    correct_items = item_statistics.loc[item_statistics.support >= min_support]\n",
    "    transaction_item_filtered = transaction_item[(transaction_item.isin(correct_items.index))]\n",
    "\n",
    "    print(\"The number of purchase items with support >=\",min_support,\" is:\",len(correct_items))\n",
    "    print(\"The number of purchase transactions after filtering items with support below min_support is:\", len(transaction_item_filtered))\n",
    "\n",
    "    # Eliminate purchase transactions with less than 2 items\n",
    "    # - create variables \"correct_transaction\" and \"transaction_item_filtered\"\n",
    "    filtered = transaction_item_filtered.index.value_counts()\n",
    "    correct_transaction = np.array(filtered[filtered>=2].index)\n",
    "    transaction_item_filtered = transaction_item_filtered[transaction_item_filtered.index.isin(correct_transaction)]\n",
    "\n",
    "    print(\"The purchase transactions with at least 2 items is formed by\", len(correct_transaction), \"transactions\")\n",
    "    print(\"The size of the purchase transaction dataset after filtering >=min_support and >=2 items is\", len(transaction_item_filtered))\n",
    "\n",
    "    # Recalculate item statistics, i.e. frequency and support\n",
    "    # - create variable \"new_item_statistics\" with \"frequency\" and \"support\" attributes\n",
    "    new_item_statistics = item_frequency(transaction_item_filtered).to_frame('frequency')\n",
    "    new_item_statistics['support'] = 100 * new_item_statistics['frequency']/transactions_count(transaction_item_filtered)\n",
    "    \n",
    "    # Now, call the get_item_pairs function to obtain the pairs items\n",
    "    item_pair_gen= get_item_pairs(transaction_item_filtered)\n",
    "\n",
    "    # For the new purchased item-pairs, calculate the statistics (i.e. frequency_AB and support_AB) and eliminate those not complaint in terms of min_support\n",
    "    # - create variable \"item_pairs\" with attributes \"frequency_AB\" and \"support_AB\"\n",
    "    # - create variable \"item_pairs_filtered\"\n",
    "    item_pairs = item_frequency(item_pair_gen).to_frame('frequency_AB')\n",
    "    item_pairs['support_AB'] = 100 * item_pairs['frequency_AB']/len(correct_transaction)\n",
    "    item_pairs_filtered = item_pairs.loc[(item_pairs['support_AB'] >= min_support)]\n",
    "    \n",
    "    #Let's number of pair-items purchases\n",
    "    print(\"The number of purchased AB item-pairs is:\",len(item_pairs))\n",
    "    print(\"The number of purchased ABitem-pairs with support_AB>=min_support is:\", len(item_pairs_filtered))\n",
    "\n",
    "    # Create a new dataframe (association_rules_items) with the final association rules\n",
    "    # merged with the previous statistics and calculate confidence_A_B, confidence_B_A and lift\n",
    "    # The \"association_rules_items\" dataframe will have the following attributes:\n",
    "    # item_A, item_B, frequency_AB, support_AB, frequency_A, support_A, frequency_B, support_B, confidence_AB, confidence_BA, lift\n",
    "    association_rules_items = create_association_rules(item_pairs_filtered, item_statistics)\n",
    "       \n",
    "    # Order by descending the association_rules_items by lift value.\n",
    "    # - create variable \"association_rules_items_ordered\"\n",
    "    association_rules_items_ordered = association_rules_items.sort_values(by='lift', ascending=False)\n",
    "    \n",
    "    return association_rules_items_ordered"
   ]
  },
  {
   "cell_type": "markdown",
   "metadata": {},
   "source": [
    "[**REPORT**] Create a table with the top 5 association rules. Explain the results. Which are the purchased items with higher lift? What does it mean?."
   ]
  },
  {
   "cell_type": "markdown",
   "metadata": {},
   "source": [
    "If we calculate the association rules for min_support=0.01, your output should look like this:"
   ]
  },
  {
   "cell_type": "code",
   "execution_count": 17,
   "metadata": {},
   "outputs": [
    {
     "name": "stdout",
     "output_type": "stream",
     "text": [
      "       frequency    support\n",
      "24852      14759  14.869031\n",
      "13176      11867  11.955470\n",
      "21137       8138   8.198670\n",
      "21903       7477   7.532742\n",
      "47209       6551   6.599839\n",
      "47766       5379   5.419101\n",
      "47626       4700   4.735039\n",
      "16797       4388   4.420713\n",
      "26209       4317   4.349184\n",
      "27966       4238   4.269595\n",
      "The number of purchase items with support >= 0.01  is: 11325\n",
      "The number of purchase transactions after filtering items with support below min_support is: 927649\n",
      "The purchase transactions with at least 2 items is formed by 93142 transactions\n",
      "The size of the purchase transaction dataset after filtering >=min_support and >=2 items is 922075\n"
     ]
    },
    {
     "name": "stderr",
     "output_type": "stream",
     "text": [
      "C:\\Users\\roger\\Anaconda3\\lib\\site-packages\\ipykernel_launcher.py:2: FutureWarning: Method .as_matrix will be removed in a future version. Use .values instead.\n",
      "  \n"
     ]
    },
    {
     "name": "stdout",
     "output_type": "stream",
     "text": [
      "The number of purchased AB item-pairs is: 3672671\n",
      "The number of purchased ABitem-pairs with support_AB>=min_support is: 51856\n"
     ]
    }
   ],
   "source": [
    "#MY OUTPUT\n",
    "min_support=0.01\n",
    "association_rules_df = association_rules(purchase_transactions_sample_serie, min_support)  "
   ]
  },
  {
   "cell_type": "code",
   "execution_count": 18,
   "metadata": {},
   "outputs": [
    {
     "data": {
      "text/html": [
       "<div>\n",
       "<style scoped>\n",
       "    .dataframe tbody tr th:only-of-type {\n",
       "        vertical-align: middle;\n",
       "    }\n",
       "\n",
       "    .dataframe tbody tr th {\n",
       "        vertical-align: top;\n",
       "    }\n",
       "\n",
       "    .dataframe thead th {\n",
       "        text-align: right;\n",
       "    }\n",
       "</style>\n",
       "<table border=\"1\" class=\"dataframe\">\n",
       "  <thead>\n",
       "    <tr style=\"text-align: right;\">\n",
       "      <th></th>\n",
       "      <th>item_A</th>\n",
       "      <th>item_B</th>\n",
       "      <th>frequency_AB</th>\n",
       "      <th>support_AB</th>\n",
       "      <th>frequency_A</th>\n",
       "      <th>support_A</th>\n",
       "      <th>frequency_B</th>\n",
       "      <th>support_B</th>\n",
       "      <th>confidence_A_B</th>\n",
       "      <th>confidence_B_A</th>\n",
       "      <th>lift</th>\n",
       "    </tr>\n",
       "  </thead>\n",
       "  <tbody>\n",
       "    <tr>\n",
       "      <th>39609</th>\n",
       "      <td>29479</td>\n",
       "      <td>16508</td>\n",
       "      <td>11</td>\n",
       "      <td>0.011810</td>\n",
       "      <td>29</td>\n",
       "      <td>0.029216</td>\n",
       "      <td>33</td>\n",
       "      <td>0.033246</td>\n",
       "      <td>0.379310</td>\n",
       "      <td>0.333333</td>\n",
       "      <td>11.409195</td>\n",
       "    </tr>\n",
       "    <tr>\n",
       "      <th>28389</th>\n",
       "      <td>519</td>\n",
       "      <td>49508</td>\n",
       "      <td>11</td>\n",
       "      <td>0.011810</td>\n",
       "      <td>33</td>\n",
       "      <td>0.033246</td>\n",
       "      <td>34</td>\n",
       "      <td>0.034253</td>\n",
       "      <td>0.333333</td>\n",
       "      <td>0.323529</td>\n",
       "      <td>9.731373</td>\n",
       "    </tr>\n",
       "    <tr>\n",
       "      <th>11051</th>\n",
       "      <td>23953</td>\n",
       "      <td>27553</td>\n",
       "      <td>12</td>\n",
       "      <td>0.012884</td>\n",
       "      <td>38</td>\n",
       "      <td>0.038283</td>\n",
       "      <td>33</td>\n",
       "      <td>0.033246</td>\n",
       "      <td>0.315789</td>\n",
       "      <td>0.363636</td>\n",
       "      <td>9.498565</td>\n",
       "    </tr>\n",
       "    <tr>\n",
       "      <th>45109</th>\n",
       "      <td>29126</td>\n",
       "      <td>36361</td>\n",
       "      <td>10</td>\n",
       "      <td>0.010736</td>\n",
       "      <td>41</td>\n",
       "      <td>0.041306</td>\n",
       "      <td>27</td>\n",
       "      <td>0.027201</td>\n",
       "      <td>0.243902</td>\n",
       "      <td>0.370370</td>\n",
       "      <td>8.966576</td>\n",
       "    </tr>\n",
       "    <tr>\n",
       "      <th>27365</th>\n",
       "      <td>48476</td>\n",
       "      <td>20631</td>\n",
       "      <td>10</td>\n",
       "      <td>0.010736</td>\n",
       "      <td>54</td>\n",
       "      <td>0.054403</td>\n",
       "      <td>21</td>\n",
       "      <td>0.021157</td>\n",
       "      <td>0.185185</td>\n",
       "      <td>0.476190</td>\n",
       "      <td>8.753086</td>\n",
       "    </tr>\n",
       "  </tbody>\n",
       "</table>\n",
       "</div>"
      ],
      "text/plain": [
       "       item_A  item_B  frequency_AB  support_AB  frequency_A  support_A  \\\n",
       "39609   29479   16508            11    0.011810           29   0.029216   \n",
       "28389     519   49508            11    0.011810           33   0.033246   \n",
       "11051   23953   27553            12    0.012884           38   0.038283   \n",
       "45109   29126   36361            10    0.010736           41   0.041306   \n",
       "27365   48476   20631            10    0.010736           54   0.054403   \n",
       "\n",
       "       frequency_B  support_B  confidence_A_B  confidence_B_A       lift  \n",
       "39609           33   0.033246        0.379310        0.333333  11.409195  \n",
       "28389           34   0.034253        0.333333        0.323529   9.731373  \n",
       "11051           33   0.033246        0.315789        0.363636   9.498565  \n",
       "45109           27   0.027201        0.243902        0.370370   8.966576  \n",
       "27365           21   0.021157        0.185185        0.476190   8.753086  "
      ]
     },
     "execution_count": 18,
     "metadata": {},
     "output_type": "execute_result"
    }
   ],
   "source": [
    "#MY OUTPUT\n",
    "association_rules_df.head()"
   ]
  },
  {
   "cell_type": "markdown",
   "metadata": {},
   "source": [
    "Load the `products.csv` dataset that includes each purchased item."
   ]
  },
  {
   "cell_type": "code",
   "execution_count": 19,
   "metadata": {},
   "outputs": [],
   "source": [
    "purchased_item_name = pd.read_csv('Datasets/products.csv')"
   ]
  },
  {
   "cell_type": "markdown",
   "metadata": {},
   "source": [
    "This `purchase_item_name` dataframe should look like this:"
   ]
  },
  {
   "cell_type": "code",
   "execution_count": 20,
   "metadata": {},
   "outputs": [
    {
     "data": {
      "text/html": [
       "<div>\n",
       "<style scoped>\n",
       "    .dataframe tbody tr th:only-of-type {\n",
       "        vertical-align: middle;\n",
       "    }\n",
       "\n",
       "    .dataframe tbody tr th {\n",
       "        vertical-align: top;\n",
       "    }\n",
       "\n",
       "    .dataframe thead th {\n",
       "        text-align: right;\n",
       "    }\n",
       "</style>\n",
       "<table border=\"1\" class=\"dataframe\">\n",
       "  <thead>\n",
       "    <tr style=\"text-align: right;\">\n",
       "      <th></th>\n",
       "      <th>product_id</th>\n",
       "      <th>product_name</th>\n",
       "      <th>aisle_id</th>\n",
       "      <th>department_id</th>\n",
       "    </tr>\n",
       "  </thead>\n",
       "  <tbody>\n",
       "    <tr>\n",
       "      <th>0</th>\n",
       "      <td>1</td>\n",
       "      <td>Chocolate Sandwich Cookies</td>\n",
       "      <td>61</td>\n",
       "      <td>19</td>\n",
       "    </tr>\n",
       "    <tr>\n",
       "      <th>1</th>\n",
       "      <td>2</td>\n",
       "      <td>All-Seasons Salt</td>\n",
       "      <td>104</td>\n",
       "      <td>13</td>\n",
       "    </tr>\n",
       "    <tr>\n",
       "      <th>2</th>\n",
       "      <td>3</td>\n",
       "      <td>Robust Golden Unsweetened Oolong Tea</td>\n",
       "      <td>94</td>\n",
       "      <td>7</td>\n",
       "    </tr>\n",
       "    <tr>\n",
       "      <th>3</th>\n",
       "      <td>4</td>\n",
       "      <td>Smart Ones Classic Favorites Mini Rigatoni Wit...</td>\n",
       "      <td>38</td>\n",
       "      <td>1</td>\n",
       "    </tr>\n",
       "    <tr>\n",
       "      <th>4</th>\n",
       "      <td>5</td>\n",
       "      <td>Green Chile Anytime Sauce</td>\n",
       "      <td>5</td>\n",
       "      <td>13</td>\n",
       "    </tr>\n",
       "  </tbody>\n",
       "</table>\n",
       "</div>"
      ],
      "text/plain": [
       "   product_id                                       product_name  aisle_id  \\\n",
       "0           1                         Chocolate Sandwich Cookies        61   \n",
       "1           2                                   All-Seasons Salt       104   \n",
       "2           3               Robust Golden Unsweetened Oolong Tea        94   \n",
       "3           4  Smart Ones Classic Favorites Mini Rigatoni Wit...        38   \n",
       "4           5                          Green Chile Anytime Sauce         5   \n",
       "\n",
       "   department_id  \n",
       "0             19  \n",
       "1             13  \n",
       "2              7  \n",
       "3              1  \n",
       "4             13  "
      ]
     },
     "execution_count": 20,
     "metadata": {},
     "output_type": "execute_result"
    }
   ],
   "source": [
    "#MY OUTPUT\n",
    "purchased_item_name.head()"
   ]
  },
  {
   "cell_type": "markdown",
   "metadata": {},
   "source": [
    "[**CODE**] Create a merge function (`merge_product_name_item_id(product_name, association_rules)` )that replaces item_A and item_B ids with corresponding product_name in the `association_rules`dataframe."
   ]
  },
  {
   "cell_type": "code",
   "execution_count": 21,
   "metadata": {},
   "outputs": [],
   "source": [
    "def merge_product_name_item_id(product_name, association_rules):\n",
    "    columns = ['itemA','itemB','frequency_AB','support_AB','frequency_A','support_A','frequency_B','support_B', \n",
    "               'confidence_A_B','confidence_B_A','lift']\n",
    "    #WRITE YOUR CODE  \n",
    "    itemA = []\n",
    "    itemB = []\n",
    "    \n",
    "    for index, row in association_rules.iterrows():\n",
    "        itemA.append(product_name.loc[int(row['item_A']) - 1]['product_name'])\n",
    "        itemB.append(product_name.loc[int(row['item_B']) -1]['product_name'])\n",
    "    association_rules['itemA'] = itemA\n",
    "    association_rules['itemB'] = itemB\n",
    "    return association_rules[columns]"
   ]
  },
  {
   "cell_type": "markdown",
   "metadata": {},
   "source": [
    "Finally, we execute the `merge_product_name_item_id` to generate the association rules with product name."
   ]
  },
  {
   "cell_type": "code",
   "execution_count": 22,
   "metadata": {},
   "outputs": [],
   "source": [
    "association_rules_w_product_name = merge_product_name_item_id(purchased_item_name, association_rules_df).sort_values('lift', ascending=False)"
   ]
  },
  {
   "cell_type": "markdown",
   "metadata": {},
   "source": [
    "[**REPORT**] Create a table with the top 5 product-pairs based on lift value. Explain the results according to the statistics results."
   ]
  },
  {
   "cell_type": "code",
   "execution_count": 23,
   "metadata": {},
   "outputs": [
    {
     "data": {
      "text/html": [
       "<div>\n",
       "<style scoped>\n",
       "    .dataframe tbody tr th:only-of-type {\n",
       "        vertical-align: middle;\n",
       "    }\n",
       "\n",
       "    .dataframe tbody tr th {\n",
       "        vertical-align: top;\n",
       "    }\n",
       "\n",
       "    .dataframe thead th {\n",
       "        text-align: right;\n",
       "    }\n",
       "</style>\n",
       "<table border=\"1\" class=\"dataframe\">\n",
       "  <thead>\n",
       "    <tr style=\"text-align: right;\">\n",
       "      <th></th>\n",
       "      <th>itemA</th>\n",
       "      <th>itemB</th>\n",
       "      <th>frequency_AB</th>\n",
       "      <th>support_AB</th>\n",
       "      <th>frequency_A</th>\n",
       "      <th>support_A</th>\n",
       "      <th>frequency_B</th>\n",
       "      <th>support_B</th>\n",
       "      <th>confidence_A_B</th>\n",
       "      <th>confidence_B_A</th>\n",
       "      <th>lift</th>\n",
       "    </tr>\n",
       "  </thead>\n",
       "  <tbody>\n",
       "    <tr>\n",
       "      <th>39609</th>\n",
       "      <td>Gobble Gobble Turkey Pouch Stage 3</td>\n",
       "      <td>Stage 3 Hearty Meals - Chick Chick Organic Bab...</td>\n",
       "      <td>11</td>\n",
       "      <td>0.011810</td>\n",
       "      <td>29</td>\n",
       "      <td>0.029216</td>\n",
       "      <td>33</td>\n",
       "      <td>0.033246</td>\n",
       "      <td>0.379310</td>\n",
       "      <td>0.333333</td>\n",
       "      <td>11.409195</td>\n",
       "    </tr>\n",
       "    <tr>\n",
       "      <th>28389</th>\n",
       "      <td>Antioxidant Infusions Brasilia Blueberry</td>\n",
       "      <td>Antioxidant Infusions Costa Rica Clementine</td>\n",
       "      <td>11</td>\n",
       "      <td>0.011810</td>\n",
       "      <td>33</td>\n",
       "      <td>0.033246</td>\n",
       "      <td>34</td>\n",
       "      <td>0.034253</td>\n",
       "      <td>0.333333</td>\n",
       "      <td>0.323529</td>\n",
       "      <td>9.731373</td>\n",
       "    </tr>\n",
       "    <tr>\n",
       "      <th>11051</th>\n",
       "      <td>Cream on Top Strawberry Organic Yogurt</td>\n",
       "      <td>Organic Blueberry Cream On Top Whole Milk Yogurt</td>\n",
       "      <td>12</td>\n",
       "      <td>0.012884</td>\n",
       "      <td>38</td>\n",
       "      <td>0.038283</td>\n",
       "      <td>33</td>\n",
       "      <td>0.033246</td>\n",
       "      <td>0.315789</td>\n",
       "      <td>0.363636</td>\n",
       "      <td>9.498565</td>\n",
       "    </tr>\n",
       "    <tr>\n",
       "      <th>45109</th>\n",
       "      <td>Organic Strawberry Chia Lowfat 2% Cottage Cheese</td>\n",
       "      <td>Organic Cottage Cheese Blueberry Acai Chia</td>\n",
       "      <td>10</td>\n",
       "      <td>0.010736</td>\n",
       "      <td>41</td>\n",
       "      <td>0.041306</td>\n",
       "      <td>27</td>\n",
       "      <td>0.027201</td>\n",
       "      <td>0.243902</td>\n",
       "      <td>0.370370</td>\n",
       "      <td>8.966576</td>\n",
       "    </tr>\n",
       "    <tr>\n",
       "      <th>27365</th>\n",
       "      <td>Tender Chicken &amp; Stars Stage 3</td>\n",
       "      <td>Organic Spring Vegetables &amp; Pasta Stage 3 Baby...</td>\n",
       "      <td>10</td>\n",
       "      <td>0.010736</td>\n",
       "      <td>54</td>\n",
       "      <td>0.054403</td>\n",
       "      <td>21</td>\n",
       "      <td>0.021157</td>\n",
       "      <td>0.185185</td>\n",
       "      <td>0.476190</td>\n",
       "      <td>8.753086</td>\n",
       "    </tr>\n",
       "  </tbody>\n",
       "</table>\n",
       "</div>"
      ],
      "text/plain": [
       "                                                  itemA  \\\n",
       "39609                Gobble Gobble Turkey Pouch Stage 3   \n",
       "28389          Antioxidant Infusions Brasilia Blueberry   \n",
       "11051            Cream on Top Strawberry Organic Yogurt   \n",
       "45109  Organic Strawberry Chia Lowfat 2% Cottage Cheese   \n",
       "27365                    Tender Chicken & Stars Stage 3   \n",
       "\n",
       "                                                   itemB  frequency_AB  \\\n",
       "39609  Stage 3 Hearty Meals - Chick Chick Organic Bab...            11   \n",
       "28389        Antioxidant Infusions Costa Rica Clementine            11   \n",
       "11051   Organic Blueberry Cream On Top Whole Milk Yogurt            12   \n",
       "45109         Organic Cottage Cheese Blueberry Acai Chia            10   \n",
       "27365  Organic Spring Vegetables & Pasta Stage 3 Baby...            10   \n",
       "\n",
       "       support_AB  frequency_A  support_A  frequency_B  support_B  \\\n",
       "39609    0.011810           29   0.029216           33   0.033246   \n",
       "28389    0.011810           33   0.033246           34   0.034253   \n",
       "11051    0.012884           38   0.038283           33   0.033246   \n",
       "45109    0.010736           41   0.041306           27   0.027201   \n",
       "27365    0.010736           54   0.054403           21   0.021157   \n",
       "\n",
       "       confidence_A_B  confidence_B_A       lift  \n",
       "39609        0.379310        0.333333  11.409195  \n",
       "28389        0.333333        0.323529   9.731373  \n",
       "11051        0.315789        0.363636   9.498565  \n",
       "45109        0.243902        0.370370   8.966576  \n",
       "27365        0.185185        0.476190   8.753086  "
      ]
     },
     "execution_count": 23,
     "metadata": {},
     "output_type": "execute_result"
    }
   ],
   "source": [
    "#MY OUTPUT\n",
    "association_rules_w_product_name.head()"
   ]
  },
  {
   "cell_type": "markdown",
   "metadata": {},
   "source": [
    "[**REPORT**] Create a table with the last 5 product-pairs based on lift value. Explain the results according to the statistics results."
   ]
  },
  {
   "cell_type": "code",
   "execution_count": 24,
   "metadata": {},
   "outputs": [
    {
     "data": {
      "text/html": [
       "<div>\n",
       "<style scoped>\n",
       "    .dataframe tbody tr th:only-of-type {\n",
       "        vertical-align: middle;\n",
       "    }\n",
       "\n",
       "    .dataframe tbody tr th {\n",
       "        vertical-align: top;\n",
       "    }\n",
       "\n",
       "    .dataframe thead th {\n",
       "        text-align: right;\n",
       "    }\n",
       "</style>\n",
       "<table border=\"1\" class=\"dataframe\">\n",
       "  <thead>\n",
       "    <tr style=\"text-align: right;\">\n",
       "      <th></th>\n",
       "      <th>itemA</th>\n",
       "      <th>itemB</th>\n",
       "      <th>frequency_AB</th>\n",
       "      <th>support_AB</th>\n",
       "      <th>frequency_A</th>\n",
       "      <th>support_A</th>\n",
       "      <th>frequency_B</th>\n",
       "      <th>support_B</th>\n",
       "      <th>confidence_A_B</th>\n",
       "      <th>confidence_B_A</th>\n",
       "      <th>lift</th>\n",
       "    </tr>\n",
       "  </thead>\n",
       "  <tbody>\n",
       "    <tr>\n",
       "      <th>38052</th>\n",
       "      <td>Strawberries</td>\n",
       "      <td>Organic Strawberries</td>\n",
       "      <td>23</td>\n",
       "      <td>0.024693</td>\n",
       "      <td>4388</td>\n",
       "      <td>4.420713</td>\n",
       "      <td>8138</td>\n",
       "      <td>8.198670</td>\n",
       "      <td>0.005242</td>\n",
       "      <td>0.002826</td>\n",
       "      <td>0.000639</td>\n",
       "    </tr>\n",
       "    <tr>\n",
       "      <th>24016</th>\n",
       "      <td>Organic Avocado</td>\n",
       "      <td>Organic Hass Avocado</td>\n",
       "      <td>12</td>\n",
       "      <td>0.012884</td>\n",
       "      <td>5379</td>\n",
       "      <td>5.419101</td>\n",
       "      <td>6551</td>\n",
       "      <td>6.599839</td>\n",
       "      <td>0.002231</td>\n",
       "      <td>0.001832</td>\n",
       "      <td>0.000338</td>\n",
       "    </tr>\n",
       "    <tr>\n",
       "      <th>7595</th>\n",
       "      <td>Organic Hass Avocado</td>\n",
       "      <td>Organic Avocado</td>\n",
       "      <td>11</td>\n",
       "      <td>0.011810</td>\n",
       "      <td>6551</td>\n",
       "      <td>6.599839</td>\n",
       "      <td>5379</td>\n",
       "      <td>5.419101</td>\n",
       "      <td>0.001679</td>\n",
       "      <td>0.002045</td>\n",
       "      <td>0.000310</td>\n",
       "    </tr>\n",
       "    <tr>\n",
       "      <th>23553</th>\n",
       "      <td>Banana</td>\n",
       "      <td>Bag of Organic Bananas</td>\n",
       "      <td>24</td>\n",
       "      <td>0.025767</td>\n",
       "      <td>14759</td>\n",
       "      <td>14.869031</td>\n",
       "      <td>11867</td>\n",
       "      <td>11.955470</td>\n",
       "      <td>0.001626</td>\n",
       "      <td>0.002022</td>\n",
       "      <td>0.000136</td>\n",
       "    </tr>\n",
       "    <tr>\n",
       "      <th>46474</th>\n",
       "      <td>Bag of Organic Bananas</td>\n",
       "      <td>Banana</td>\n",
       "      <td>16</td>\n",
       "      <td>0.017178</td>\n",
       "      <td>11867</td>\n",
       "      <td>11.955470</td>\n",
       "      <td>14759</td>\n",
       "      <td>14.869031</td>\n",
       "      <td>0.001348</td>\n",
       "      <td>0.001084</td>\n",
       "      <td>0.000091</td>\n",
       "    </tr>\n",
       "  </tbody>\n",
       "</table>\n",
       "</div>"
      ],
      "text/plain": [
       "                        itemA                   itemB  frequency_AB  \\\n",
       "38052            Strawberries    Organic Strawberries            23   \n",
       "24016         Organic Avocado    Organic Hass Avocado            12   \n",
       "7595     Organic Hass Avocado         Organic Avocado            11   \n",
       "23553                  Banana  Bag of Organic Bananas            24   \n",
       "46474  Bag of Organic Bananas                  Banana            16   \n",
       "\n",
       "       support_AB  frequency_A  support_A  frequency_B  support_B  \\\n",
       "38052    0.024693         4388   4.420713         8138   8.198670   \n",
       "24016    0.012884         5379   5.419101         6551   6.599839   \n",
       "7595     0.011810         6551   6.599839         5379   5.419101   \n",
       "23553    0.025767        14759  14.869031        11867  11.955470   \n",
       "46474    0.017178        11867  11.955470        14759  14.869031   \n",
       "\n",
       "       confidence_A_B  confidence_B_A      lift  \n",
       "38052        0.005242        0.002826  0.000639  \n",
       "24016        0.002231        0.001832  0.000338  \n",
       "7595         0.001679        0.002045  0.000310  \n",
       "23553        0.001626        0.002022  0.000136  \n",
       "46474        0.001348        0.001084  0.000091  "
      ]
     },
     "execution_count": 24,
     "metadata": {},
     "output_type": "execute_result"
    }
   ],
   "source": [
    "#MY OUTPUT\n",
    "association_rules_w_product_name.tail()"
   ]
  },
  {
   "cell_type": "markdown",
   "metadata": {},
   "source": [
    "At this point, your tables should look like this:"
   ]
  },
  {
   "cell_type": "code",
   "execution_count": 25,
   "metadata": {},
   "outputs": [
    {
     "data": {
      "text/html": [
       "<div>\n",
       "<style scoped>\n",
       "    .dataframe tbody tr th:only-of-type {\n",
       "        vertical-align: middle;\n",
       "    }\n",
       "\n",
       "    .dataframe tbody tr th {\n",
       "        vertical-align: top;\n",
       "    }\n",
       "\n",
       "    .dataframe thead th {\n",
       "        text-align: right;\n",
       "    }\n",
       "</style>\n",
       "<table border=\"1\" class=\"dataframe\">\n",
       "  <thead>\n",
       "    <tr style=\"text-align: right;\">\n",
       "      <th></th>\n",
       "      <th>itemA</th>\n",
       "      <th>itemB</th>\n",
       "      <th>frequency_AB</th>\n",
       "      <th>support_AB</th>\n",
       "      <th>frequency_A</th>\n",
       "      <th>support_A</th>\n",
       "      <th>frequency_B</th>\n",
       "      <th>support_B</th>\n",
       "      <th>confidence_A_B</th>\n",
       "      <th>confidence_B_A</th>\n",
       "      <th>lift</th>\n",
       "    </tr>\n",
       "  </thead>\n",
       "  <tbody>\n",
       "    <tr>\n",
       "      <th>39609</th>\n",
       "      <td>Gobble Gobble Turkey Pouch Stage 3</td>\n",
       "      <td>Stage 3 Hearty Meals - Chick Chick Organic Bab...</td>\n",
       "      <td>11</td>\n",
       "      <td>0.011810</td>\n",
       "      <td>29</td>\n",
       "      <td>0.029216</td>\n",
       "      <td>33</td>\n",
       "      <td>0.033246</td>\n",
       "      <td>0.379310</td>\n",
       "      <td>0.333333</td>\n",
       "      <td>11.409195</td>\n",
       "    </tr>\n",
       "    <tr>\n",
       "      <th>28389</th>\n",
       "      <td>Antioxidant Infusions Brasilia Blueberry</td>\n",
       "      <td>Antioxidant Infusions Costa Rica Clementine</td>\n",
       "      <td>11</td>\n",
       "      <td>0.011810</td>\n",
       "      <td>33</td>\n",
       "      <td>0.033246</td>\n",
       "      <td>34</td>\n",
       "      <td>0.034253</td>\n",
       "      <td>0.333333</td>\n",
       "      <td>0.323529</td>\n",
       "      <td>9.731373</td>\n",
       "    </tr>\n",
       "    <tr>\n",
       "      <th>11051</th>\n",
       "      <td>Cream on Top Strawberry Organic Yogurt</td>\n",
       "      <td>Organic Blueberry Cream On Top Whole Milk Yogurt</td>\n",
       "      <td>12</td>\n",
       "      <td>0.012884</td>\n",
       "      <td>38</td>\n",
       "      <td>0.038283</td>\n",
       "      <td>33</td>\n",
       "      <td>0.033246</td>\n",
       "      <td>0.315789</td>\n",
       "      <td>0.363636</td>\n",
       "      <td>9.498565</td>\n",
       "    </tr>\n",
       "    <tr>\n",
       "      <th>45109</th>\n",
       "      <td>Organic Strawberry Chia Lowfat 2% Cottage Cheese</td>\n",
       "      <td>Organic Cottage Cheese Blueberry Acai Chia</td>\n",
       "      <td>10</td>\n",
       "      <td>0.010736</td>\n",
       "      <td>41</td>\n",
       "      <td>0.041306</td>\n",
       "      <td>27</td>\n",
       "      <td>0.027201</td>\n",
       "      <td>0.243902</td>\n",
       "      <td>0.370370</td>\n",
       "      <td>8.966576</td>\n",
       "    </tr>\n",
       "    <tr>\n",
       "      <th>27365</th>\n",
       "      <td>Tender Chicken &amp; Stars Stage 3</td>\n",
       "      <td>Organic Spring Vegetables &amp; Pasta Stage 3 Baby...</td>\n",
       "      <td>10</td>\n",
       "      <td>0.010736</td>\n",
       "      <td>54</td>\n",
       "      <td>0.054403</td>\n",
       "      <td>21</td>\n",
       "      <td>0.021157</td>\n",
       "      <td>0.185185</td>\n",
       "      <td>0.476190</td>\n",
       "      <td>8.753086</td>\n",
       "    </tr>\n",
       "  </tbody>\n",
       "</table>\n",
       "</div>"
      ],
      "text/plain": [
       "                                                  itemA  \\\n",
       "39609                Gobble Gobble Turkey Pouch Stage 3   \n",
       "28389          Antioxidant Infusions Brasilia Blueberry   \n",
       "11051            Cream on Top Strawberry Organic Yogurt   \n",
       "45109  Organic Strawberry Chia Lowfat 2% Cottage Cheese   \n",
       "27365                    Tender Chicken & Stars Stage 3   \n",
       "\n",
       "                                                   itemB  frequency_AB  \\\n",
       "39609  Stage 3 Hearty Meals - Chick Chick Organic Bab...            11   \n",
       "28389        Antioxidant Infusions Costa Rica Clementine            11   \n",
       "11051   Organic Blueberry Cream On Top Whole Milk Yogurt            12   \n",
       "45109         Organic Cottage Cheese Blueberry Acai Chia            10   \n",
       "27365  Organic Spring Vegetables & Pasta Stage 3 Baby...            10   \n",
       "\n",
       "       support_AB  frequency_A  support_A  frequency_B  support_B  \\\n",
       "39609    0.011810           29   0.029216           33   0.033246   \n",
       "28389    0.011810           33   0.033246           34   0.034253   \n",
       "11051    0.012884           38   0.038283           33   0.033246   \n",
       "45109    0.010736           41   0.041306           27   0.027201   \n",
       "27365    0.010736           54   0.054403           21   0.021157   \n",
       "\n",
       "       confidence_A_B  confidence_B_A       lift  \n",
       "39609        0.379310        0.333333  11.409195  \n",
       "28389        0.333333        0.323529   9.731373  \n",
       "11051        0.315789        0.363636   9.498565  \n",
       "45109        0.243902        0.370370   8.966576  \n",
       "27365        0.185185        0.476190   8.753086  "
      ]
     },
     "execution_count": 25,
     "metadata": {},
     "output_type": "execute_result"
    }
   ],
   "source": [
    "#ORIGINAL OUTPUT\n",
    "association_rules_w_product_name.head()"
   ]
  },
  {
   "cell_type": "code",
   "execution_count": 26,
   "metadata": {},
   "outputs": [
    {
     "data": {
      "text/html": [
       "<div>\n",
       "<style scoped>\n",
       "    .dataframe tbody tr th:only-of-type {\n",
       "        vertical-align: middle;\n",
       "    }\n",
       "\n",
       "    .dataframe tbody tr th {\n",
       "        vertical-align: top;\n",
       "    }\n",
       "\n",
       "    .dataframe thead th {\n",
       "        text-align: right;\n",
       "    }\n",
       "</style>\n",
       "<table border=\"1\" class=\"dataframe\">\n",
       "  <thead>\n",
       "    <tr style=\"text-align: right;\">\n",
       "      <th></th>\n",
       "      <th>itemA</th>\n",
       "      <th>itemB</th>\n",
       "      <th>frequency_AB</th>\n",
       "      <th>support_AB</th>\n",
       "      <th>frequency_A</th>\n",
       "      <th>support_A</th>\n",
       "      <th>frequency_B</th>\n",
       "      <th>support_B</th>\n",
       "      <th>confidence_A_B</th>\n",
       "      <th>confidence_B_A</th>\n",
       "      <th>lift</th>\n",
       "    </tr>\n",
       "  </thead>\n",
       "  <tbody>\n",
       "    <tr>\n",
       "      <th>38052</th>\n",
       "      <td>Strawberries</td>\n",
       "      <td>Organic Strawberries</td>\n",
       "      <td>23</td>\n",
       "      <td>0.024693</td>\n",
       "      <td>4388</td>\n",
       "      <td>4.420713</td>\n",
       "      <td>8138</td>\n",
       "      <td>8.198670</td>\n",
       "      <td>0.005242</td>\n",
       "      <td>0.002826</td>\n",
       "      <td>0.000639</td>\n",
       "    </tr>\n",
       "    <tr>\n",
       "      <th>24016</th>\n",
       "      <td>Organic Avocado</td>\n",
       "      <td>Organic Hass Avocado</td>\n",
       "      <td>12</td>\n",
       "      <td>0.012884</td>\n",
       "      <td>5379</td>\n",
       "      <td>5.419101</td>\n",
       "      <td>6551</td>\n",
       "      <td>6.599839</td>\n",
       "      <td>0.002231</td>\n",
       "      <td>0.001832</td>\n",
       "      <td>0.000338</td>\n",
       "    </tr>\n",
       "    <tr>\n",
       "      <th>7595</th>\n",
       "      <td>Organic Hass Avocado</td>\n",
       "      <td>Organic Avocado</td>\n",
       "      <td>11</td>\n",
       "      <td>0.011810</td>\n",
       "      <td>6551</td>\n",
       "      <td>6.599839</td>\n",
       "      <td>5379</td>\n",
       "      <td>5.419101</td>\n",
       "      <td>0.001679</td>\n",
       "      <td>0.002045</td>\n",
       "      <td>0.000310</td>\n",
       "    </tr>\n",
       "    <tr>\n",
       "      <th>23553</th>\n",
       "      <td>Banana</td>\n",
       "      <td>Bag of Organic Bananas</td>\n",
       "      <td>24</td>\n",
       "      <td>0.025767</td>\n",
       "      <td>14759</td>\n",
       "      <td>14.869031</td>\n",
       "      <td>11867</td>\n",
       "      <td>11.955470</td>\n",
       "      <td>0.001626</td>\n",
       "      <td>0.002022</td>\n",
       "      <td>0.000136</td>\n",
       "    </tr>\n",
       "    <tr>\n",
       "      <th>46474</th>\n",
       "      <td>Bag of Organic Bananas</td>\n",
       "      <td>Banana</td>\n",
       "      <td>16</td>\n",
       "      <td>0.017178</td>\n",
       "      <td>11867</td>\n",
       "      <td>11.955470</td>\n",
       "      <td>14759</td>\n",
       "      <td>14.869031</td>\n",
       "      <td>0.001348</td>\n",
       "      <td>0.001084</td>\n",
       "      <td>0.000091</td>\n",
       "    </tr>\n",
       "  </tbody>\n",
       "</table>\n",
       "</div>"
      ],
      "text/plain": [
       "                        itemA                   itemB  frequency_AB  \\\n",
       "38052            Strawberries    Organic Strawberries            23   \n",
       "24016         Organic Avocado    Organic Hass Avocado            12   \n",
       "7595     Organic Hass Avocado         Organic Avocado            11   \n",
       "23553                  Banana  Bag of Organic Bananas            24   \n",
       "46474  Bag of Organic Bananas                  Banana            16   \n",
       "\n",
       "       support_AB  frequency_A  support_A  frequency_B  support_B  \\\n",
       "38052    0.024693         4388   4.420713         8138   8.198670   \n",
       "24016    0.012884         5379   5.419101         6551   6.599839   \n",
       "7595     0.011810         6551   6.599839         5379   5.419101   \n",
       "23553    0.025767        14759  14.869031        11867  11.955470   \n",
       "46474    0.017178        11867  11.955470        14759  14.869031   \n",
       "\n",
       "       confidence_A_B  confidence_B_A      lift  \n",
       "38052        0.005242        0.002826  0.000639  \n",
       "24016        0.002231        0.001832  0.000338  \n",
       "7595         0.001679        0.002045  0.000310  \n",
       "23553        0.001626        0.002022  0.000136  \n",
       "46474        0.001348        0.001084  0.000091  "
      ]
     },
     "execution_count": 26,
     "metadata": {},
     "output_type": "execute_result"
    }
   ],
   "source": [
    "#ORIGINAL OUTPUT\n",
    "association_rules_w_product_name.tail()"
   ]
  },
  {
   "cell_type": "markdown",
   "metadata": {},
   "source": [
    "[**REPORT**] Considering the previous results:\n",
    "\n",
    "- As Data Scientist, which is your main recommendation to increase sales? Explain why\n",
    "- When a customer purchases **Gobble Gobble Turkey Pouch Stage 3**, which is the product that uses to buy too? Why?\n",
    "- Indicate two products that do **NOT** tend to appear together. Why? "
   ]
  },
  {
   "cell_type": "markdown",
   "metadata": {},
   "source": [
    "# Deliver"
   ]
  },
  {
   "cell_type": "markdown",
   "metadata": {},
   "source": [
    "Deliver:\n",
    "\n",
    "* A zip file containing your notebook (.ipynb file) with all the [**CODE**] parts implemented.\n",
    "* A 4-pages PDF report including all parts of this notebook marked with \"[**REPORT**]\"\n",
    "\n",
    "The report should end with the following statement: **We hereby declare that, except for the code provided by the course instructors, all of our code, report, and figures were produced by ourselves.**"
   ]
  }
 ],
 "metadata": {
  "kernelspec": {
   "display_name": "Python 3",
   "language": "python",
   "name": "python3"
  },
  "language_info": {
   "codemirror_mode": {
    "name": "ipython",
    "version": 3
   },
   "file_extension": ".py",
   "mimetype": "text/x-python",
   "name": "python",
   "nbconvert_exporter": "python",
   "pygments_lexer": "ipython3",
   "version": "3.7.4"
  }
 },
 "nbformat": 4,
 "nbformat_minor": 2
}
